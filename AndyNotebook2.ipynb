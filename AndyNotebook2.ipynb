{
 "cells": [
  {
   "cell_type": "code",
   "execution_count": 1,
   "metadata": {},
   "outputs": [],
   "source": [
    "#following along with CNN - Codealong\n",
    "#for create new folders and move the new files in there\n",
    "import os, shutil"
   ]
  },
  {
   "cell_type": "code",
   "execution_count": 2,
   "metadata": {},
   "outputs": [],
   "source": [
    "import time\n",
    "import matplotlib.pyplot as plt\n",
    "import scipy\n",
    "import numpy as np\n",
    "from PIL import Image\n",
    "from scipy import ndimage\n",
    "from keras.preprocessing.image import ImageDataGenerator, array_to_img, img_to_array, load_img\n",
    "import warnings\n",
    "warnings.filterwarnings('ignore')\n",
    "\n",
    "\n",
    "from numpy.random import seed\n",
    "seed(42)\n",
    "\n",
    "import os\n",
    "import tqdm\n",
    "from os import walk\n",
    "\n",
    "import numpy as np\n",
    "import pandas as pd\n",
    "import tensorflow as tf\n",
    "from matplotlib import pyplot as plt"
   ]
  },
  {
   "cell_type": "code",
   "execution_count": 3,
   "metadata": {},
   "outputs": [],
   "source": [
    "DataAug = ImageDataGenerator(\n",
    "    featurewise_center=False,  # set input mean to 0 over the dataset\n",
    "    samplewise_center=False,  # set each sample mean to 0\n",
    "    featurewise_std_normalization=False,  # divide inputs by std of the dataset\n",
    "    samplewise_std_normalization=False,  # divide each input by its std\n",
    "    zca_whitening=False,  # apply ZCA whitening\n",
    "    rotation_range = 45,  # randomly rotate images in the range (degrees, 0 to 180)\n",
    "    zoom_range = 0.2, # Randomly zoom image \n",
    "    width_shift_range=0.15,  # randomly shift images horizontally (fraction of total width)\n",
    "    height_shift_range=0.15,  # randomly shift images vertically (fraction of total height)\n",
    "    horizontal_flip = True,  # randomly flip images\n",
    "    vertical_flip=False)  # randomly flip images"
   ]
  },
  {
   "cell_type": "code",
   "execution_count": 4,
   "metadata": {},
   "outputs": [
    {
     "name": "stdout",
     "output_type": "stream",
     "text": [
      "Found 624 images belonging to 2 classes.\n",
      "Found 16 images belonging to 2 classes.\n",
      "Found 5216 images belonging to 2 classes.\n"
     ]
    }
   ],
   "source": [
    "# get all the data in the directory xray/test (624 images), and reshape them\n",
    "test_generator_base = ImageDataGenerator(rescale= 1./255).flow_from_directory(\"Data/chest_xray/chest_xray/test/\",\n",
    "                                                                         batch_size = 624)\n",
    "\n",
    "# get all the data in the directory xray/val (16 images), and reshape them\n",
    "val_generator_base = ImageDataGenerator(1./255).flow_from_directory(\"Data/chest_xray/chest_xray/val/\",\n",
    "                                                               batch_size = 16)\n",
    "\n",
    "# get all the data in the directory xray/train (5216 images), and reshape them\n",
    "train_generator_base = ImageDataGenerator(1./255).flow_from_directory(\"Data/chest_xray/chest_xray/train/\",\n",
    "                                              batch_size = 5216)"
   ]
  },
  {
   "cell_type": "code",
   "execution_count": 5,
   "metadata": {},
   "outputs": [],
   "source": [
    "train_images, train_labels = next(train_generator_base)\n",
    "\n",
    "test_images, test_labels = next(test_generator_base)\n",
    "\n",
    "val_images, val_labels = next(val_generator_base)"
   ]
  },
  {
   "cell_type": "code",
   "execution_count": 6,
   "metadata": {},
   "outputs": [
    {
     "data": {
      "text/plain": [
       "5216"
      ]
     },
     "execution_count": 6,
     "metadata": {},
     "output_type": "execute_result"
    }
   ],
   "source": [
    "len(train_labels)"
   ]
  },
  {
   "cell_type": "code",
   "execution_count": 7,
   "metadata": {},
   "outputs": [],
   "source": [
    "# data_aug = data_aug()\n",
    "# data_aug.fit(train_images)"
   ]
  },
  {
   "cell_type": "code",
   "execution_count": 7,
   "metadata": {},
   "outputs": [
    {
     "name": "stdout",
     "output_type": "stream",
     "text": [
      "Number of training samples: 5216\n",
      "Number of testing samples: 624\n",
      "Number of validation samples: 16\n",
      "train_images shape: (5216, 256, 256, 3)\n",
      "train_labels shape: (5216, 2)\n",
      "test_images shape: (624, 256, 256, 3)\n",
      "test_labels shape: (624, 2)\n",
      "val_images shape: (16, 256, 256, 3)\n",
      "val_labels shape: (16, 2)\n"
     ]
    }
   ],
   "source": [
    "# Explore your dataset again\n",
    "m_train = train_images.shape[0]\n",
    "num_px = train_images.shape[1]\n",
    "m_test = test_images.shape[0]\n",
    "m_val = val_images.shape[0]\n",
    "\n",
    "print (\"Number of training samples: \" + str(m_train))\n",
    "print (\"Number of testing samples: \" + str(m_test))\n",
    "print (\"Number of validation samples: \" + str(m_val))\n",
    "print (\"train_images shape: \" + str(train_images.shape))\n",
    "print (\"train_labels shape: \" + str(train_labels.shape))\n",
    "print (\"test_images shape: \" + str(test_images.shape))\n",
    "print (\"test_labels shape: \" + str(test_labels.shape))\n",
    "print (\"val_images shape: \" + str(val_images.shape))\n",
    "print (\"val_labels shape: \" + str(val_labels.shape))"
   ]
  },
  {
   "cell_type": "code",
   "execution_count": 8,
   "metadata": {},
   "outputs": [
    {
     "name": "stdout",
     "output_type": "stream",
     "text": [
      "Found 624 images belonging to 2 classes.\n",
      "Found 16 images belonging to 2 classes.\n",
      "Found 5216 images belonging to 2 classes.\n"
     ]
    }
   ],
   "source": [
    "# get all the data in the directory xray/test (624 images), and reshape them\n",
    "test_generator = DataAug.flow_from_directory(\"Data/chest_xray/chest_xray/test/\", \n",
    "                                                                              batch_size = 624, \n",
    "                                                                             color_mode= \"grayscale\")\n",
    "\n",
    "# get all the data in the directory xray/val (16 images), and reshape them\n",
    "val_generator = DataAug.flow_from_directory(\"Data/chest_xray/chest_xray/val/\", \n",
    "                                                                    batch_size = 16,\n",
    "                                                                   color_mode= \"grayscale\")\n",
    "\n",
    "# get all the data in the directory xray/train (5216 images), and reshape them\n",
    "train_generator = DataAug.flow_from_directory(\"Data/chest_xray/chest_xray/train/\", \n",
    "                                                                      batch_size = 5216, \n",
    "                                                                     color_mode= \"grayscale\")"
   ]
  },
  {
   "cell_type": "code",
   "execution_count": 9,
   "metadata": {},
   "outputs": [],
   "source": [
    "train_images, train_labels = next(train_generator)\n",
    "\n",
    "test_images, test_labels = next(test_generator)\n",
    "\n",
    "val_images, val_labels = next(val_generator)"
   ]
  },
  {
   "cell_type": "code",
   "execution_count": 10,
   "metadata": {},
   "outputs": [
    {
     "name": "stdout",
     "output_type": "stream",
     "text": [
      "Number of training samples: 5216\n",
      "Number of testing samples: 624\n",
      "Number of validation samples: 16\n",
      "train_images shape: (5216, 256, 256, 1)\n",
      "train_labels shape: (5216, 2)\n",
      "test_images shape: (624, 256, 256, 1)\n",
      "test_labels shape: (624, 2)\n",
      "val_images shape: (16, 256, 256, 1)\n",
      "val_labels shape: (16, 2)\n"
     ]
    }
   ],
   "source": [
    "# Explore your dataset again\n",
    "m_train = train_images.shape[0]\n",
    "num_px = train_images.shape[1]\n",
    "m_test = test_images.shape[0]\n",
    "m_val = val_images.shape[0]\n",
    "\n",
    "print (\"Number of training samples: \" + str(m_train))\n",
    "print (\"Number of testing samples: \" + str(m_test))\n",
    "print (\"Number of validation samples: \" + str(m_val))\n",
    "print (\"train_images shape: \" + str(train_images.shape))\n",
    "print (\"train_labels shape: \" + str(train_labels.shape))\n",
    "print (\"test_images shape: \" + str(test_images.shape))\n",
    "print (\"test_labels shape: \" + str(test_labels.shape))\n",
    "print (\"val_images shape: \" + str(val_images.shape))\n",
    "print (\"val_labels shape: \" + str(val_labels.shape))"
   ]
  },
  {
   "cell_type": "code",
   "execution_count": 11,
   "metadata": {},
   "outputs": [
    {
     "name": "stdout",
     "output_type": "stream",
     "text": [
      "(5216, 65536)\n",
      "(624, 65536)\n",
      "(16, 65536)\n"
     ]
    }
   ],
   "source": [
    "#reshaping data\n",
    "train_img = train_images.reshape(train_images.shape[0], -1)\n",
    "test_img = test_images.reshape(test_images.shape[0], -1)\n",
    "val_img = val_images.reshape(val_images.shape[0], -1)\n",
    "\n",
    "print(train_img.shape)\n",
    "print(test_img.shape)\n",
    "print(val_img.shape)"
   ]
  },
  {
   "cell_type": "raw",
   "metadata": {},
   "source": [
    "train_labels"
   ]
  },
  {
   "cell_type": "code",
   "execution_count": 12,
   "metadata": {},
   "outputs": [],
   "source": [
    "#reshaping label\n",
    "train_y = np.reshape(train_labels[:,0], (5216,1))\n",
    "test_y = np.reshape(test_labels[:,0], (624,1))\n",
    "val_y = np.reshape(val_labels[:,0], (16,1))"
   ]
  },
  {
   "cell_type": "code",
   "execution_count": 13,
   "metadata": {},
   "outputs": [
    {
     "name": "stdout",
     "output_type": "stream",
     "text": [
      "(5216, 1)\n",
      "(624, 1)\n",
      "(16, 1)\n"
     ]
    }
   ],
   "source": [
    "\n",
    "print(train_y.shape)\n",
    "print(test_y.shape)\n",
    "print(val_y.shape)"
   ]
  },
  {
   "cell_type": "code",
   "execution_count": 14,
   "metadata": {},
   "outputs": [
    {
     "data": {
      "text/plain": [
       "(5216, 1)"
      ]
     },
     "execution_count": 14,
     "metadata": {},
     "output_type": "execute_result"
    }
   ],
   "source": [
    "train_y.shape"
   ]
  },
  {
   "cell_type": "code",
   "execution_count": 15,
   "metadata": {},
   "outputs": [
    {
     "data": {
      "text/plain": [
       "array([[0., 1.],\n",
       "       [1., 0.],\n",
       "       [1., 0.],\n",
       "       ...,\n",
       "       [0., 1.],\n",
       "       [0., 1.],\n",
       "       [0., 1.]], dtype=float32)"
      ]
     },
     "execution_count": 15,
     "metadata": {},
     "output_type": "execute_result"
    }
   ],
   "source": [
    "train_labels"
   ]
  },
  {
   "cell_type": "code",
   "execution_count": 16,
   "metadata": {},
   "outputs": [
    {
     "data": {
      "text/plain": [
       "<AxesSubplot:ylabel='count'>"
      ]
     },
     "execution_count": 16,
     "metadata": {},
     "output_type": "execute_result"
    },
    {
     "data": {
      "image/png": "[encoded data removed]",
      "text/plain": [
       "<Figure size 432x288 with 1 Axes>"
      ]
     },
     "metadata": {},
     "output_type": "display_data"
    }
   ],
   "source": [
    "import pandas as pd\n",
    "import seaborn as sns\n",
    "\n",
    "l = []\n",
    "for i in train_img:\n",
    "    if(i[1] == 0):\n",
    "        l.append(\"Normal\")\n",
    "    else:\n",
    "        l.append(\"Pneumonia\")\n",
    "sns.set_style(\"darkgrid\")\n",
    "sns.countplot(l)"
   ]
  },
  {
   "cell_type": "code",
   "execution_count": 17,
   "metadata": {},
   "outputs": [],
   "source": [
    "from sklearn.linear_model import LogisticRegression\n",
    "lr = LogisticRegression(random_state = 42)"
   ]
  },
  {
   "cell_type": "code",
   "execution_count": 18,
   "metadata": {},
   "outputs": [
    {
     "data": {
      "text/plain": [
       "LogisticRegression(random_state=42)"
      ]
     },
     "execution_count": 18,
     "metadata": {},
     "output_type": "execute_result"
    }
   ],
   "source": [
    "lr.fit(train_img, train_y)"
   ]
  },
  {
   "cell_type": "code",
   "execution_count": 19,
   "metadata": {},
   "outputs": [
    {
     "data": {
      "text/plain": [
       "0.6778846153846154"
      ]
     },
     "execution_count": 19,
     "metadata": {},
     "output_type": "execute_result"
    }
   ],
   "source": [
    "lr.score(test_img,test_y)"
   ]
  },
  {
   "cell_type": "code",
   "execution_count": 20,
   "metadata": {},
   "outputs": [],
   "source": [
    "y_pred = lr.predict(test_img)"
   ]
  },
  {
   "cell_type": "code",
   "execution_count": 21,
   "metadata": {},
   "outputs": [],
   "source": [
    "from sklearn.metrics import plot_confusion_matrix, accuracy_score, confusion_matrix, plot_roc_curve, \\\n",
    "make_scorer, recall_score, precision_score, f1_score"
   ]
  },
  {
   "cell_type": "code",
   "execution_count": 22,
   "metadata": {},
   "outputs": [
    {
     "data": {
      "text/plain": [
       "0.2905982905982906"
      ]
     },
     "execution_count": 22,
     "metadata": {},
     "output_type": "execute_result"
    }
   ],
   "source": [
    "recall_score(test_y, y_pred)"
   ]
  },
  {
   "cell_type": "code",
   "execution_count": 23,
   "metadata": {},
   "outputs": [],
   "source": [
    "from sklearn.ensemble import RandomForestClassifier\n",
    "rf= RandomForestClassifier(criterion = \"entropy\", max_depth = 15,\n",
    "                          min_samples_split= 5, n_estimators= 700,\n",
    "                          max_features = 'log2', random_state = 42)"
   ]
  },
  {
   "cell_type": "code",
   "execution_count": 24,
   "metadata": {},
   "outputs": [
    {
     "data": {
      "text/plain": [
       "RandomForestClassifier(criterion='entropy', max_depth=15, max_features='log2',\n",
       "                       min_samples_split=5, n_estimators=700, random_state=42)"
      ]
     },
     "execution_count": 24,
     "metadata": {},
     "output_type": "execute_result"
    }
   ],
   "source": [
    "rf.fit(train_img, train_y)"
   ]
  },
  {
   "cell_type": "code",
   "execution_count": 25,
   "metadata": {},
   "outputs": [
    {
     "data": {
      "text/plain": [
       "array([0.768     , 0.72      , 0.76      , 0.728     , 0.78225806])"
      ]
     },
     "execution_count": 25,
     "metadata": {},
     "output_type": "execute_result"
    }
   ],
   "source": [
    "from sklearn.model_selection import cross_val_score\n",
    "cross_val_score(rf, test_img, test_y, cv = 5)"
   ]
  },
  {
   "cell_type": "code",
   "execution_count": 26,
   "metadata": {},
   "outputs": [
    {
     "name": "stdout",
     "output_type": "stream",
     "text": [
      "Test score of random forest model: 0.7291666666666666\n"
     ]
    }
   ],
   "source": [
    "print(f'Test score of random forest model: {rf.score(test_img, test_y)}')"
   ]
  },
  {
   "cell_type": "code",
   "execution_count": 27,
   "metadata": {},
   "outputs": [
    {
     "name": "stdout",
     "output_type": "stream",
     "text": [
      "Model: \"sequential\"\n",
      "_________________________________________________________________\n",
      "Layer (type)                 Output Shape              Param #   \n",
      "=================================================================\n",
      "dense (Dense)                (None, 20)                1310740   \n",
      "_________________________________________________________________\n",
      "dense_1 (Dense)              (None, 7)                 147       \n",
      "_________________________________________________________________\n",
      "dense_2 (Dense)              (None, 5)                 40        \n",
      "_________________________________________________________________\n",
      "dense_3 (Dense)              (None, 1)                 6         \n",
      "=================================================================\n",
      "Total params: 1,310,933\n",
      "Trainable params: 1,310,933\n",
      "Non-trainable params: 0\n",
      "_________________________________________________________________\n"
     ]
    }
   ],
   "source": [
    "#baseline model\n",
    "from keras import models\n",
    "from keras import layers\n",
    "\n",
    "model = models.Sequential()\n",
    "model.add(layers.Dense(20, activation='relu', input_shape=(65536,))) # 2 hidden layers\n",
    "model.add(layers.Dense(7, activation='relu'))\n",
    "model.add(layers.Dense(5, activation='relu'))\n",
    "model.add(layers.Dense(1, activation='sigmoid'))\n",
    "model.summary()"
   ]
  },
  {
   "cell_type": "code",
   "execution_count": 28,
   "metadata": {
    "scrolled": false
   },
   "outputs": [
    {
     "name": "stdout",
     "output_type": "stream",
     "text": [
      "Epoch 1/50\n",
      "163/163 [==============================] - 1s 7ms/step - loss: 499.3261 - accuracy: 0.7402 - recall: 0.0060 - val_loss: 0.7064 - val_accuracy: 0.5000 - val_recall: 0.0000e+00\n",
      "Epoch 2/50\n",
      "163/163 [==============================] - 1s 6ms/step - loss: 0.6105 - accuracy: 0.7429 - recall: 0.0000e+00 - val_loss: 0.7298 - val_accuracy: 0.5000 - val_recall: 0.0000e+00\n",
      "Epoch 3/50\n",
      "163/163 [==============================] - 1s 6ms/step - loss: 0.5897 - accuracy: 0.7429 - recall: 0.0000e+00 - val_loss: 0.7523 - val_accuracy: 0.5000 - val_recall: 0.0000e+00\n",
      "Epoch 4/50\n",
      "163/163 [==============================] - 1s 6ms/step - loss: 0.5799 - accuracy: 0.7429 - recall: 0.0000e+00 - val_loss: 0.7708 - val_accuracy: 0.5000 - val_recall: 0.0000e+00\n",
      "Epoch 5/50\n",
      "163/163 [==============================] - 1s 6ms/step - loss: 0.5750 - accuracy: 0.7429 - recall: 0.0000e+00 - val_loss: 0.7854 - val_accuracy: 0.5000 - val_recall: 0.0000e+00\n",
      "Epoch 6/50\n",
      "163/163 [==============================] - 1s 6ms/step - loss: 0.5726 - accuracy: 0.7429 - recall: 0.0000e+00 - val_loss: 0.7964 - val_accuracy: 0.5000 - val_recall: 0.0000e+00\n",
      "Epoch 7/50\n",
      "163/163 [==============================] - 1s 6ms/step - loss: 0.5714 - accuracy: 0.7429 - recall: 0.0000e+00 - val_loss: 0.8045 - val_accuracy: 0.5000 - val_recall: 0.0000e+00\n",
      "Epoch 8/50\n",
      "163/163 [==============================] - 1s 6ms/step - loss: 0.5707 - accuracy: 0.7429 - recall: 0.0000e+00 - val_loss: 0.8104 - val_accuracy: 0.5000 - val_recall: 0.0000e+00\n",
      "Epoch 9/50\n",
      "163/163 [==============================] - 1s 6ms/step - loss: 0.5704 - accuracy: 0.7429 - recall: 0.0000e+00 - val_loss: 0.8148 - val_accuracy: 0.5000 - val_recall: 0.0000e+00\n",
      "Epoch 10/50\n",
      "163/163 [==============================] - 1s 6ms/step - loss: 0.5702 - accuracy: 0.7429 - recall: 0.0000e+00 - val_loss: 0.8182 - val_accuracy: 0.5000 - val_recall: 0.0000e+00\n",
      "Epoch 11/50\n",
      "163/163 [==============================] - 1s 6ms/step - loss: 0.5701 - accuracy: 0.7429 - recall: 0.0000e+00 - val_loss: 0.8207 - val_accuracy: 0.5000 - val_recall: 0.0000e+00\n",
      "Epoch 12/50\n",
      "163/163 [==============================] - 1s 6ms/step - loss: 0.5701 - accuracy: 0.7429 - recall: 0.0000e+00 - val_loss: 0.8227 - val_accuracy: 0.5000 - val_recall: 0.0000e+00\n",
      "Epoch 13/50\n",
      "163/163 [==============================] - 1s 6ms/step - loss: 0.5701 - accuracy: 0.7429 - recall: 0.0000e+00 - val_loss: 0.8238 - val_accuracy: 0.5000 - val_recall: 0.0000e+00\n",
      "Epoch 14/50\n",
      "163/163 [==============================] - 1s 6ms/step - loss: 0.5700 - accuracy: 0.7429 - recall: 0.0000e+00 - val_loss: 0.8250 - val_accuracy: 0.5000 - val_recall: 0.0000e+00\n",
      "Epoch 15/50\n",
      "163/163 [==============================] - 1s 6ms/step - loss: 0.5700 - accuracy: 0.7429 - recall: 0.0000e+00 - val_loss: 0.8259 - val_accuracy: 0.5000 - val_recall: 0.0000e+00\n",
      "Epoch 16/50\n",
      "163/163 [==============================] - 1s 6ms/step - loss: 0.5700 - accuracy: 0.7429 - recall: 0.0000e+00 - val_loss: 0.8263 - val_accuracy: 0.5000 - val_recall: 0.0000e+00\n",
      "Epoch 17/50\n",
      "163/163 [==============================] - 1s 6ms/step - loss: 0.5700 - accuracy: 0.7429 - recall: 0.0000e+00 - val_loss: 0.8266 - val_accuracy: 0.5000 - val_recall: 0.0000e+00\n",
      "Epoch 18/50\n",
      "163/163 [==============================] - 1s 6ms/step - loss: 0.5700 - accuracy: 0.7429 - recall: 0.0000e+00 - val_loss: 0.8270 - val_accuracy: 0.5000 - val_recall: 0.0000e+00\n",
      "Epoch 19/50\n",
      "163/163 [==============================] - 1s 6ms/step - loss: 0.5700 - accuracy: 0.7429 - recall: 0.0000e+00 - val_loss: 0.8273 - val_accuracy: 0.5000 - val_recall: 0.0000e+00\n",
      "Epoch 20/50\n",
      "163/163 [==============================] - 1s 6ms/step - loss: 0.5700 - accuracy: 0.7429 - recall: 0.0000e+00 - val_loss: 0.8275 - val_accuracy: 0.5000 - val_recall: 0.0000e+00\n",
      "Epoch 21/50\n",
      "163/163 [==============================] - 1s 6ms/step - loss: 0.5700 - accuracy: 0.7429 - recall: 0.0000e+00 - val_loss: 0.8274 - val_accuracy: 0.5000 - val_recall: 0.0000e+00\n",
      "Epoch 22/50\n",
      "163/163 [==============================] - 1s 6ms/step - loss: 0.5700 - accuracy: 0.7429 - recall: 0.0000e+00 - val_loss: 0.8274 - val_accuracy: 0.5000 - val_recall: 0.0000e+00\n",
      "Epoch 23/50\n",
      "163/163 [==============================] - 1s 6ms/step - loss: 0.5700 - accuracy: 0.7429 - recall: 0.0000e+00 - val_loss: 0.8272 - val_accuracy: 0.5000 - val_recall: 0.0000e+00\n",
      "Epoch 24/50\n",
      "163/163 [==============================] - 1s 6ms/step - loss: 0.5700 - accuracy: 0.7429 - recall: 0.0000e+00 - val_loss: 0.8274 - val_accuracy: 0.5000 - val_recall: 0.0000e+00\n",
      "Epoch 25/50\n",
      "163/163 [==============================] - 1s 6ms/step - loss: 0.5700 - accuracy: 0.7429 - recall: 0.0000e+00 - val_loss: 0.8272 - val_accuracy: 0.5000 - val_recall: 0.0000e+00\n",
      "Epoch 26/50\n",
      "163/163 [==============================] - 1s 6ms/step - loss: 0.5700 - accuracy: 0.7429 - recall: 0.0000e+00 - val_loss: 0.8276 - val_accuracy: 0.5000 - val_recall: 0.0000e+00\n",
      "Epoch 27/50\n",
      "163/163 [==============================] - 1s 6ms/step - loss: 0.5700 - accuracy: 0.7429 - recall: 0.0000e+00 - val_loss: 0.8274 - val_accuracy: 0.5000 - val_recall: 0.0000e+00\n",
      "Epoch 28/50\n",
      "163/163 [==============================] - 1s 6ms/step - loss: 0.5700 - accuracy: 0.7429 - recall: 0.0000e+00 - val_loss: 0.8275 - val_accuracy: 0.5000 - val_recall: 0.0000e+00\n",
      "Epoch 29/50\n",
      "163/163 [==============================] - 1s 6ms/step - loss: 0.5700 - accuracy: 0.7429 - recall: 0.0000e+00 - val_loss: 0.8272 - val_accuracy: 0.5000 - val_recall: 0.0000e+00\n",
      "Epoch 30/50\n",
      "163/163 [==============================] - 1s 6ms/step - loss: 0.5700 - accuracy: 0.7429 - recall: 0.0000e+00 - val_loss: 0.8277 - val_accuracy: 0.5000 - val_recall: 0.0000e+00\n",
      "Epoch 31/50\n",
      "163/163 [==============================] - 1s 6ms/step - loss: 0.5700 - accuracy: 0.7429 - recall: 0.0000e+00 - val_loss: 0.8274 - val_accuracy: 0.5000 - val_recall: 0.0000e+00\n",
      "Epoch 32/50\n",
      "163/163 [==============================] - 1s 6ms/step - loss: 0.5700 - accuracy: 0.7429 - recall: 0.0000e+00 - val_loss: 0.8276 - val_accuracy: 0.5000 - val_recall: 0.0000e+00\n",
      "Epoch 33/50\n",
      "163/163 [==============================] - 1s 6ms/step - loss: 0.5700 - accuracy: 0.7429 - recall: 0.0000e+00 - val_loss: 0.8274 - val_accuracy: 0.5000 - val_recall: 0.0000e+00\n",
      "Epoch 34/50\n",
      "163/163 [==============================] - 1s 6ms/step - loss: 0.5700 - accuracy: 0.7429 - recall: 0.0000e+00 - val_loss: 0.8274 - val_accuracy: 0.5000 - val_recall: 0.0000e+00\n",
      "Epoch 35/50\n",
      "163/163 [==============================] - 1s 6ms/step - loss: 0.5700 - accuracy: 0.7429 - recall: 0.0000e+00 - val_loss: 0.8274 - val_accuracy: 0.5000 - val_recall: 0.0000e+00\n",
      "Epoch 36/50\n",
      "163/163 [==============================] - 1s 6ms/step - loss: 0.5700 - accuracy: 0.7429 - recall: 0.0000e+00 - val_loss: 0.8275 - val_accuracy: 0.5000 - val_recall: 0.0000e+00\n",
      "Epoch 37/50\n",
      "163/163 [==============================] - 1s 6ms/step - loss: 0.5700 - accuracy: 0.7429 - recall: 0.0000e+00 - val_loss: 0.8278 - val_accuracy: 0.5000 - val_recall: 0.0000e+00\n",
      "Epoch 38/50\n",
      "163/163 [==============================] - 1s 6ms/step - loss: 0.5700 - accuracy: 0.7429 - recall: 0.0000e+00 - val_loss: 0.8275 - val_accuracy: 0.5000 - val_recall: 0.0000e+00\n",
      "Epoch 39/50\n",
      "163/163 [==============================] - 1s 6ms/step - loss: 0.5700 - accuracy: 0.7429 - recall: 0.0000e+00 - val_loss: 0.8273 - val_accuracy: 0.5000 - val_recall: 0.0000e+00\n",
      "Epoch 40/50\n",
      "163/163 [==============================] - 1s 6ms/step - loss: 0.5700 - accuracy: 0.7429 - recall: 0.0000e+00 - val_loss: 0.8271 - val_accuracy: 0.5000 - val_recall: 0.0000e+00\n",
      "Epoch 41/50\n",
      "163/163 [==============================] - 1s 6ms/step - loss: 0.5700 - accuracy: 0.7429 - recall: 0.0000e+00 - val_loss: 0.8270 - val_accuracy: 0.5000 - val_recall: 0.0000e+00\n",
      "Epoch 42/50\n",
      "163/163 [==============================] - 1s 6ms/step - loss: 0.5700 - accuracy: 0.7429 - recall: 0.0000e+00 - val_loss: 0.8271 - val_accuracy: 0.5000 - val_recall: 0.0000e+00\n",
      "Epoch 43/50\n",
      "163/163 [==============================] - 1s 6ms/step - loss: 0.5700 - accuracy: 0.7429 - recall: 0.0000e+00 - val_loss: 0.8272 - val_accuracy: 0.5000 - val_recall: 0.0000e+00\n",
      "Epoch 44/50\n"
     ]
    },
    {
     "name": "stdout",
     "output_type": "stream",
     "text": [
      "163/163 [==============================] - 1s 6ms/step - loss: 0.5700 - accuracy: 0.7429 - recall: 0.0000e+00 - val_loss: 0.8278 - val_accuracy: 0.5000 - val_recall: 0.0000e+00\n",
      "Epoch 45/50\n",
      "163/163 [==============================] - 1s 6ms/step - loss: 0.5700 - accuracy: 0.7429 - recall: 0.0000e+00 - val_loss: 0.8276 - val_accuracy: 0.5000 - val_recall: 0.0000e+00\n",
      "Epoch 46/50\n",
      "163/163 [==============================] - 1s 6ms/step - loss: 0.5700 - accuracy: 0.7429 - recall: 0.0000e+00 - val_loss: 0.8276 - val_accuracy: 0.5000 - val_recall: 0.0000e+00\n",
      "Epoch 47/50\n",
      "163/163 [==============================] - 1s 6ms/step - loss: 0.5700 - accuracy: 0.7429 - recall: 0.0000e+00 - val_loss: 0.8275 - val_accuracy: 0.5000 - val_recall: 0.0000e+00\n",
      "Epoch 48/50\n",
      "163/163 [==============================] - 1s 6ms/step - loss: 0.5700 - accuracy: 0.7429 - recall: 0.0000e+00 - val_loss: 0.8273 - val_accuracy: 0.5000 - val_recall: 0.0000e+00\n",
      "Epoch 49/50\n",
      "163/163 [==============================] - 1s 6ms/step - loss: 0.5700 - accuracy: 0.7429 - recall: 0.0000e+00 - val_loss: 0.8274 - val_accuracy: 0.5000 - val_recall: 0.0000e+00\n",
      "Epoch 50/50\n",
      "163/163 [==============================] - 1s 6ms/step - loss: 0.5700 - accuracy: 0.7429 - recall: 0.0000e+00 - val_loss: 0.8274 - val_accuracy: 0.5000 - val_recall: 0.0000e+00\n"
     ]
    }
   ],
   "source": [
    "model.compile(optimizer='sgd',\n",
    "             loss = 'binary_crossentropy',\n",
    "             metrics =  ['accuracy', tf.keras.metrics.Recall()])\n",
    "\n",
    "histoire = model.fit(train_img,\n",
    "                    train_y,\n",
    "                    epochs = 50,\n",
    "                    batch_size = 32,\n",
    "                    validation_data=(val_img,val_y))"
   ]
  },
  {
   "cell_type": "code",
   "execution_count": 29,
   "metadata": {},
   "outputs": [
    {
     "name": "stdout",
     "output_type": "stream",
     "text": [
      "163/163 [==============================] - 1s 3ms/step - loss: 0.5700 - accuracy: 0.7429 - recall: 0.0000e+00\n"
     ]
    }
   ],
   "source": [
    "results_train = model.evaluate(train_img, train_y)"
   ]
  },
  {
   "cell_type": "code",
   "execution_count": 30,
   "metadata": {},
   "outputs": [
    {
     "name": "stdout",
     "output_type": "stream",
     "text": [
      "20/20 [==============================] - 0s 3ms/step - loss: 0.6949 - accuracy: 0.6250 - recall: 0.0000e+00\n"
     ]
    }
   ],
   "source": [
    "results_test = model.evaluate(test_img,test_y)"
   ]
  },
  {
   "cell_type": "code",
   "execution_count": 31,
   "metadata": {},
   "outputs": [
    {
     "data": {
      "text/plain": [
       "[0.5699950456619263, 0.7429064512252808, 0.0]"
      ]
     },
     "execution_count": 31,
     "metadata": {},
     "output_type": "execute_result"
    }
   ],
   "source": [
    "results_train"
   ]
  },
  {
   "cell_type": "code",
   "execution_count": 32,
   "metadata": {},
   "outputs": [
    {
     "data": {
      "text/plain": [
       "[0.6949374675750732, 0.625, 0.0]"
      ]
     },
     "execution_count": 32,
     "metadata": {},
     "output_type": "execute_result"
    }
   ],
   "source": [
    "results_test"
   ]
  },
  {
   "cell_type": "code",
   "execution_count": 33,
   "metadata": {},
   "outputs": [
    {
     "name": "stdout",
     "output_type": "stream",
     "text": [
      "WARNING:tensorflow:From <ipython-input-33-a38c7136417d>:1: Sequential.predict_classes (from tensorflow.python.keras.engine.sequential) is deprecated and will be removed after 2021-01-01.\n",
      "Instructions for updating:\n",
      "Please use instead:* `np.argmax(model.predict(x), axis=-1)`,   if your model does multi-class classification   (e.g. if it uses a `softmax` last-layer activation).* `(model.predict(x) > 0.5).astype(\"int32\")`,   if your model does binary classification   (e.g. if it uses a `sigmoid` last-layer activation).\n"
     ]
    },
    {
     "data": {
      "text/plain": [
       "0.0"
      ]
     },
     "execution_count": 33,
     "metadata": {},
     "output_type": "execute_result"
    }
   ],
   "source": [
    "yhat_classes = model.predict_classes(test_img, verbose = 0)\n",
    "yhat_classes = yhat_classes[:, 0]\n",
    "recall_score(test_y, yhat_classes)"
   ]
  },
  {
   "cell_type": "code",
   "execution_count": 35,
   "metadata": {},
   "outputs": [],
   "source": [
    "\n",
    "# from keras import regularizers\n",
    "\n",
    "# # CNN build\n",
    "# np.random.seed(123)\n",
    "# model = models.Sequential()\n",
    "# model.add(layers.Conv2D(32, (3, 3), activation='relu', \n",
    "#                         padding = \"same\",\n",
    "#                        input_shape = (256,256,1)))\n",
    "# model.add(layers.MaxPooling2D((2, 2)))\n",
    "\n",
    "# model.add(layers.Conv2D(32, (4, 4), activation='relu', \n",
    "#                        padding = 'same'))\n",
    "# model.add(layers.MaxPooling2D((2, 2)))\n",
    "\n",
    "# model.add(layers.Conv2D(64, (3, 3), activation='relu',\n",
    "#                        padding= 'same'))\n",
    "# model.add(layers.MaxPooling2D((2, 2)))\n",
    "\n",
    "\n",
    "# model.add(layers.Flatten())\n",
    "# model.add(layers.Dense(64, activation='relu'))\n",
    "# model.add(layers.Dense(32, activation = 'relu'))\n",
    "# model.add(layers.Dense(1, activation='sigmoid'))\n",
    "# model.summary()\n",
    "\n",
    "# model.compile(loss='binary_crossentropy',\n",
    "#               optimizer=\"sgd\",\n",
    "#               metrics=['accuracy'])"
   ]
  },
  {
   "cell_type": "code",
   "execution_count": 36,
   "metadata": {
    "scrolled": false
   },
   "outputs": [],
   "source": [
    "# history = model.fit(train_images,\n",
    "#                     train_y,\n",
    "#                     steps_per_epoch= 20,\n",
    "#                     epochs=20,\n",
    "#                     batch_size=16,\n",
    "#                     validation_data=(val_images, val_y))\n",
    "# print(f\"Training Score of first convolution neural network: {model.evaluate(train_images, train_y)}\")\n",
    "# print(f\"Test Score of first convolution neural network: {model.evaluate(test_images, test_y)}\")"
   ]
  },
  {
   "cell_type": "code",
   "execution_count": 37,
   "metadata": {},
   "outputs": [],
   "source": [
    "# yhat_classes = model.predict_classes(test_images, verbose = 0)\n",
    "# yhat_classes = yhat_classes[:, 0]\n",
    "# recall_score(test_y, yhat_classes)"
   ]
  },
  {
   "cell_type": "code",
   "execution_count": 38,
   "metadata": {},
   "outputs": [],
   "source": [
    "# model.summary()"
   ]
  },
  {
   "cell_type": "code",
   "execution_count": 34,
   "metadata": {
    "scrolled": false
   },
   "outputs": [
    {
     "name": "stdout",
     "output_type": "stream",
     "text": [
      "Epoch 1/20\n",
      "25/25 [==============================] - 20s 791ms/step - loss: 13.7347 - acc: 0.7150 - recall_2: 0.2917 - val_loss: 12.8003 - val_acc: 0.6875 - val_recall_2: 0.8750\n",
      "Epoch 2/20\n",
      "25/25 [==============================] - 19s 770ms/step - loss: 12.7910 - acc: 0.7550 - recall_2: 0.4340 - val_loss: 12.9491 - val_acc: 0.5625 - val_recall_2: 0.2500\n",
      "Epoch 3/20\n",
      "25/25 [==============================] - 19s 771ms/step - loss: 12.3878 - acc: 0.7650 - recall_2: 0.4783 - val_loss: 12.6103 - val_acc: 0.8750 - val_recall_2: 0.7500\n",
      "Epoch 4/20\n",
      "25/25 [==============================] - 20s 781ms/step - loss: 12.0423 - acc: 0.8100 - recall_2: 0.6545 - val_loss: 12.2348 - val_acc: 0.8125 - val_recall_2: 0.7500\n",
      "Epoch 5/20\n",
      "25/25 [==============================] - 18s 736ms/step - loss: 11.8583 - acc: 0.8350 - recall_2: 0.6038 - val_loss: 11.9432 - val_acc: 0.8750 - val_recall_2: 0.7500\n",
      "Epoch 6/20\n",
      "25/25 [==============================] - 18s 737ms/step - loss: 11.4623 - acc: 0.8950 - recall_2: 0.7586 - val_loss: 11.7806 - val_acc: 0.8750 - val_recall_2: 0.7500\n",
      "Epoch 7/20\n",
      "25/25 [==============================] - 18s 740ms/step - loss: 11.3601 - acc: 0.8450 - recall_2: 0.7143 - val_loss: 11.5106 - val_acc: 0.8750 - val_recall_2: 0.7500\n",
      "Epoch 8/20\n",
      "25/25 [==============================] - 19s 757ms/step - loss: 11.0982 - acc: 0.8800 - recall_2: 0.7500 - val_loss: 11.2412 - val_acc: 0.8125 - val_recall_2: 0.6250\n",
      "Epoch 9/20\n",
      "25/25 [==============================] - 19s 767ms/step - loss: 10.9069 - acc: 0.8650 - recall_2: 0.7593 - val_loss: 11.1634 - val_acc: 0.6875 - val_recall_2: 0.7500\n",
      "Epoch 10/20\n",
      "25/25 [==============================] - 19s 771ms/step - loss: 10.7260 - acc: 0.8150 - recall_2: 0.7419 - val_loss: 10.8753 - val_acc: 0.8750 - val_recall_2: 0.7500\n",
      "Epoch 11/20\n",
      "25/25 [==============================] - 19s 762ms/step - loss: 10.4751 - acc: 0.8500 - recall_2: 0.7288 - val_loss: 10.7055 - val_acc: 0.8750 - val_recall_2: 0.7500\n",
      "Epoch 12/20\n",
      "25/25 [==============================] - 19s 772ms/step - loss: 10.2108 - acc: 0.8950 - recall_2: 0.8511 - val_loss: 10.4586 - val_acc: 0.8750 - val_recall_2: 0.7500\n",
      "Epoch 13/20\n",
      "25/25 [==============================] - 19s 775ms/step - loss: 10.0972 - acc: 0.8700 - recall_2: 0.7407 - val_loss: 10.3698 - val_acc: 0.6875 - val_recall_2: 0.3750\n",
      "Epoch 14/20\n",
      "25/25 [==============================] - 19s 767ms/step - loss: 9.7965 - acc: 0.9100 - recall_2: 0.8197 - val_loss: 10.2930 - val_acc: 0.7500 - val_recall_2: 0.6250\n",
      "Epoch 15/20\n",
      "25/25 [==============================] - 19s 774ms/step - loss: 9.6797 - acc: 0.8700 - recall_2: 0.7609 - val_loss: 10.1427 - val_acc: 0.5625 - val_recall_2: 0.1250\n",
      "Epoch 16/20\n",
      "25/25 [==============================] - 26s 1s/step - loss: 9.5325 - acc: 0.8400 - recall_2: 0.6731 - val_loss: 10.0166 - val_acc: 0.7500 - val_recall_2: 0.5000\n",
      "Epoch 17/20\n",
      "25/25 [==============================] - 21s 836ms/step - loss: 9.3788 - acc: 0.8600 - recall_2: 0.7544 - val_loss: 9.7168 - val_acc: 0.6875 - val_recall_2: 0.7500\n",
      "Epoch 18/20\n",
      "25/25 [==============================] - 21s 827ms/step - loss: 9.1617 - acc: 0.8600 - recall_2: 0.6809 - val_loss: 9.7139 - val_acc: 0.5625 - val_recall_2: 0.1250\n",
      "Epoch 19/20\n",
      "25/25 [==============================] - 20s 813ms/step - loss: 8.9962 - acc: 0.8800 - recall_2: 0.7551 - val_loss: 9.5093 - val_acc: 0.5000 - val_recall_2: 0.0000e+00\n",
      "Epoch 20/20\n",
      "25/25 [==============================] - 19s 768ms/step - loss: 8.7356 - acc: 0.9000 - recall_2: 0.8235 - val_loss: 9.4425 - val_acc: 0.5000 - val_recall_2: 0.8750\n",
      "163/163 [==============================] - 49s 303ms/step - loss: 9.8123 - acc: 0.2845 - recall_2: 1.0000\n",
      "\n",
      "Training Score: [9.81232738494873, 0.28450921177864075, 1.0]\n",
      "20/20 [==============================] - 5s 267ms/step - loss: 9.5741 - acc: 0.3958 - recall_2: 0.9957\n",
      "\n",
      "Test Score: [9.574110984802246, 0.3958333432674408, 0.995726466178894]\n"
     ]
    }
   ],
   "source": [
    "from keras.models import Sequential\n",
    "from keras import regularizers\n",
    "\n",
    "model = models.Sequential()\n",
    "model = Sequential()\n",
    "model.add(layers.Conv2D(32 , (3,3) , kernel_regularizer = regularizers.l2(.02), strides = 1 , padding = 'same' , activation = 'relu'))\n",
    "model.add(layers.BatchNormalization())\n",
    "model.add(layers.MaxPool2D((2,2) ,  strides = 2 , padding = 'same'))\n",
    "model.add(layers.Conv2D(64 , (3,3) , kernel_regularizer = regularizers.l2(.02), strides = 1 , padding = 'same' , activation = 'relu'))\n",
    "model.add(layers.Dropout(0.1))\n",
    "model.add(layers.BatchNormalization())\n",
    "model.add(layers.MaxPool2D((2,2) , strides = 2 , padding = 'same'))\n",
    "model.add(layers.Conv2D(64 , (3,3) , kernel_regularizer = regularizers.l2(.02), strides = 1 , padding = 'same' , activation = 'relu'))\n",
    "model.add(layers.BatchNormalization())\n",
    "model.add(layers.MaxPool2D((2,2) , strides = 2 , padding = 'same'))\n",
    "model.add(layers.Conv2D(128 , (3,3) , kernel_regularizer = regularizers.l2(.02), strides = 1 , padding = 'same' , activation = 'relu'))\n",
    "model.add(layers.Dropout(0.2))\n",
    "model.add(layers.BatchNormalization())\n",
    "model.add(layers.MaxPool2D((2,2) , strides = 2 , padding = 'same'))\n",
    "model.add(layers.Conv2D(256 , (3,3) , kernel_regularizer = regularizers.l2(.02), strides = 1 , padding = 'same' , activation = 'relu'))\n",
    "model.add(layers.Dropout(0.2))\n",
    "model.add(layers.BatchNormalization())\n",
    "model.add(layers.MaxPool2D((2,2) , strides = 2 , padding = 'same'))\n",
    "model.add(layers.Flatten())\n",
    "model.add(layers.Dense(units = 128 , kernel_regularizer = regularizers.l2(.02), activation = 'relu'))\n",
    "model.add(layers.Dropout(0.2))\n",
    "model.add(layers.Dense(units = 1 , kernel_regularizer = regularizers.l2(.02), activation = 'sigmoid'))\n",
    "model.compile(optimizer = \"rmsprop\" , loss = 'binary_crossentropy' , metrics = ['accuracy',tf.keras.metrics.Recall()])\n",
    "\n",
    "\n",
    "model.compile(loss='binary_crossentropy',\n",
    "              optimizer=\"sgd\",\n",
    "              metrics=['acc',tf.keras.metrics.Recall()])\n",
    "\n",
    "history = model.fit(train_images,\n",
    "                    train_y,\n",
    "                    steps_per_epoch=25,\n",
    "                    epochs=20,\n",
    "                    batch_size=8,\n",
    "                    validation_data=(val_images, val_y))\n",
    "\n",
    "\n",
    "\n",
    "print(f\"\\nTraining Score: {model.evaluate(train_images, train_y)}\")\n",
    "print(f\"\\nTest Score: {model.evaluate(test_images, test_y)}\")"
   ]
  },
  {
   "cell_type": "code",
   "execution_count": 35,
   "metadata": {},
   "outputs": [
    {
     "name": "stdout",
     "output_type": "stream",
     "text": [
      "163/163 [==============================] - 47s 289ms/step - loss: 9.8123 - acc: 0.2845 - recall_2: 1.0000\n",
      "\n",
      "Training Score: [9.81232738494873, 0.28450921177864075, 1.0]\n",
      "20/20 [==============================] - 5s 265ms/step - loss: 9.5741 - acc: 0.3958 - recall_2: 0.9957\n",
      "\n",
      "Test Score: [9.574110984802246, 0.3958333432674408, 0.995726466178894]\n"
     ]
    }
   ],
   "source": [
    "\n",
    "print(f\"\\nTraining Score: {model.evaluate(train_images, train_y)}\")\n",
    "print(f\"\\nTest Score: {model.evaluate(test_images, test_y)}\")"
   ]
  },
  {
   "cell_type": "code",
   "execution_count": 36,
   "metadata": {},
   "outputs": [
    {
     "name": "stdout",
     "output_type": "stream",
     "text": [
      "Model: \"sequential_2\"\n",
      "_________________________________________________________________\n",
      "Layer (type)                 Output Shape              Param #   \n",
      "=================================================================\n",
      "conv2d (Conv2D)              (None, 256, 256, 32)      320       \n",
      "_________________________________________________________________\n",
      "batch_normalization (BatchNo (None, 256, 256, 32)      128       \n",
      "_________________________________________________________________\n",
      "max_pooling2d (MaxPooling2D) (None, 128, 128, 32)      0         \n",
      "_________________________________________________________________\n",
      "conv2d_1 (Conv2D)            (None, 128, 128, 64)      18496     \n",
      "_________________________________________________________________\n",
      "dropout (Dropout)            (None, 128, 128, 64)      0         \n",
      "_________________________________________________________________\n",
      "batch_normalization_1 (Batch (None, 128, 128, 64)      256       \n",
      "_________________________________________________________________\n",
      "max_pooling2d_1 (MaxPooling2 (None, 64, 64, 64)        0         \n",
      "_________________________________________________________________\n",
      "conv2d_2 (Conv2D)            (None, 64, 64, 64)        36928     \n",
      "_________________________________________________________________\n",
      "batch_normalization_2 (Batch (None, 64, 64, 64)        256       \n",
      "_________________________________________________________________\n",
      "max_pooling2d_2 (MaxPooling2 (None, 32, 32, 64)        0         \n",
      "_________________________________________________________________\n",
      "conv2d_3 (Conv2D)            (None, 32, 32, 128)       73856     \n",
      "_________________________________________________________________\n",
      "dropout_1 (Dropout)          (None, 32, 32, 128)       0         \n",
      "_________________________________________________________________\n",
      "batch_normalization_3 (Batch (None, 32, 32, 128)       512       \n",
      "_________________________________________________________________\n",
      "max_pooling2d_3 (MaxPooling2 (None, 16, 16, 128)       0         \n",
      "_________________________________________________________________\n",
      "conv2d_4 (Conv2D)            (None, 16, 16, 256)       295168    \n",
      "_________________________________________________________________\n",
      "dropout_2 (Dropout)          (None, 16, 16, 256)       0         \n",
      "_________________________________________________________________\n",
      "batch_normalization_4 (Batch (None, 16, 16, 256)       1024      \n",
      "_________________________________________________________________\n",
      "max_pooling2d_4 (MaxPooling2 (None, 8, 8, 256)         0         \n",
      "_________________________________________________________________\n",
      "flatten (Flatten)            (None, 16384)             0         \n",
      "_________________________________________________________________\n",
      "dense_4 (Dense)              (None, 128)               2097280   \n",
      "_________________________________________________________________\n",
      "dropout_3 (Dropout)          (None, 128)               0         \n",
      "_________________________________________________________________\n",
      "dense_5 (Dense)              (None, 1)                 129       \n",
      "=================================================================\n",
      "Total params: 2,524,353\n",
      "Trainable params: 2,523,265\n",
      "Non-trainable params: 1,088\n",
      "_________________________________________________________________\n"
     ]
    }
   ],
   "source": [
    "model.summary()"
   ]
  },
  {
   "cell_type": "code",
   "execution_count": 37,
   "metadata": {},
   "outputs": [
    {
     "name": "stdout",
     "output_type": "stream",
     "text": [
      "Model: \"sequential_3\"\n",
      "_________________________________________________________________\n",
      "Layer (type)                 Output Shape              Param #   \n",
      "=================================================================\n",
      "conv2d_5 (Conv2D)            (None, 254, 254, 16)      160       \n",
      "_________________________________________________________________\n",
      "max_pooling2d_5 (MaxPooling2 (None, 127, 127, 16)      0         \n",
      "_________________________________________________________________\n",
      "conv2d_6 (Conv2D)            (None, 125, 125, 32)      4640      \n",
      "_________________________________________________________________\n",
      "max_pooling2d_6 (MaxPooling2 (None, 62, 62, 32)        0         \n",
      "_________________________________________________________________\n",
      "conv2d_7 (Conv2D)            (None, 60, 60, 64)        18496     \n",
      "_________________________________________________________________\n",
      "max_pooling2d_7 (MaxPooling2 (None, 30, 30, 64)        0         \n",
      "_________________________________________________________________\n",
      "conv2d_8 (Conv2D)            (None, 28, 28, 64)        36928     \n",
      "_________________________________________________________________\n",
      "max_pooling2d_8 (MaxPooling2 (None, 14, 14, 64)        0         \n",
      "_________________________________________________________________\n",
      "flatten_1 (Flatten)          (None, 12544)             0         \n",
      "_________________________________________________________________\n",
      "dense_6 (Dense)              (None, 128)               1605760   \n",
      "_________________________________________________________________\n",
      "dense_7 (Dense)              (None, 1)                 129       \n",
      "=================================================================\n",
      "Total params: 1,666,113\n",
      "Trainable params: 1,666,113\n",
      "Non-trainable params: 0\n",
      "_________________________________________________________________\n"
     ]
    }
   ],
   "source": [
    "model = Sequential()\n",
    "\n",
    "model.add(layers.Conv2D(filters=16, kernel_size=3, kernel_regularizer = regularizers.l2(.01),  activation='relu', input_shape=(256,256,1)))\n",
    "model.add(layers.MaxPool2D(pool_size=2, strides=2))\n",
    "\n",
    "\n",
    "model.add(layers.Conv2D(filters=32, kernel_size=3, kernel_regularizer = regularizers.l2(.01), activation='relu'))\n",
    "model.add(layers.MaxPool2D(pool_size=2, strides=2))\n",
    "\n",
    "\n",
    "model.add(layers.Conv2D(filters=64, kernel_size=3, kernel_regularizer = regularizers.l2(.01), activation='relu'))\n",
    "model.add(layers.MaxPool2D(pool_size=2, strides=2))\n",
    "\n",
    "\n",
    "model.add(layers.Conv2D(filters=64, kernel_size=3, kernel_regularizer = regularizers.l2(.01), activation='relu'))\n",
    "model.add(layers.MaxPool2D(pool_size=2, strides=2))\n",
    "\n",
    "\n",
    "model.add(layers.Flatten())\n",
    "model.add(layers.Dense(units=128, kernel_regularizer = regularizers.l2(.01), activation='relu'))\n",
    "\n",
    "\n",
    "model.add(layers.Dense(units=1, kernel_regularizer = regularizers.l2(.01), activation='sigmoid'))\n",
    "model.summary()"
   ]
  },
  {
   "cell_type": "code",
   "execution_count": 38,
   "metadata": {},
   "outputs": [
    {
     "name": "stdout",
     "output_type": "stream",
     "text": [
      "Epoch 1/20\n",
      "80/80 [==============================] - 80s 1s/step - loss: 6.2077 - accuracy: 0.7490 - recall_3: 0.4444 - val_loss: 3.6278 - val_accuracy: 0.7500 - val_recall_3: 0.5000\n",
      "Epoch 2/20\n",
      "80/80 [==============================] - 79s 992ms/step - loss: 2.1789 - accuracy: 0.8370 - recall_3: 0.6547 - val_loss: 3.0077 - val_accuracy: 0.6250 - val_recall_3: 0.3750\n",
      "Epoch 3/20\n",
      "80/80 [==============================] - 82s 1s/step - loss: 1.7736 - accuracy: 0.8748 - recall_3: 0.7375 - val_loss: 2.8403 - val_accuracy: 0.5625 - val_recall_3: 0.2500\n",
      "Epoch 4/20\n",
      "80/80 [==============================] - 82s 1s/step - loss: 1.5433 - accuracy: 0.8794 - recall_3: 0.7494 - val_loss: 2.1241 - val_accuracy: 0.6250 - val_recall_3: 0.3750\n",
      "Epoch 5/20\n",
      "80/80 [==============================] - 81s 1s/step - loss: 1.4207 - accuracy: 0.8677 - recall_3: 0.6838 - val_loss: 1.7071 - val_accuracy: 0.5625 - val_recall_3: 0.2500\n",
      "Epoch 6/20\n",
      "80/80 [==============================] - 80s 996ms/step - loss: 1.2394 - accuracy: 0.9007 - recall_3: 0.8061 - val_loss: 2.2333 - val_accuracy: 0.6250 - val_recall_3: 0.2500\n",
      "Epoch 7/20\n",
      "80/80 [==============================] - 80s 996ms/step - loss: 1.3859 - accuracy: 0.8165 - recall_3: 0.5533 - val_loss: 2.3247 - val_accuracy: 0.6250 - val_recall_3: 0.3750\n",
      "Epoch 8/20\n",
      "80/80 [==============================] - 85s 1s/step - loss: 1.2209 - accuracy: 0.8449 - recall_3: 0.6413 - val_loss: 2.2862 - val_accuracy: 0.6250 - val_recall_3: 0.2500\n",
      "Epoch 9/20\n",
      "80/80 [==============================] - 88s 1s/step - loss: 1.0758 - accuracy: 0.8779 - recall_3: 0.7412 - val_loss: 1.5358 - val_accuracy: 0.6250 - val_recall_3: 0.2500\n",
      "Epoch 10/20\n",
      "80/80 [==============================] - 88s 1s/step - loss: 0.9823 - accuracy: 0.8880 - recall_3: 0.7621 - val_loss: 2.1210 - val_accuracy: 0.5625 - val_recall_3: 0.2500\n",
      "Epoch 11/20\n",
      "80/80 [==============================] - 90s 1s/step - loss: 0.9151 - accuracy: 0.8984 - recall_3: 0.7815 - val_loss: 1.4898 - val_accuracy: 0.6875 - val_recall_3: 0.5000\n",
      "Epoch 12/20\n",
      "80/80 [==============================] - 88s 1s/step - loss: 0.8607 - accuracy: 0.9045 - recall_3: 0.7994 - val_loss: 2.1909 - val_accuracy: 0.5000 - val_recall_3: 0.1250\n",
      "Epoch 13/20\n",
      "80/80 [==============================] - 85s 1s/step - loss: 0.8023 - accuracy: 0.9170 - recall_3: 0.8307 - val_loss: 1.7075 - val_accuracy: 0.5625 - val_recall_3: 0.2500\n",
      "Epoch 14/20\n",
      "80/80 [==============================] - 84s 1s/step - loss: 0.7634 - accuracy: 0.9156 - recall_3: 0.8195 - val_loss: 1.5760 - val_accuracy: 0.6875 - val_recall_3: 0.5000\n",
      "Epoch 15/20\n",
      "80/80 [==============================] - 85s 1s/step - loss: 0.7267 - accuracy: 0.9216 - recall_3: 0.8345 - val_loss: 1.4720 - val_accuracy: 0.6250 - val_recall_3: 0.3750\n",
      "Epoch 16/20\n",
      "80/80 [==============================] - 86s 1s/step - loss: 0.7022 - accuracy: 0.9243 - recall_3: 0.8404 - val_loss: 1.3414 - val_accuracy: 0.6875 - val_recall_3: 0.5000\n",
      "Epoch 17/20\n",
      "80/80 [==============================] - 87s 1s/step - loss: 0.6782 - accuracy: 0.9258 - recall_3: 0.8382 - val_loss: 1.6399 - val_accuracy: 0.6875 - val_recall_3: 0.5000\n",
      "Epoch 18/20\n",
      "80/80 [==============================] - 84s 1s/step - loss: 0.6623 - accuracy: 0.9270 - recall_3: 0.8449 - val_loss: 1.7392 - val_accuracy: 0.6875 - val_recall_3: 0.5000\n",
      "Epoch 19/20\n",
      "80/80 [==============================] - 86s 1s/step - loss: 0.6177 - accuracy: 0.9379 - recall_3: 0.8710 - val_loss: 1.7223 - val_accuracy: 0.6250 - val_recall_3: 0.3750\n",
      "Epoch 20/20\n",
      "80/80 [==============================] - 83s 1s/step - loss: 0.5981 - accuracy: 0.9413 - recall_3: 0.8881 - val_loss: 2.4041 - val_accuracy: 0.5000 - val_recall_3: 0.1250\n",
      "163/163 [==============================] - 21s 130ms/step - loss: 0.7755 - accuracy: 0.8296 - recall_3: 0.3415\n",
      "\n",
      "Training Score: [0.7754954099655151, 0.8295629024505615, 0.34153616428375244]\n",
      "20/20 [==============================] - 3s 128ms/step - loss: 1.4309 - accuracy: 0.6571 - recall_3: 0.1068\n",
      "\n",
      "Test Score: [1.4309409856796265, 0.6570512652397156, 0.10683760792016983]\n"
     ]
    }
   ],
   "source": [
    "model.compile(optimizer = tf.keras.optimizers.Adam(),\n",
    "             loss = tf.keras.losses.BinaryCrossentropy(),\n",
    "              metrics = ['accuracy',tf.keras.metrics.Recall()])  \n",
    "\n",
    "from keras import callbacks\n",
    "\n",
    "earlystopping = callbacks.EarlyStopping(monitor =\"val_loss\", \n",
    "                                        mode =\"min\", patience = 5, \n",
    "                                        restore_best_weights = True)\n",
    "# learning_rate_reduction = tf.keras.callbacks.ReduceLROnPlateau(monitor='val_accuracy', \n",
    "#                                                                patience = 2, \n",
    "#                                                                verbose=1, \n",
    "#                                                                factor=0.3, \n",
    "#                                                                min_lr=0.000001)\n",
    "\n",
    "history = model.fit(train_images, \n",
    "                    train_y,  \n",
    "                    epochs=15,\n",
    "                    steps_per_epoch = 80,\n",
    "                    validation_data = (val_images, val_y), \n",
    "                    callbacks = [earlystopping])\n",
    "\n",
    "print(f\"\\nTraining Score: {model.evaluate(train_images, train_y)}\")\n",
    "print(f\"\\nTest Score: {model.evaluate(test_images, test_y)}\")"
   ]
  },
  {
   "cell_type": "code",
   "execution_count": 39,
   "metadata": {},
   "outputs": [
    {
     "data": {
      "text/plain": [
       "(5216, 256, 256, 1)"
      ]
     },
     "execution_count": 39,
     "metadata": {},
     "output_type": "execute_result"
    }
   ],
   "source": [
    "train_images.shape"
   ]
  },
  {
   "cell_type": "code",
   "execution_count": 40,
   "metadata": {},
   "outputs": [],
   "source": [
    "# Test Normalization\n",
    "\n",
    "train_images_normalized = train_images/255\n",
    "\n",
    "test_images_normalized = test_images/255\n",
    "\n",
    "val_images_normalized = val_images/255"
   ]
  },
  {
   "cell_type": "code",
   "execution_count": 41,
   "metadata": {},
   "outputs": [
    {
     "name": "stdout",
     "output_type": "stream",
     "text": [
      "Model: \"sequential_4\"\n",
      "_________________________________________________________________\n",
      "Layer (type)                 Output Shape              Param #   \n",
      "=================================================================\n",
      "conv2d_9 (Conv2D)            (None, 254, 254, 16)      160       \n",
      "_________________________________________________________________\n",
      "max_pooling2d_9 (MaxPooling2 (None, 127, 127, 16)      0         \n",
      "_________________________________________________________________\n",
      "conv2d_10 (Conv2D)           (None, 125, 125, 32)      4640      \n",
      "_________________________________________________________________\n",
      "max_pooling2d_10 (MaxPooling (None, 62, 62, 32)        0         \n",
      "_________________________________________________________________\n",
      "conv2d_11 (Conv2D)           (None, 60, 60, 64)        18496     \n",
      "_________________________________________________________________\n",
      "max_pooling2d_11 (MaxPooling (None, 30, 30, 64)        0         \n",
      "_________________________________________________________________\n",
      "conv2d_12 (Conv2D)           (None, 28, 28, 64)        36928     \n",
      "_________________________________________________________________\n",
      "max_pooling2d_12 (MaxPooling (None, 14, 14, 64)        0         \n",
      "_________________________________________________________________\n",
      "flatten_2 (Flatten)          (None, 12544)             0         \n",
      "_________________________________________________________________\n",
      "dense_8 (Dense)              (None, 128)               1605760   \n",
      "_________________________________________________________________\n",
      "dense_9 (Dense)              (None, 1)                 129       \n",
      "=================================================================\n",
      "Total params: 1,666,113\n",
      "Trainable params: 1,666,113\n",
      "Non-trainable params: 0\n",
      "_________________________________________________________________\n",
      "Epoch 1/20\n",
      "100/100 [==============================] - 82s 822ms/step - loss: 1.2795 - accuracy: 0.7421 - recall_4: 0.0000e+00 - val_loss: 0.8041 - val_accuracy: 0.6250 - val_recall_4: 0.2500\n",
      "Epoch 2/20\n",
      "100/100 [==============================] - 87s 872ms/step - loss: 0.6325 - accuracy: 0.7400 - recall_4: 0.1637 - val_loss: 0.7414 - val_accuracy: 0.6250 - val_recall_4: 0.2500\n",
      "Epoch 3/20\n",
      "100/100 [==============================] - 89s 890ms/step - loss: 0.5814 - accuracy: 0.7449 - recall_4: 0.1298 - val_loss: 0.7113 - val_accuracy: 0.6875 - val_recall_4: 0.3750\n",
      "Epoch 4/20\n",
      "100/100 [==============================] - 83s 830ms/step - loss: 0.5592 - accuracy: 0.7478 - recall_4: 0.1599 - val_loss: 0.7202 - val_accuracy: 0.6875 - val_recall_4: 0.6250\n",
      "Epoch 5/20\n",
      "100/100 [==============================] - 78s 785ms/step - loss: 0.5571 - accuracy: 0.7455 - recall_4: 0.1993 - val_loss: 0.7643 - val_accuracy: 0.5000 - val_recall_4: 0.0000e+00\n",
      "Epoch 6/20\n",
      "100/100 [==============================] - 84s 843ms/step - loss: 0.5411 - accuracy: 0.7546 - recall_4: 0.1334 - val_loss: 0.6893 - val_accuracy: 0.6250 - val_recall_4: 0.3750\n",
      "Epoch 7/20\n",
      "100/100 [==============================] - 85s 851ms/step - loss: 0.5347 - accuracy: 0.7546 - recall_4: 0.1930 - val_loss: 0.6599 - val_accuracy: 0.7500 - val_recall_4: 0.7500\n",
      "Epoch 8/20\n",
      "100/100 [==============================] - 84s 840ms/step - loss: 0.5345 - accuracy: 0.7605 - recall_4: 0.2413 - val_loss: 0.7327 - val_accuracy: 0.6875 - val_recall_4: 0.3750\n",
      "Epoch 9/20\n",
      "100/100 [==============================] - 85s 855ms/step - loss: 0.5298 - accuracy: 0.7645 - recall_4: 0.2239 - val_loss: 0.7179 - val_accuracy: 0.6875 - val_recall_4: 0.3750\n",
      "Epoch 10/20\n",
      "100/100 [==============================] - 76s 758ms/step - loss: 0.5233 - accuracy: 0.7601 - recall_4: 0.2524 - val_loss: 0.6588 - val_accuracy: 0.7500 - val_recall_4: 0.6250\n",
      "Epoch 11/20\n",
      "100/100 [==============================] - 74s 740ms/step - loss: 0.5217 - accuracy: 0.7715 - recall_4: 0.2578 - val_loss: 0.7444 - val_accuracy: 0.6250 - val_recall_4: 0.3750\n",
      "Epoch 12/20\n",
      "100/100 [==============================] - 74s 741ms/step - loss: 0.5174 - accuracy: 0.7723 - recall_4: 0.2504 - val_loss: 0.6656 - val_accuracy: 0.8125 - val_recall_4: 0.7500\n",
      "Epoch 13/20\n",
      "100/100 [==============================] - 74s 743ms/step - loss: 0.5226 - accuracy: 0.7715 - recall_4: 0.2867 - val_loss: 0.6792 - val_accuracy: 0.7500 - val_recall_4: 0.5000\n",
      "Epoch 14/20\n",
      "100/100 [==============================] - 74s 744ms/step - loss: 0.5206 - accuracy: 0.7660 - recall_4: 0.2679 - val_loss: 0.6865 - val_accuracy: 0.6875 - val_recall_4: 0.5000\n",
      "Epoch 15/20\n",
      "100/100 [==============================] - 76s 756ms/step - loss: 0.5157 - accuracy: 0.7738 - recall_4: 0.2801 - val_loss: 0.6592 - val_accuracy: 0.6875 - val_recall_4: 0.5000\n",
      "163/163 [==============================] - 18s 113ms/step - loss: 0.5195 - accuracy: 0.7753 - recall_4: 0.2946\n",
      "\n",
      "Training Score: [0.5194665789604187, 0.775306761264801, 0.29455628991127014]\n",
      "20/20 [==============================] - 2s 105ms/step - loss: 0.7185 - accuracy: 0.6587 - recall_4: 0.1667\n",
      "\n",
      "Test Score: [0.7185315489768982, 0.6586538553237915, 0.1666666716337204]\n"
     ]
    }
   ],
   "source": [
    "model = Sequential()\n",
    "\n",
    "model.add(layers.Conv2D(filters=16, kernel_size=3, kernel_regularizer = regularizers.l2(.01),  activation='relu', input_shape=(256,256,1)))\n",
    "model.add(layers.MaxPool2D(pool_size=2, strides=2))\n",
    "\n",
    "\n",
    "model.add(layers.Conv2D(filters=32, kernel_size=3, kernel_regularizer = regularizers.l2(.01), activation='relu'))\n",
    "model.add(layers.MaxPool2D(pool_size=2, strides=2))\n",
    "\n",
    "\n",
    "model.add(layers.Conv2D(filters=64, kernel_size=3, kernel_regularizer = regularizers.l2(.01), activation='relu'))\n",
    "model.add(layers.MaxPool2D(pool_size=2, strides=2))\n",
    "\n",
    "\n",
    "model.add(layers.Conv2D(filters=64, kernel_size=3, kernel_regularizer = regularizers.l2(.01), activation='relu'))\n",
    "model.add(layers.MaxPool2D(pool_size=2, strides=2))\n",
    "\n",
    "model.add(layers.Flatten())\n",
    "model.add(layers.Dense(units=128, kernel_regularizer = regularizers.l2(.01), activation='relu'))\n",
    "\n",
    "\n",
    "model.add(layers.Dense(units=1, kernel_regularizer = regularizers.l2(.01), activation='sigmoid'))\n",
    "model.summary()\n",
    "\n",
    "model.compile(optimizer = tf.keras.optimizers.Adam(),\n",
    "             loss = tf.keras.losses.BinaryCrossentropy(),\n",
    "              metrics = ['accuracy',tf.keras.metrics.Recall()])  \n",
    "\n",
    "from keras import callbacks\n",
    "\n",
    "earlystopping = callbacks.EarlyStopping(monitor =\"val_loss\", \n",
    "                                        mode =\"min\", patience = 5, \n",
    "                                        restore_best_weights = True)\n",
    "# learning_rate_reduction = tf.keras.callbacks.ReduceLROnPlateau(monitor='val_accuracy', \n",
    "#                                                                patience = 2, \n",
    "#                                                                verbose=1, \n",
    "#                                                                factor=0.3, \n",
    "#                                                                min_lr=0.000001)\n",
    "\n",
    "history = model.fit(train_images_normalized, \n",
    "                    train_y,  \n",
    "                    epochs=20,\n",
    "                    steps_per_epoch = 100,\n",
    "                    validation_data = (val_images_normalized, val_y), \n",
    "                    callbacks = [earlystopping])\n",
    "\n",
    "print(f\"\\nTraining Score: {model.evaluate(train_images_normalized, train_y)}\")\n",
    "print(f\"\\nTest Score: {model.evaluate(test_images_normalized, test_y)}\")"
   ]
  },
  {
   "cell_type": "code",
   "execution_count": 44,
   "metadata": {
    "scrolled": false
   },
   "outputs": [
    {
     "name": "stdout",
     "output_type": "stream",
     "text": [
      "Epoch 1/10\n",
      "15/15 [==============================] - 72s 5s/step - loss: 1.8956 - accuracy: 0.6122 - recall_7: 0.2804 - val_loss: 0.9153 - val_accuracy: 0.5000 - val_recall_7: 0.0000e+00\n",
      "Epoch 2/10\n",
      "15/15 [==============================] - 70s 5s/step - loss: 0.5357 - accuracy: 0.7464 - recall_7: 0.0410 - val_loss: 1.6439 - val_accuracy: 0.5000 - val_recall_7: 0.0000e+00\n",
      "Epoch 3/10\n",
      "15/15 [==============================] - 75s 5s/step - loss: 0.4129 - accuracy: 0.8012 - recall_7: 0.4892 - val_loss: 1.7097 - val_accuracy: 0.7500 - val_recall_7: 0.5000\n",
      "Epoch 4/10\n",
      "15/15 [==============================] - 71s 5s/step - loss: 0.3689 - accuracy: 0.8244 - recall_7: 0.6130 - val_loss: 2.1593 - val_accuracy: 0.6250 - val_recall_7: 0.2500\n",
      "Epoch 5/10\n",
      "15/15 [==============================] - 74s 5s/step - loss: 0.3062 - accuracy: 0.8675 - recall_7: 0.7606 - val_loss: 2.0214 - val_accuracy: 0.6250 - val_recall_7: 0.2500\n",
      "Epoch 6/10\n",
      "15/15 [==============================] - 66s 4s/step - loss: 0.2836 - accuracy: 0.8723 - recall_7: 0.7524 - val_loss: 2.1253 - val_accuracy: 0.6250 - val_recall_7: 0.2500\n",
      "Epoch 7/10\n",
      "15/15 [==============================] - 66s 4s/step - loss: 0.2401 - accuracy: 0.8951 - recall_7: 0.8195 - val_loss: 2.4095 - val_accuracy: 0.5625 - val_recall_7: 0.1250\n",
      "Epoch 8/10\n",
      "15/15 [==============================] - 66s 4s/step - loss: 0.2144 - accuracy: 0.9055 - recall_7: 0.8404 - val_loss: 2.9264 - val_accuracy: 0.5000 - val_recall_7: 0.0000e+00\n",
      "Epoch 9/10\n",
      "15/15 [==============================] - 70s 5s/step - loss: 0.1954 - accuracy: 0.9126 - recall_7: 0.8359 - val_loss: 2.7808 - val_accuracy: 0.5625 - val_recall_7: 0.1250\n",
      "Epoch 10/10\n",
      "15/15 [==============================] - 73s 5s/step - loss: 0.1519 - accuracy: 0.9348 - recall_7: 0.8896 - val_loss: 2.6891 - val_accuracy: 0.5625 - val_recall_7: 0.1250\n",
      "Model: \"sequential_7\"\n",
      "_________________________________________________________________\n",
      "Layer (type)                 Output Shape              Param #   \n",
      "=================================================================\n",
      "conv2d_21 (Conv2D)           (None, 256, 256, 32)      320       \n",
      "_________________________________________________________________\n",
      "max_pooling2d_21 (MaxPooling (None, 128, 128, 32)      0         \n",
      "_________________________________________________________________\n",
      "conv2d_22 (Conv2D)           (None, 64, 64, 64)        18496     \n",
      "_________________________________________________________________\n",
      "max_pooling2d_22 (MaxPooling (None, 32, 32, 64)        0         \n",
      "_________________________________________________________________\n",
      "conv2d_23 (Conv2D)           (None, 16, 16, 128)       73856     \n",
      "_________________________________________________________________\n",
      "max_pooling2d_23 (MaxPooling (None, 8, 8, 128)         0         \n",
      "_________________________________________________________________\n",
      "conv2d_24 (Conv2D)           (None, 4, 4, 256)         295168    \n",
      "_________________________________________________________________\n",
      "max_pooling2d_24 (MaxPooling (None, 2, 2, 256)         0         \n",
      "_________________________________________________________________\n",
      "flatten_5 (Flatten)          (None, 1024)              0         \n",
      "_________________________________________________________________\n",
      "dense_18 (Dense)             (None, 128)               131200    \n",
      "_________________________________________________________________\n",
      "dense_19 (Dense)             (None, 64)                8256      \n",
      "_________________________________________________________________\n",
      "dense_20 (Dense)             (None, 32)                2080      \n",
      "_________________________________________________________________\n",
      "dense_21 (Dense)             (None, 1)                 33        \n",
      "=================================================================\n",
      "Total params: 529,409\n",
      "Trainable params: 529,409\n",
      "Non-trainable params: 0\n",
      "_________________________________________________________________\n",
      "163/163 [==============================] - 19s 117ms/step - loss: 0.1156 - accuracy: 0.9576 - recall_7: 0.9217\n",
      "\n",
      "Training Score: [0.11564607918262482, 0.9576303958892822, 0.9217002391815186]\n",
      "20/20 [==============================] - 2s 115ms/step - loss: 0.6301 - accuracy: 0.7949 - recall_7: 0.5299\n",
      "\n",
      "Test Score: [0.6300522685050964, 0.7948718070983887, 0.5299145579338074]\n"
     ]
    }
   ],
   "source": [
    "model = models.Sequential()\n",
    "\n",
    "model.add(layers.Conv2D(filters = 32, strides = (1,1), kernel_size = 3, padding = 'same', activation = 'relu'))\n",
    "model.add(layers.MaxPool2D((2,2)))\n",
    "\n",
    "\n",
    "model.add(layers.Conv2D(filters = 64, strides = (2,2), kernel_size = 3, padding = 'same', activation = 'relu'))\n",
    "model.add(layers.MaxPool2D((2,2)))\n",
    "\n",
    "model.add(layers.Conv2D(filters = 128, strides = (2,2), kernel_size = 3, padding = 'same', activation = 'relu'))\n",
    "model.add(layers.MaxPool2D((2,2)))\n",
    "\n",
    "\n",
    "model.add(layers.Conv2D(filters = 256, strides = (2,2), kernel_size = 3, padding = 'same', activation = 'relu'))\n",
    "model.add(layers.MaxPool2D((2,2)))\n",
    "\n",
    "\n",
    "model.add(layers.Flatten())\n",
    "model.add(layers.Dense(128, activation = 'relu'))\n",
    "\n",
    "\n",
    "model.add(layers.Dense(64, activation = 'relu'))\n",
    "\n",
    "\n",
    "model.add(layers.Dense(32, activation = 'relu'))\n",
    "\n",
    "\n",
    "model.add(layers.Dense(1, activation = 'sigmoid'))\n",
    "\n",
    "model.compile(loss = 'BinaryCrossentropy', \n",
    "             optimizer = 'adam', \n",
    "             metrics = ['accuracy', tf.keras.metrics.Recall()])\n",
    "\n",
    "\n",
    "\n",
    "\n",
    "history = model.fit(train_images,\n",
    "                   train_y, \n",
    "                   steps_per_epoch = 15, \n",
    "                   epochs = 10,\n",
    "                   validation_data = (val_images, val_y))\n",
    "model.summary()\n",
    "\n",
    "\n",
    "\n",
    "print(f\"\\nTraining Score: {model.evaluate(train_images, train_y)}\")\n",
    "print(f\"\\nTest Score: {model.evaluate(test_images, test_y)}\")\n"
   ]
  },
  {
   "cell_type": "code",
   "execution_count": 47,
   "metadata": {},
   "outputs": [
    {
     "name": "stdout",
     "output_type": "stream",
     "text": [
      "Epoch 1/10\n",
      "80/80 [==============================] - 450s 6s/step - loss: 0.6424 - accuracy: 0.8451 - recall_9: 0.7517 - val_loss: 0.5948 - val_accuracy: 0.6250 - val_recall_9: 0.7500\n",
      "Epoch 2/10\n",
      "80/80 [==============================] - 438s 5s/step - loss: 0.3307 - accuracy: 0.8829 - recall_9: 0.8091 - val_loss: 8.3831 - val_accuracy: 0.5625 - val_recall_9: 0.1250\n",
      "Epoch 3/10\n",
      "80/80 [==============================] - ETA: 0s - loss: 0.3039 - accuracy: 0.9084 - recall_9: 0.8464\n",
      "Epoch 00003: ReduceLROnPlateau reducing learning rate to 0.0003000000142492354.\n",
      "80/80 [==============================] - 434s 5s/step - loss: 0.3039 - accuracy: 0.9084 - recall_9: 0.8464 - val_loss: 3.3259 - val_accuracy: 0.6250 - val_recall_9: 0.2500\n",
      "Epoch 4/10\n",
      "80/80 [==============================] - 456s 6s/step - loss: 0.1487 - accuracy: 0.9452 - recall_9: 0.9098 - val_loss: 1.3680 - val_accuracy: 0.7500 - val_recall_9: 0.5000\n",
      "Epoch 5/10\n",
      "80/80 [==============================] - 458s 6s/step - loss: 0.1087 - accuracy: 0.9548 - recall_9: 0.9292 - val_loss: 13.2592 - val_accuracy: 0.5000 - val_recall_9: 0.0000e+00\n",
      "Epoch 6/10\n",
      "80/80 [==============================] - ETA: 0s - loss: 0.1050 - accuracy: 0.9615 - recall_9: 0.9314\n",
      "Epoch 00006: ReduceLROnPlateau reducing learning rate to 9.000000427477062e-05.\n",
      "80/80 [==============================] - 502s 6s/step - loss: 0.1050 - accuracy: 0.9615 - recall_9: 0.9314 - val_loss: 1.2198 - val_accuracy: 0.6875 - val_recall_9: 0.3750\n",
      "Epoch 7/10\n",
      "80/80 [==============================] - 523s 7s/step - loss: 0.0639 - accuracy: 0.9785 - recall_9: 0.9672 - val_loss: 1.9852 - val_accuracy: 0.6875 - val_recall_9: 0.3750\n",
      "Epoch 8/10\n",
      "80/80 [==============================] - ETA: 0s - loss: 0.0589 - accuracy: 0.9785 - recall_9: 0.9679\n",
      "Epoch 00008: ReduceLROnPlateau reducing learning rate to 2.700000040931627e-05.\n",
      "80/80 [==============================] - 521s 7s/step - loss: 0.0589 - accuracy: 0.9785 - recall_9: 0.9679 - val_loss: 1.2677 - val_accuracy: 0.6875 - val_recall_9: 0.3750\n",
      "Epoch 9/10\n",
      "80/80 [==============================] - 492s 6s/step - loss: 0.0475 - accuracy: 0.9831 - recall_9: 0.9724 - val_loss: 1.8016 - val_accuracy: 0.6875 - val_recall_9: 0.3750\n",
      "Epoch 10/10\n",
      "80/80 [==============================] - ETA: 0s - loss: 0.0431 - accuracy: 0.9845 - recall_9: 0.9776\n",
      "Epoch 00010: ReduceLROnPlateau reducing learning rate to 8.100000013655517e-06.\n",
      "80/80 [==============================] - 498s 6s/step - loss: 0.0431 - accuracy: 0.9845 - recall_9: 0.9776 - val_loss: 2.1453 - val_accuracy: 0.6875 - val_recall_9: 0.3750\n"
     ]
    }
   ],
   "source": [
    "model = Sequential()\n",
    "model.add(layers.Conv2D(32 , (3,3) , strides = 1 , padding = 'same' , activation = 'relu' ))\n",
    "model.add(layers.BatchNormalization())\n",
    "model.add(layers.MaxPool2D((2,2) , strides = 2 , padding = 'same'))\n",
    "model.add(layers.Conv2D(64 , (3,3) , strides = 1 , padding = 'same' , activation = 'relu'))\n",
    "model.add(layers.Dropout(0.1))\n",
    "model.add(layers.BatchNormalization())\n",
    "model.add(layers.MaxPool2D((2,2) , strides = 2 , padding = 'same'))\n",
    "model.add(layers.Conv2D(64 , (3,3) , strides = 1 , padding = 'same' , activation = 'relu'))\n",
    "model.add(layers.BatchNormalization())\n",
    "model.add(layers.MaxPool2D((2,2) , strides = 2 , padding = 'same'))\n",
    "model.add(layers.Conv2D(128 , (3,3) , strides = 1 , padding = 'same' , activation = 'relu'))\n",
    "model.add(layers.Dropout(0.2))\n",
    "model.add(layers.BatchNormalization())\n",
    "model.add(layers.MaxPool2D((2,2) , strides = 2 , padding = 'same'))\n",
    "model.add(layers.Conv2D(256 , (3,3) , strides = 1 , padding = 'same' , activation = 'relu'))\n",
    "model.add(layers.Dropout(0.2))\n",
    "model.add(layers.BatchNormalization())\n",
    "model.add(layers.MaxPool2D((2,2) , strides = 2 , padding = 'same'))\n",
    "model.add(layers.Flatten())\n",
    "model.add(layers.Dense(units = 128 , activation = 'relu'))\n",
    "model.add(layers.Dropout(0.2))\n",
    "model.add(layers.Dense(units = 1 , activation = 'sigmoid'))\n",
    "model.compile(optimizer = \"rmsprop\" , loss = 'binary_crossentropy' , metrics = ['accuracy', tf.keras.metrics.Recall()])\n",
    "# model.summary()\n",
    "\n",
    "learning_rate_reduction = tf.keras.callbacks.ReduceLROnPlateau(monitor='val_accuracy', patience = 2, verbose=1,factor=0.3, min_lr=0.000001)\n",
    "\n",
    "history = model.fit(train_images,\n",
    "                    train_y,\n",
    "                    epochs = 10,\n",
    "                    steps_per_epoch= 80,\n",
    "                    validation_data = (val_images, val_y),\n",
    "                    callbacks = [learning_rate_reduction])\n",
    "\n",
    "# print(\"Loss of the model is - \" , model.evaluate(x_test,y_test)[0])\n",
    "\n",
    "# print(\"Accuracy of the model is - \" , model.evaluate(x_test,y_test)[1]*100 , \"%\")\n"
   ]
  },
  {
   "cell_type": "code",
   "execution_count": 48,
   "metadata": {},
   "outputs": [
    {
     "name": "stdout",
     "output_type": "stream",
     "text": [
      "163/163 [==============================] - 41s 251ms/step - loss: 0.0911 - accuracy: 0.9641 - recall_9: 0.8732\n",
      "Loss of the model is -  0.0910692885518074\n",
      "20/20 [==============================] - 5s 233ms/step - loss: 2.3153 - accuracy: 0.7179 - recall_9: 0.2607\n",
      "Accuracy of the model is -  71.79487347602844 %\n"
     ]
    }
   ],
   "source": [
    "print(\"Loss of the model is - \" , model.evaluate(train_images,train_y)[0])\n",
    "\n",
    "print(\"Accuracy of the model is - \" , model.evaluate(test_images,test_y)[1]*100 , \"%\")"
   ]
  },
  {
   "cell_type": "code",
   "execution_count": null,
   "metadata": {},
   "outputs": [],
   "source": []
  }
 ],
 "metadata": {
  "kernelspec": {
   "display_name": "Python (learn-env)",
   "language": "python",
   "name": "learn-env"
  },
  "language_info": {
   "codemirror_mode": {
    "name": "ipython",
    "version": 3
   },
   "file_extension": ".py",
   "mimetype": "text/x-python",
   "name": "python",
   "nbconvert_exporter": "python",
   "pygments_lexer": "ipython3",
   "version": "3.8.5"
  }
 },
 "nbformat": 4,
 "nbformat_minor": 4
}
