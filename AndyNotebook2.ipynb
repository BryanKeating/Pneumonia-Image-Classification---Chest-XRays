{
 "cells": [
  {
   "cell_type": "code",
   "execution_count": 1,
   "metadata": {},
   "outputs": [],
   "source": [
    "#following along with CNN - Codealong\n",
    "#for create new folders and move the new files in there\n",
    "import os, shutil"
   ]
  },
  {
   "cell_type": "code",
   "execution_count": 2,
   "metadata": {},
   "outputs": [],
   "source": [
    "import time\n",
    "import matplotlib.pyplot as plt\n",
    "import scipy\n",
    "import numpy as np\n",
    "from PIL import Image\n",
    "from scipy import ndimage\n",
    "from keras.preprocessing.image import ImageDataGenerator, array_to_img, img_to_array, load_img\n",
    "import warnings\n",
    "warnings.filterwarnings('ignore')\n",
    "\n",
    "\n",
    "from numpy.random import seed\n",
    "seed(42)\n",
    "\n",
    "import os\n",
    "import tqdm\n",
    "from os import walk\n",
    "\n",
    "import numpy as np\n",
    "import pandas as pd\n",
    "import tensorflow as tf\n",
    "from matplotlib import pyplot as plt"
   ]
  },
  {
   "cell_type": "code",
   "execution_count": 3,
   "metadata": {},
   "outputs": [],
   "source": [
    "DataAug = ImageDataGenerator(\n",
    "    featurewise_center=False,  # set input mean to 0 over the dataset\n",
    "    samplewise_center=False,  # set each sample mean to 0\n",
    "    featurewise_std_normalization=False,  # divide inputs by std of the dataset\n",
    "    samplewise_std_normalization=False,  # divide each input by its std\n",
    "    zca_whitening=False,  # apply ZCA whitening\n",
    "    rotation_range = 45,  # randomly rotate images in the range (degrees, 0 to 180)\n",
    "    zoom_range = 0.2, # Randomly zoom image \n",
    "    width_shift_range=0.15,  # randomly shift images horizontally (fraction of total width)\n",
    "    height_shift_range=0.15,  # randomly shift images vertically (fraction of total height)\n",
    "    horizontal_flip = True,  # randomly flip images\n",
    "    vertical_flip=False)  # randomly flip images"
   ]
  },
  {
   "cell_type": "code",
   "execution_count": 4,
   "metadata": {},
   "outputs": [
    {
     "name": "stdout",
     "output_type": "stream",
     "text": [
      "Found 624 images belonging to 2 classes.\n",
      "Found 16 images belonging to 2 classes.\n",
      "Found 5216 images belonging to 2 classes.\n"
     ]
    }
   ],
   "source": [
    "# get all the data in the directory xray/test (624 images), and reshape them\n",
    "test_generator_base = ImageDataGenerator(rescale= 1./255).flow_from_directory(\"Data/chest_xray/chest_xray/test/\",\n",
    "                                                                         batch_size = 624)\n",
    "\n",
    "# get all the data in the directory xray/val (16 images), and reshape them\n",
    "val_generator_base = ImageDataGenerator(1./255).flow_from_directory(\"Data/chest_xray/chest_xray/val/\",\n",
    "                                                               batch_size = 16)\n",
    "\n",
    "# get all the data in the directory xray/train (5216 images), and reshape them\n",
    "train_generator_base = ImageDataGenerator(1./255).flow_from_directory(\"Data/chest_xray/chest_xray/train/\",\n",
    "                                              batch_size = 5216)"
   ]
  },
  {
   "cell_type": "code",
   "execution_count": 5,
   "metadata": {},
   "outputs": [],
   "source": [
    "train_images, train_labels = next(train_generator_base)\n",
    "\n",
    "test_images, test_labels = next(test_generator_base)\n",
    "\n",
    "val_images, val_labels = next(val_generator_base)"
   ]
  },
  {
   "cell_type": "code",
   "execution_count": 6,
   "metadata": {},
   "outputs": [
    {
     "data": {
      "text/plain": [
       "5216"
      ]
     },
     "execution_count": 6,
     "metadata": {},
     "output_type": "execute_result"
    }
   ],
   "source": [
    "len(train_labels)"
   ]
  },
  {
   "cell_type": "code",
   "execution_count": 7,
   "metadata": {},
   "outputs": [],
   "source": [
    "# data_aug = data_aug()\n",
    "# data_aug.fit(train_images)"
   ]
  },
  {
   "cell_type": "code",
   "execution_count": 8,
   "metadata": {},
   "outputs": [
    {
     "name": "stdout",
     "output_type": "stream",
     "text": [
      "Number of training samples: 5216\n",
      "Number of testing samples: 624\n",
      "Number of validation samples: 16\n",
      "train_images shape: (5216, 256, 256, 3)\n",
      "train_labels shape: (5216, 2)\n",
      "test_images shape: (624, 256, 256, 3)\n",
      "test_labels shape: (624, 2)\n",
      "val_images shape: (16, 256, 256, 3)\n",
      "val_labels shape: (16, 2)\n"
     ]
    }
   ],
   "source": [
    "# Explore your dataset again\n",
    "m_train = train_images.shape[0]\n",
    "num_px = train_images.shape[1]\n",
    "m_test = test_images.shape[0]\n",
    "m_val = val_images.shape[0]\n",
    "\n",
    "print (\"Number of training samples: \" + str(m_train))\n",
    "print (\"Number of testing samples: \" + str(m_test))\n",
    "print (\"Number of validation samples: \" + str(m_val))\n",
    "print (\"train_images shape: \" + str(train_images.shape))\n",
    "print (\"train_labels shape: \" + str(train_labels.shape))\n",
    "print (\"test_images shape: \" + str(test_images.shape))\n",
    "print (\"test_labels shape: \" + str(test_labels.shape))\n",
    "print (\"val_images shape: \" + str(val_images.shape))\n",
    "print (\"val_labels shape: \" + str(val_labels.shape))"
   ]
  },
  {
   "cell_type": "code",
   "execution_count": 9,
   "metadata": {},
   "outputs": [
    {
     "name": "stdout",
     "output_type": "stream",
     "text": [
      "Found 624 images belonging to 2 classes.\n",
      "Found 16 images belonging to 2 classes.\n",
      "Found 5216 images belonging to 2 classes.\n"
     ]
    }
   ],
   "source": [
    "# get all the data in the directory xray/test (624 images), and reshape them\n",
    "test_generator = DataAug.flow_from_directory(\"Data/chest_xray/chest_xray/test/\", \n",
    "                                                                              batch_size = 624, \n",
    "                                                                             color_mode= \"grayscale\")\n",
    "\n",
    "# get all the data in the directory xray/val (16 images), and reshape them\n",
    "val_generator = DataAug.flow_from_directory(\"Data/chest_xray/chest_xray/val/\", \n",
    "                                                                    batch_size = 16,\n",
    "                                                                   color_mode= \"grayscale\")\n",
    "\n",
    "# get all the data in the directory xray/train (5216 images), and reshape them\n",
    "train_generator = DataAug.flow_from_directory(\"Data/chest_xray/chest_xray/train/\", \n",
    "                                                                      batch_size = 5216, \n",
    "                                                                     color_mode= \"grayscale\")"
   ]
  },
  {
   "cell_type": "code",
   "execution_count": 10,
   "metadata": {},
   "outputs": [],
   "source": [
    "train_images, train_labels = next(train_generator)\n",
    "\n",
    "test_images, test_labels = next(test_generator)\n",
    "\n",
    "val_images, val_labels = next(val_generator)"
   ]
  },
  {
   "cell_type": "code",
   "execution_count": 11,
   "metadata": {},
   "outputs": [
    {
     "name": "stdout",
     "output_type": "stream",
     "text": [
      "Number of training samples: 5216\n",
      "Number of testing samples: 624\n",
      "Number of validation samples: 16\n",
      "train_images shape: (5216, 256, 256, 1)\n",
      "train_labels shape: (5216, 2)\n",
      "test_images shape: (624, 256, 256, 1)\n",
      "test_labels shape: (624, 2)\n",
      "val_images shape: (16, 256, 256, 1)\n",
      "val_labels shape: (16, 2)\n"
     ]
    }
   ],
   "source": [
    "# Explore your dataset again\n",
    "m_train = train_images.shape[0]\n",
    "num_px = train_images.shape[1]\n",
    "m_test = test_images.shape[0]\n",
    "m_val = val_images.shape[0]\n",
    "\n",
    "print (\"Number of training samples: \" + str(m_train))\n",
    "print (\"Number of testing samples: \" + str(m_test))\n",
    "print (\"Number of validation samples: \" + str(m_val))\n",
    "print (\"train_images shape: \" + str(train_images.shape))\n",
    "print (\"train_labels shape: \" + str(train_labels.shape))\n",
    "print (\"test_images shape: \" + str(test_images.shape))\n",
    "print (\"test_labels shape: \" + str(test_labels.shape))\n",
    "print (\"val_images shape: \" + str(val_images.shape))\n",
    "print (\"val_labels shape: \" + str(val_labels.shape))"
   ]
  },
  {
   "cell_type": "code",
   "execution_count": 12,
   "metadata": {},
   "outputs": [
    {
     "name": "stdout",
     "output_type": "stream",
     "text": [
      "(5216, 65536)\n",
      "(624, 65536)\n",
      "(16, 65536)\n"
     ]
    }
   ],
   "source": [
    "#reshaping data\n",
    "train_img = train_images.reshape(train_images.shape[0], -1)\n",
    "test_img = test_images.reshape(test_images.shape[0], -1)\n",
    "val_img = val_images.reshape(val_images.shape[0], -1)\n",
    "\n",
    "print(train_img.shape)\n",
    "print(test_img.shape)\n",
    "print(val_img.shape)"
   ]
  },
  {
   "cell_type": "raw",
   "metadata": {},
   "source": [
    "train_labels"
   ]
  },
  {
   "cell_type": "code",
   "execution_count": 13,
   "metadata": {},
   "outputs": [],
   "source": [
    "#reshaping label\n",
    "train_y = np.reshape(train_labels[:,0], (5216,1))\n",
    "test_y = np.reshape(test_labels[:,0], (624,1))\n",
    "val_y = np.reshape(val_labels[:,0], (16,1))"
   ]
  },
  {
   "cell_type": "code",
   "execution_count": 14,
   "metadata": {},
   "outputs": [
    {
     "name": "stdout",
     "output_type": "stream",
     "text": [
      "(5216, 1)\n",
      "(624, 1)\n",
      "(16, 1)\n"
     ]
    }
   ],
   "source": [
    "\n",
    "print(train_y.shape)\n",
    "print(test_y.shape)\n",
    "print(val_y.shape)"
   ]
  },
  {
   "cell_type": "code",
   "execution_count": 15,
   "metadata": {},
   "outputs": [
    {
     "data": {
      "text/plain": [
       "(5216, 1)"
      ]
     },
     "execution_count": 15,
     "metadata": {},
     "output_type": "execute_result"
    }
   ],
   "source": [
    "train_y.shape"
   ]
  },
  {
   "cell_type": "code",
   "execution_count": 16,
   "metadata": {},
   "outputs": [
    {
     "data": {
      "text/plain": [
       "array([[0., 1.],\n",
       "       [1., 0.],\n",
       "       [1., 0.],\n",
       "       ...,\n",
       "       [0., 1.],\n",
       "       [0., 1.],\n",
       "       [0., 1.]], dtype=float32)"
      ]
     },
     "execution_count": 16,
     "metadata": {},
     "output_type": "execute_result"
    }
   ],
   "source": [
    "train_labels"
   ]
  },
  {
   "cell_type": "code",
   "execution_count": 17,
   "metadata": {},
   "outputs": [
    {
     "data": {
      "text/plain": [
       "<AxesSubplot:ylabel='count'>"
      ]
     },
     "execution_count": 17,
     "metadata": {},
     "output_type": "execute_result"
    },
    {
     "data": {
      "image/png": "[encoded data removed]",
      "text/plain": [
       "<Figure size 432x288 with 1 Axes>"
      ]
     },
     "metadata": {},
     "output_type": "display_data"
    }
   ],
   "source": [
    "import pandas as pd\n",
    "import seaborn as sns\n",
    "\n",
    "l = []\n",
    "for i in train_img:\n",
    "    if(i[1] == 0):\n",
    "        l.append(\"Normal\")\n",
    "    else:\n",
    "        l.append(\"Pneumonia\")\n",
    "sns.set_style(\"darkgrid\")\n",
    "sns.countplot(l)"
   ]
  },
  {
   "cell_type": "code",
   "execution_count": 18,
   "metadata": {},
   "outputs": [],
   "source": [
    "from sklearn.linear_model import LogisticRegression\n",
    "lr = LogisticRegression(random_state = 42)"
   ]
  },
  {
   "cell_type": "code",
   "execution_count": 19,
   "metadata": {},
   "outputs": [
    {
     "data": {
      "text/plain": [
       "LogisticRegression(random_state=42)"
      ]
     },
     "execution_count": 19,
     "metadata": {},
     "output_type": "execute_result"
    }
   ],
   "source": [
    "lr.fit(train_img, train_y)"
   ]
  },
  {
   "cell_type": "code",
   "execution_count": 20,
   "metadata": {},
   "outputs": [
    {
     "data": {
      "text/plain": [
       "0.6778846153846154"
      ]
     },
     "execution_count": 20,
     "metadata": {},
     "output_type": "execute_result"
    }
   ],
   "source": [
    "lr.score(test_img,test_y)"
   ]
  },
  {
   "cell_type": "code",
   "execution_count": 21,
   "metadata": {},
   "outputs": [],
   "source": [
    "y_pred = lr.predict(test_img)"
   ]
  },
  {
   "cell_type": "code",
   "execution_count": 22,
   "metadata": {},
   "outputs": [],
   "source": [
    "from sklearn.metrics import plot_confusion_matrix, accuracy_score, confusion_matrix, plot_roc_curve, \\\n",
    "make_scorer, recall_score, precision_score, f1_score"
   ]
  },
  {
   "cell_type": "code",
   "execution_count": 23,
   "metadata": {},
   "outputs": [
    {
     "data": {
      "text/plain": [
       "0.2905982905982906"
      ]
     },
     "execution_count": 23,
     "metadata": {},
     "output_type": "execute_result"
    }
   ],
   "source": [
    "recall_score(test_y, y_pred)"
   ]
  },
  {
   "cell_type": "code",
   "execution_count": 24,
   "metadata": {},
   "outputs": [],
   "source": [
    "from sklearn.ensemble import RandomForestClassifier\n",
    "rf= RandomForestClassifier(criterion = \"entropy\", max_depth = 15,\n",
    "                          min_samples_split= 5, n_estimators= 700,\n",
    "                          max_features = 'log2', random_state = 42)"
   ]
  },
  {
   "cell_type": "code",
   "execution_count": 25,
   "metadata": {},
   "outputs": [
    {
     "data": {
      "text/plain": [
       "RandomForestClassifier(criterion='entropy', max_depth=15, max_features='log2',\n",
       "                       min_samples_split=5, n_estimators=700, random_state=42)"
      ]
     },
     "execution_count": 25,
     "metadata": {},
     "output_type": "execute_result"
    }
   ],
   "source": [
    "rf.fit(train_img, train_y)"
   ]
  },
  {
   "cell_type": "code",
   "execution_count": 26,
   "metadata": {},
   "outputs": [
    {
     "data": {
      "text/plain": [
       "array([0.768     , 0.72      , 0.76      , 0.728     , 0.78225806])"
      ]
     },
     "execution_count": 26,
     "metadata": {},
     "output_type": "execute_result"
    }
   ],
   "source": [
    "from sklearn.model_selection import cross_val_score\n",
    "cross_val_score(rf, test_img, test_y, cv = 5)"
   ]
  },
  {
   "cell_type": "code",
   "execution_count": 27,
   "metadata": {},
   "outputs": [
    {
     "name": "stdout",
     "output_type": "stream",
     "text": [
      "Test score of random forest model: 0.7291666666666666\n"
     ]
    }
   ],
   "source": [
    "print(f'Test score of random forest model: {rf.score(test_img, test_y)}')"
   ]
  },
  {
   "cell_type": "code",
   "execution_count": 28,
   "metadata": {},
   "outputs": [
    {
     "name": "stdout",
     "output_type": "stream",
     "text": [
      "Model: \"sequential\"\n",
      "_________________________________________________________________\n",
      "Layer (type)                 Output Shape              Param #   \n",
      "=================================================================\n",
      "dense (Dense)                (None, 20)                1310740   \n",
      "_________________________________________________________________\n",
      "dense_1 (Dense)              (None, 7)                 147       \n",
      "_________________________________________________________________\n",
      "dense_2 (Dense)              (None, 5)                 40        \n",
      "_________________________________________________________________\n",
      "dense_3 (Dense)              (None, 1)                 6         \n",
      "=================================================================\n",
      "Total params: 1,310,933\n",
      "Trainable params: 1,310,933\n",
      "Non-trainable params: 0\n",
      "_________________________________________________________________\n"
     ]
    }
   ],
   "source": [
    "#baseline model\n",
    "from keras import models\n",
    "from keras import layers\n",
    "\n",
    "model = models.Sequential()\n",
    "model.add(layers.Dense(20, activation='relu', input_shape=(65536,))) # 2 hidden layers\n",
    "model.add(layers.Dense(7, activation='relu'))\n",
    "model.add(layers.Dense(5, activation='relu'))\n",
    "model.add(layers.Dense(1, activation='sigmoid'))\n",
    "model.summary()"
   ]
  },
  {
   "cell_type": "code",
   "execution_count": 29,
   "metadata": {
    "scrolled": false
   },
   "outputs": [
    {
     "name": "stdout",
     "output_type": "stream",
     "text": [
      "Epoch 1/50\n",
      "163/163 [==============================] - 1s 7ms/step - loss: 735.2108 - accuracy: 0.7347 - recall: 0.0075 - val_loss: 0.7176 - val_accuracy: 0.5000 - val_recall: 0.0000e+00\n",
      "Epoch 2/50\n",
      "163/163 [==============================] - 1s 6ms/step - loss: 0.5941 - accuracy: 0.7429 - recall: 0.0000e+00 - val_loss: 0.7538 - val_accuracy: 0.5000 - val_recall: 0.0000e+00\n",
      "Epoch 3/50\n",
      "163/163 [==============================] - 1s 6ms/step - loss: 0.5776 - accuracy: 0.7429 - recall: 0.0000e+00 - val_loss: 0.7833 - val_accuracy: 0.5000 - val_recall: 0.0000e+00\n",
      "Epoch 4/50\n",
      "163/163 [==============================] - 1s 6ms/step - loss: 0.5724 - accuracy: 0.7429 - recall: 0.0000e+00 - val_loss: 0.8011 - val_accuracy: 0.5000 - val_recall: 0.0000e+00\n",
      "Epoch 5/50\n",
      "163/163 [==============================] - 1s 6ms/step - loss: 0.5708 - accuracy: 0.7429 - recall: 0.0000e+00 - val_loss: 0.8126 - val_accuracy: 0.5000 - val_recall: 0.0000e+00\n",
      "Epoch 6/50\n",
      "163/163 [==============================] - 1s 6ms/step - loss: 0.5703 - accuracy: 0.7429 - recall: 0.0000e+00 - val_loss: 0.8198 - val_accuracy: 0.5000 - val_recall: 0.0000e+00\n",
      "Epoch 7/50\n",
      "163/163 [==============================] - 1s 6ms/step - loss: 0.5701 - accuracy: 0.7429 - recall: 0.0000e+00 - val_loss: 0.8238 - val_accuracy: 0.5000 - val_recall: 0.0000e+00\n",
      "Epoch 8/50\n",
      "163/163 [==============================] - 1s 6ms/step - loss: 0.5701 - accuracy: 0.7429 - recall: 0.0000e+00 - val_loss: 0.8251 - val_accuracy: 0.5000 - val_recall: 0.0000e+00\n",
      "Epoch 9/50\n",
      "163/163 [==============================] - 1s 6ms/step - loss: 0.5701 - accuracy: 0.7429 - recall: 0.0000e+00 - val_loss: 0.8266 - val_accuracy: 0.5000 - val_recall: 0.0000e+00\n",
      "Epoch 10/50\n",
      "163/163 [==============================] - 1s 6ms/step - loss: 0.5700 - accuracy: 0.7429 - recall: 0.0000e+00 - val_loss: 0.8268 - val_accuracy: 0.5000 - val_recall: 0.0000e+00\n",
      "Epoch 11/50\n",
      "163/163 [==============================] - 1s 6ms/step - loss: 0.5701 - accuracy: 0.7429 - recall: 0.0000e+00 - val_loss: 0.8267 - val_accuracy: 0.5000 - val_recall: 0.0000e+00\n",
      "Epoch 12/50\n",
      "163/163 [==============================] - 1s 6ms/step - loss: 0.5701 - accuracy: 0.7429 - recall: 0.0000e+00 - val_loss: 0.8273 - val_accuracy: 0.5000 - val_recall: 0.0000e+00\n",
      "Epoch 13/50\n",
      "163/163 [==============================] - 1s 6ms/step - loss: 0.5700 - accuracy: 0.7429 - recall: 0.0000e+00 - val_loss: 0.8285 - val_accuracy: 0.5000 - val_recall: 0.0000e+00\n",
      "Epoch 14/50\n",
      "163/163 [==============================] - 1s 6ms/step - loss: 0.5700 - accuracy: 0.7429 - recall: 0.0000e+00 - val_loss: 0.8278 - val_accuracy: 0.5000 - val_recall: 0.0000e+00\n",
      "Epoch 15/50\n",
      "163/163 [==============================] - 1s 6ms/step - loss: 0.5700 - accuracy: 0.7429 - recall: 0.0000e+00 - val_loss: 0.8283 - val_accuracy: 0.5000 - val_recall: 0.0000e+00\n",
      "Epoch 16/50\n",
      "163/163 [==============================] - 1s 6ms/step - loss: 0.5700 - accuracy: 0.7429 - recall: 0.0000e+00 - val_loss: 0.8285 - val_accuracy: 0.5000 - val_recall: 0.0000e+00\n",
      "Epoch 17/50\n",
      "163/163 [==============================] - 1s 6ms/step - loss: 0.5700 - accuracy: 0.7429 - recall: 0.0000e+00 - val_loss: 0.8277 - val_accuracy: 0.5000 - val_recall: 0.0000e+00\n",
      "Epoch 18/50\n",
      "163/163 [==============================] - 1s 6ms/step - loss: 0.5701 - accuracy: 0.7429 - recall: 0.0000e+00 - val_loss: 0.8279 - val_accuracy: 0.5000 - val_recall: 0.0000e+00\n",
      "Epoch 19/50\n",
      "163/163 [==============================] - 1s 6ms/step - loss: 0.5700 - accuracy: 0.7429 - recall: 0.0000e+00 - val_loss: 0.8275 - val_accuracy: 0.5000 - val_recall: 0.0000e+00\n",
      "Epoch 20/50\n",
      "163/163 [==============================] - 1s 6ms/step - loss: 0.5700 - accuracy: 0.7429 - recall: 0.0000e+00 - val_loss: 0.8271 - val_accuracy: 0.5000 - val_recall: 0.0000e+00\n",
      "Epoch 21/50\n",
      "163/163 [==============================] - 1s 6ms/step - loss: 0.5700 - accuracy: 0.7429 - recall: 0.0000e+00 - val_loss: 0.8278 - val_accuracy: 0.5000 - val_recall: 0.0000e+00\n",
      "Epoch 22/50\n",
      "163/163 [==============================] - 1s 6ms/step - loss: 0.5701 - accuracy: 0.7429 - recall: 0.0000e+00 - val_loss: 0.8274 - val_accuracy: 0.5000 - val_recall: 0.0000e+00\n",
      "Epoch 23/50\n",
      "163/163 [==============================] - 1s 7ms/step - loss: 0.5700 - accuracy: 0.7429 - recall: 0.0000e+00 - val_loss: 0.8273 - val_accuracy: 0.5000 - val_recall: 0.0000e+00\n",
      "Epoch 24/50\n",
      "163/163 [==============================] - 1s 6ms/step - loss: 0.5700 - accuracy: 0.7429 - recall: 0.0000e+00 - val_loss: 0.8266 - val_accuracy: 0.5000 - val_recall: 0.0000e+00\n",
      "Epoch 25/50\n",
      "163/163 [==============================] - 1s 6ms/step - loss: 0.5700 - accuracy: 0.7429 - recall: 0.0000e+00 - val_loss: 0.8275 - val_accuracy: 0.5000 - val_recall: 0.0000e+00\n",
      "Epoch 26/50\n",
      "163/163 [==============================] - 1s 6ms/step - loss: 0.5700 - accuracy: 0.7429 - recall: 0.0000e+00 - val_loss: 0.8271 - val_accuracy: 0.5000 - val_recall: 0.0000e+00\n",
      "Epoch 27/50\n",
      "163/163 [==============================] - 1s 6ms/step - loss: 0.5700 - accuracy: 0.7429 - recall: 0.0000e+00 - val_loss: 0.8271 - val_accuracy: 0.5000 - val_recall: 0.0000e+00\n",
      "Epoch 28/50\n",
      "163/163 [==============================] - 1s 6ms/step - loss: 0.5700 - accuracy: 0.7429 - recall: 0.0000e+00 - val_loss: 0.8267 - val_accuracy: 0.5000 - val_recall: 0.0000e+00\n",
      "Epoch 29/50\n",
      "163/163 [==============================] - 1s 7ms/step - loss: 0.5701 - accuracy: 0.7429 - recall: 0.0000e+00 - val_loss: 0.8271 - val_accuracy: 0.5000 - val_recall: 0.0000e+00\n",
      "Epoch 30/50\n",
      "163/163 [==============================] - 1s 6ms/step - loss: 0.5701 - accuracy: 0.7429 - recall: 0.0000e+00 - val_loss: 0.8275 - val_accuracy: 0.5000 - val_recall: 0.0000e+00\n",
      "Epoch 31/50\n",
      "163/163 [==============================] - 1s 6ms/step - loss: 0.5701 - accuracy: 0.7429 - recall: 0.0000e+00 - val_loss: 0.8275 - val_accuracy: 0.5000 - val_recall: 0.0000e+00\n",
      "Epoch 32/50\n",
      "163/163 [==============================] - 1s 6ms/step - loss: 0.5700 - accuracy: 0.7429 - recall: 0.0000e+00 - val_loss: 0.8266 - val_accuracy: 0.5000 - val_recall: 0.0000e+00\n",
      "Epoch 33/50\n",
      "163/163 [==============================] - 1s 6ms/step - loss: 0.5701 - accuracy: 0.7429 - recall: 0.0000e+00 - val_loss: 0.8268 - val_accuracy: 0.5000 - val_recall: 0.0000e+00\n",
      "Epoch 34/50\n",
      "163/163 [==============================] - 1s 6ms/step - loss: 0.5700 - accuracy: 0.7429 - recall: 0.0000e+00 - val_loss: 0.8273 - val_accuracy: 0.5000 - val_recall: 0.0000e+00\n",
      "Epoch 35/50\n",
      "163/163 [==============================] - 1s 6ms/step - loss: 0.5700 - accuracy: 0.7429 - recall: 0.0000e+00 - val_loss: 0.8285 - val_accuracy: 0.5000 - val_recall: 0.0000e+00\n",
      "Epoch 36/50\n",
      "163/163 [==============================] - 1s 6ms/step - loss: 0.5700 - accuracy: 0.7429 - recall: 0.0000e+00 - val_loss: 0.8279 - val_accuracy: 0.5000 - val_recall: 0.0000e+00\n",
      "Epoch 37/50\n",
      "163/163 [==============================] - 1s 6ms/step - loss: 0.5701 - accuracy: 0.7429 - recall: 0.0000e+00 - val_loss: 0.8275 - val_accuracy: 0.5000 - val_recall: 0.0000e+00\n",
      "Epoch 38/50\n",
      "163/163 [==============================] - 1s 6ms/step - loss: 0.5700 - accuracy: 0.7429 - recall: 0.0000e+00 - val_loss: 0.8283 - val_accuracy: 0.5000 - val_recall: 0.0000e+00\n",
      "Epoch 39/50\n",
      "163/163 [==============================] - 1s 6ms/step - loss: 0.5701 - accuracy: 0.7429 - recall: 0.0000e+00 - val_loss: 0.8278 - val_accuracy: 0.5000 - val_recall: 0.0000e+00\n",
      "Epoch 40/50\n",
      "163/163 [==============================] - 1s 6ms/step - loss: 0.5700 - accuracy: 0.7429 - recall: 0.0000e+00 - val_loss: 0.8276 - val_accuracy: 0.5000 - val_recall: 0.0000e+00\n",
      "Epoch 41/50\n",
      "163/163 [==============================] - 1s 6ms/step - loss: 0.5700 - accuracy: 0.7429 - recall: 0.0000e+00 - val_loss: 0.8274 - val_accuracy: 0.5000 - val_recall: 0.0000e+00\n",
      "Epoch 42/50\n",
      "163/163 [==============================] - 1s 6ms/step - loss: 0.5700 - accuracy: 0.7429 - recall: 0.0000e+00 - val_loss: 0.8270 - val_accuracy: 0.5000 - val_recall: 0.0000e+00\n",
      "Epoch 43/50\n",
      "163/163 [==============================] - 1s 6ms/step - loss: 0.5700 - accuracy: 0.7429 - recall: 0.0000e+00 - val_loss: 0.8283 - val_accuracy: 0.5000 - val_recall: 0.0000e+00\n",
      "Epoch 44/50\n"
     ]
    },
    {
     "name": "stdout",
     "output_type": "stream",
     "text": [
      "163/163 [==============================] - 1s 6ms/step - loss: 0.5701 - accuracy: 0.7429 - recall: 0.0000e+00 - val_loss: 0.8286 - val_accuracy: 0.5000 - val_recall: 0.0000e+00\n",
      "Epoch 45/50\n",
      "163/163 [==============================] - 1s 6ms/step - loss: 0.5701 - accuracy: 0.7429 - recall: 0.0000e+00 - val_loss: 0.8276 - val_accuracy: 0.5000 - val_recall: 0.0000e+00\n",
      "Epoch 46/50\n",
      "163/163 [==============================] - 1s 6ms/step - loss: 0.5700 - accuracy: 0.7429 - recall: 0.0000e+00 - val_loss: 0.8282 - val_accuracy: 0.5000 - val_recall: 0.0000e+00\n",
      "Epoch 47/50\n",
      "163/163 [==============================] - 1s 6ms/step - loss: 0.5701 - accuracy: 0.7429 - recall: 0.0000e+00 - val_loss: 0.8273 - val_accuracy: 0.5000 - val_recall: 0.0000e+00\n",
      "Epoch 48/50\n",
      "163/163 [==============================] - 1s 6ms/step - loss: 0.5700 - accuracy: 0.7429 - recall: 0.0000e+00 - val_loss: 0.8281 - val_accuracy: 0.5000 - val_recall: 0.0000e+00\n",
      "Epoch 49/50\n",
      "163/163 [==============================] - 1s 6ms/step - loss: 0.5701 - accuracy: 0.7429 - recall: 0.0000e+00 - val_loss: 0.8277 - val_accuracy: 0.5000 - val_recall: 0.0000e+00\n",
      "Epoch 50/50\n",
      "163/163 [==============================] - 1s 6ms/step - loss: 0.5700 - accuracy: 0.7429 - recall: 0.0000e+00 - val_loss: 0.8270 - val_accuracy: 0.5000 - val_recall: 0.0000e+00\n"
     ]
    }
   ],
   "source": [
    "model.compile(optimizer='sgd',\n",
    "             loss = 'binary_crossentropy',\n",
    "             metrics =  ['accuracy', tf.keras.metrics.Recall()])\n",
    "\n",
    "histoire = model.fit(train_img,\n",
    "                    train_y,\n",
    "                    epochs = 50,\n",
    "                    batch_size = 32,\n",
    "                    validation_data=(val_img,val_y))"
   ]
  },
  {
   "cell_type": "code",
   "execution_count": 30,
   "metadata": {},
   "outputs": [
    {
     "name": "stdout",
     "output_type": "stream",
     "text": [
      "163/163 [==============================] - 1s 3ms/step - loss: 0.5700 - accuracy: 0.7429 - recall: 0.0000e+00\n"
     ]
    }
   ],
   "source": [
    "results_train = model.evaluate(train_img, train_y)"
   ]
  },
  {
   "cell_type": "code",
   "execution_count": 31,
   "metadata": {},
   "outputs": [
    {
     "name": "stdout",
     "output_type": "stream",
     "text": [
      "20/20 [==============================] - 0s 3ms/step - loss: 0.6948 - accuracy: 0.6250 - recall: 0.0000e+00\n"
     ]
    }
   ],
   "source": [
    "results_test = model.evaluate(test_img,test_y)"
   ]
  },
  {
   "cell_type": "code",
   "execution_count": 32,
   "metadata": {},
   "outputs": [
    {
     "data": {
      "text/plain": [
       "[0.5699957013130188, 0.7429064512252808, 0.0]"
      ]
     },
     "execution_count": 32,
     "metadata": {},
     "output_type": "execute_result"
    }
   ],
   "source": [
    "results_train"
   ]
  },
  {
   "cell_type": "code",
   "execution_count": 33,
   "metadata": {},
   "outputs": [
    {
     "data": {
      "text/plain": [
       "[0.6947669982910156, 0.625, 0.0]"
      ]
     },
     "execution_count": 33,
     "metadata": {},
     "output_type": "execute_result"
    }
   ],
   "source": [
    "results_test"
   ]
  },
  {
   "cell_type": "code",
   "execution_count": 34,
   "metadata": {},
   "outputs": [
    {
     "name": "stdout",
     "output_type": "stream",
     "text": [
      "WARNING:tensorflow:From <ipython-input-34-a38c7136417d>:1: Sequential.predict_classes (from tensorflow.python.keras.engine.sequential) is deprecated and will be removed after 2021-01-01.\n",
      "Instructions for updating:\n",
      "Please use instead:* `np.argmax(model.predict(x), axis=-1)`,   if your model does multi-class classification   (e.g. if it uses a `softmax` last-layer activation).* `(model.predict(x) > 0.5).astype(\"int32\")`,   if your model does binary classification   (e.g. if it uses a `sigmoid` last-layer activation).\n"
     ]
    },
    {
     "data": {
      "text/plain": [
       "0.0"
      ]
     },
     "execution_count": 34,
     "metadata": {},
     "output_type": "execute_result"
    }
   ],
   "source": [
    "yhat_classes = model.predict_classes(test_img, verbose = 0)\n",
    "yhat_classes = yhat_classes[:, 0]\n",
    "recall_score(test_y, yhat_classes)"
   ]
  },
  {
   "cell_type": "code",
   "execution_count": 35,
   "metadata": {},
   "outputs": [],
   "source": [
    "\n",
    "# from keras import regularizers\n",
    "\n",
    "# # CNN build\n",
    "# np.random.seed(123)\n",
    "# model = models.Sequential()\n",
    "# model.add(layers.Conv2D(32, (3, 3), activation='relu', \n",
    "#                         padding = \"same\",\n",
    "#                        input_shape = (256,256,1)))\n",
    "# model.add(layers.MaxPooling2D((2, 2)))\n",
    "\n",
    "# model.add(layers.Conv2D(32, (4, 4), activation='relu', \n",
    "#                        padding = 'same'))\n",
    "# model.add(layers.MaxPooling2D((2, 2)))\n",
    "\n",
    "# model.add(layers.Conv2D(64, (3, 3), activation='relu',\n",
    "#                        padding= 'same'))\n",
    "# model.add(layers.MaxPooling2D((2, 2)))\n",
    "\n",
    "\n",
    "# model.add(layers.Flatten())\n",
    "# model.add(layers.Dense(64, activation='relu'))\n",
    "# model.add(layers.Dense(32, activation = 'relu'))\n",
    "# model.add(layers.Dense(1, activation='sigmoid'))\n",
    "# model.summary()\n",
    "\n",
    "# model.compile(loss='binary_crossentropy',\n",
    "#               optimizer=\"sgd\",\n",
    "#               metrics=['accuracy'])"
   ]
  },
  {
   "cell_type": "code",
   "execution_count": 36,
   "metadata": {
    "scrolled": false
   },
   "outputs": [],
   "source": [
    "# history = model.fit(train_images,\n",
    "#                     train_y,\n",
    "#                     steps_per_epoch= 20,\n",
    "#                     epochs=20,\n",
    "#                     batch_size=16,\n",
    "#                     validation_data=(val_images, val_y))\n",
    "# print(f\"Training Score of first convolution neural network: {model.evaluate(train_images, train_y)}\")\n",
    "# print(f\"Test Score of first convolution neural network: {model.evaluate(test_images, test_y)}\")"
   ]
  },
  {
   "cell_type": "code",
   "execution_count": 37,
   "metadata": {},
   "outputs": [],
   "source": [
    "# yhat_classes = model.predict_classes(test_images, verbose = 0)\n",
    "# yhat_classes = yhat_classes[:, 0]\n",
    "# recall_score(test_y, yhat_classes)"
   ]
  },
  {
   "cell_type": "code",
   "execution_count": 38,
   "metadata": {},
   "outputs": [],
   "source": [
    "# model.summary()"
   ]
  },
  {
   "cell_type": "code",
   "execution_count": 39,
   "metadata": {
    "scrolled": false
   },
   "outputs": [
    {
     "name": "stdout",
     "output_type": "stream",
     "text": [
      "Epoch 1/20\n",
      "25/25 [==============================] - 20s 795ms/step - loss: 13.7623 - acc: 0.6850 - recall_2: 0.4426 - val_loss: 13.0804 - val_acc: 0.4375 - val_recall_2: 0.8750\n",
      "Epoch 2/20\n",
      "25/25 [==============================] - 20s 784ms/step - loss: 12.5816 - acc: 0.8000 - recall_2: 0.4200 - val_loss: 12.6336 - val_acc: 0.6250 - val_recall_2: 0.7500\n",
      "Epoch 3/20\n",
      "25/25 [==============================] - 19s 776ms/step - loss: 12.4305 - acc: 0.7750 - recall_2: 0.4444 - val_loss: 12.3546 - val_acc: 0.8125 - val_recall_2: 0.6250\n",
      "Epoch 4/20\n",
      "25/25 [==============================] - 19s 779ms/step - loss: 12.0616 - acc: 0.8000 - recall_2: 0.4400 - val_loss: 12.0689 - val_acc: 0.8750 - val_recall_2: 0.7500\n",
      "Epoch 5/20\n",
      "25/25 [==============================] - 20s 795ms/step - loss: 11.7259 - acc: 0.8400 - recall_2: 0.5227 - val_loss: 11.9618 - val_acc: 0.8750 - val_recall_2: 0.7500\n",
      "Epoch 6/20\n",
      "25/25 [==============================] - 20s 791ms/step - loss: 11.5521 - acc: 0.8300 - recall_2: 0.5918 - val_loss: 11.5796 - val_acc: 0.8750 - val_recall_2: 0.7500\n",
      "Epoch 7/20\n",
      "25/25 [==============================] - 20s 787ms/step - loss: 11.2874 - acc: 0.8300 - recall_2: 0.5800 - val_loss: 11.3831 - val_acc: 0.8750 - val_recall_2: 0.7500\n",
      "Epoch 8/20\n",
      "25/25 [==============================] - 20s 790ms/step - loss: 11.0362 - acc: 0.8450 - recall_2: 0.6296 - val_loss: 11.1576 - val_acc: 0.8750 - val_recall_2: 0.7500\n",
      "Epoch 9/20\n",
      "25/25 [==============================] - 20s 787ms/step - loss: 10.9035 - acc: 0.8300 - recall_2: 0.7018 - val_loss: 11.0547 - val_acc: 0.8750 - val_recall_2: 0.7500\n",
      "Epoch 10/20\n",
      "25/25 [==============================] - 19s 778ms/step - loss: 10.6715 - acc: 0.8500 - recall_2: 0.7500 - val_loss: 10.8662 - val_acc: 0.8750 - val_recall_2: 0.7500\n",
      "Epoch 11/20\n",
      "25/25 [==============================] - 20s 788ms/step - loss: 10.4708 - acc: 0.8600 - recall_2: 0.7200 - val_loss: 10.5376 - val_acc: 0.8750 - val_recall_2: 0.7500\n",
      "Epoch 12/20\n",
      "25/25 [==============================] - 20s 780ms/step - loss: 10.2436 - acc: 0.8850 - recall_2: 0.7143 - val_loss: 10.4915 - val_acc: 0.6875 - val_recall_2: 0.3750\n",
      "Epoch 13/20\n",
      "25/25 [==============================] - 20s 811ms/step - loss: 10.0928 - acc: 0.8350 - recall_2: 0.7167 - val_loss: 10.0954 - val_acc: 0.8750 - val_recall_2: 0.7500\n",
      "Epoch 14/20\n",
      "25/25 [==============================] - 21s 827ms/step - loss: 9.7757 - acc: 0.8800 - recall_2: 0.6571 - val_loss: 10.6708 - val_acc: 0.5000 - val_recall_2: 0.0000e+00\n",
      "Epoch 15/20\n",
      "25/25 [==============================] - 20s 793ms/step - loss: 9.5914 - acc: 0.8900 - recall_2: 0.7755 - val_loss: 10.7324 - val_acc: 0.5000 - val_recall_2: 0.0000e+00\n",
      "Epoch 16/20\n",
      "25/25 [==============================] - 20s 786ms/step - loss: 9.4382 - acc: 0.8750 - recall_2: 0.6667 - val_loss: 9.7306 - val_acc: 0.6250 - val_recall_2: 0.6250\n",
      "Epoch 17/20\n",
      "25/25 [==============================] - 20s 795ms/step - loss: 9.3047 - acc: 0.8250 - recall_2: 0.6897 - val_loss: 10.7511 - val_acc: 0.5000 - val_recall_2: 0.0000e+00\n",
      "Epoch 18/20\n",
      "25/25 [==============================] - 20s 782ms/step - loss: 9.0273 - acc: 0.9050 - recall_2: 0.7895 - val_loss: 11.2569 - val_acc: 0.5000 - val_recall_2: 0.0000e+00\n",
      "Epoch 19/20\n",
      "25/25 [==============================] - 20s 793ms/step - loss: 8.9388 - acc: 0.8700 - recall_2: 0.7833 - val_loss: 9.9985 - val_acc: 0.5000 - val_recall_2: 0.0000e+00\n",
      "Epoch 20/20\n",
      "25/25 [==============================] - 20s 789ms/step - loss: 8.7156 - acc: 0.8800 - recall_2: 0.8571 - val_loss: 10.9184 - val_acc: 0.5000 - val_recall_2: 0.0000e+00\n",
      "163/163 [==============================] - 50s 306ms/step - loss: 9.4519 - acc: 0.7433 - recall_2: 0.0015\n",
      "\n",
      "Training Score: [9.451906204223633, 0.7432898879051208, 0.0014914242783561349]\n",
      "20/20 [==============================] - 6s 307ms/step - loss: 10.2921 - acc: 0.6250 - recall_2: 0.0000e+00\n",
      "\n",
      "Test Score: [10.292149543762207, 0.625, 0.0]\n"
     ]
    }
   ],
   "source": [
    "from keras.models import Sequential\n",
    "from keras import regularizers\n",
    "\n",
    "model = models.Sequential()\n",
    "model = Sequential()\n",
    "model.add(layers.Conv2D(32 , (3,3) , kernel_regularizer = regularizers.l2(.02), strides = 1 , padding = 'same' , activation = 'relu'))\n",
    "model.add(layers.BatchNormalization())\n",
    "model.add(layers.MaxPool2D((2,2) ,  strides = 2 , padding = 'same'))\n",
    "model.add(layers.Conv2D(64 , (3,3) , kernel_regularizer = regularizers.l2(.02), strides = 1 , padding = 'same' , activation = 'relu'))\n",
    "model.add(layers.Dropout(0.1))\n",
    "model.add(layers.BatchNormalization())\n",
    "model.add(layers.MaxPool2D((2,2) , strides = 2 , padding = 'same'))\n",
    "model.add(layers.Conv2D(64 , (3,3) , kernel_regularizer = regularizers.l2(.02), strides = 1 , padding = 'same' , activation = 'relu'))\n",
    "model.add(layers.BatchNormalization())\n",
    "model.add(layers.MaxPool2D((2,2) , strides = 2 , padding = 'same'))\n",
    "model.add(layers.Conv2D(128 , (3,3) , kernel_regularizer = regularizers.l2(.02), strides = 1 , padding = 'same' , activation = 'relu'))\n",
    "model.add(layers.Dropout(0.2))\n",
    "model.add(layers.BatchNormalization())\n",
    "model.add(layers.MaxPool2D((2,2) , strides = 2 , padding = 'same'))\n",
    "model.add(layers.Conv2D(256 , (3,3) , kernel_regularizer = regularizers.l2(.02), strides = 1 , padding = 'same' , activation = 'relu'))\n",
    "model.add(layers.Dropout(0.2))\n",
    "model.add(layers.BatchNormalization())\n",
    "model.add(layers.MaxPool2D((2,2) , strides = 2 , padding = 'same'))\n",
    "model.add(layers.Flatten())\n",
    "model.add(layers.Dense(units = 128 , kernel_regularizer = regularizers.l2(.02), activation = 'relu'))\n",
    "model.add(layers.Dropout(0.2))\n",
    "model.add(layers.Dense(units = 1 , kernel_regularizer = regularizers.l2(.02), activation = 'sigmoid'))\n",
    "model.compile(optimizer = \"rmsprop\" , loss = 'binary_crossentropy' , metrics = ['accuracy',tf.keras.metrics.Recall()])\n",
    "\n",
    "\n",
    "model.compile(loss='binary_crossentropy',\n",
    "              optimizer=\"sgd\",\n",
    "              metrics=['acc',tf.keras.metrics.Recall()])\n",
    "\n",
    "history = model.fit(train_images,\n",
    "                    train_y,\n",
    "                    steps_per_epoch=25,\n",
    "                    epochs=20,\n",
    "                    batch_size=8,\n",
    "                    validation_data=(val_images, val_y))\n",
    "\n",
    "\n",
    "\n",
    "print(f\"\\nTraining Score: {model.evaluate(train_images, train_y)}\")\n",
    "print(f\"\\nTest Score: {model.evaluate(test_images, test_y)}\")"
   ]
  },
  {
   "cell_type": "code",
   "execution_count": 40,
   "metadata": {},
   "outputs": [
    {
     "name": "stdout",
     "output_type": "stream",
     "text": [
      "163/163 [==============================] - 51s 313ms/step - loss: 9.4519 - acc: 0.7433 - recall_2: 0.0015\n",
      "\n",
      "Training Score: [9.451904296875, 0.7432898879051208, 0.0014914242783561349]\n",
      "20/20 [==============================] - 6s 308ms/step - loss: 10.2921 - acc: 0.6250 - recall_2: 0.0000e+00\n",
      "\n",
      "Test Score: [10.292149543762207, 0.625, 0.0]\n"
     ]
    }
   ],
   "source": [
    "\n",
    "print(f\"\\nTraining Score: {model.evaluate(train_images, train_y)}\")\n",
    "print(f\"\\nTest Score: {model.evaluate(test_images, test_y)}\")"
   ]
  },
  {
   "cell_type": "code",
   "execution_count": 42,
   "metadata": {},
   "outputs": [
    {
     "name": "stdout",
     "output_type": "stream",
     "text": [
      "Model: \"sequential_2\"\n",
      "_________________________________________________________________\n",
      "Layer (type)                 Output Shape              Param #   \n",
      "=================================================================\n",
      "conv2d (Conv2D)              (None, 256, 256, 32)      320       \n",
      "_________________________________________________________________\n",
      "batch_normalization (BatchNo (None, 256, 256, 32)      128       \n",
      "_________________________________________________________________\n",
      "max_pooling2d (MaxPooling2D) (None, 128, 128, 32)      0         \n",
      "_________________________________________________________________\n",
      "conv2d_1 (Conv2D)            (None, 128, 128, 64)      18496     \n",
      "_________________________________________________________________\n",
      "dropout (Dropout)            (None, 128, 128, 64)      0         \n",
      "_________________________________________________________________\n",
      "batch_normalization_1 (Batch (None, 128, 128, 64)      256       \n",
      "_________________________________________________________________\n",
      "max_pooling2d_1 (MaxPooling2 (None, 64, 64, 64)        0         \n",
      "_________________________________________________________________\n",
      "conv2d_2 (Conv2D)            (None, 64, 64, 64)        36928     \n",
      "_________________________________________________________________\n",
      "batch_normalization_2 (Batch (None, 64, 64, 64)        256       \n",
      "_________________________________________________________________\n",
      "max_pooling2d_2 (MaxPooling2 (None, 32, 32, 64)        0         \n",
      "_________________________________________________________________\n",
      "conv2d_3 (Conv2D)            (None, 32, 32, 128)       73856     \n",
      "_________________________________________________________________\n",
      "dropout_1 (Dropout)          (None, 32, 32, 128)       0         \n",
      "_________________________________________________________________\n",
      "batch_normalization_3 (Batch (None, 32, 32, 128)       512       \n",
      "_________________________________________________________________\n",
      "max_pooling2d_3 (MaxPooling2 (None, 16, 16, 128)       0         \n",
      "_________________________________________________________________\n",
      "conv2d_4 (Conv2D)            (None, 16, 16, 256)       295168    \n",
      "_________________________________________________________________\n",
      "dropout_2 (Dropout)          (None, 16, 16, 256)       0         \n",
      "_________________________________________________________________\n",
      "batch_normalization_4 (Batch (None, 16, 16, 256)       1024      \n",
      "_________________________________________________________________\n",
      "max_pooling2d_4 (MaxPooling2 (None, 8, 8, 256)         0         \n",
      "_________________________________________________________________\n",
      "flatten (Flatten)            (None, 16384)             0         \n",
      "_________________________________________________________________\n",
      "dense_4 (Dense)              (None, 128)               2097280   \n",
      "_________________________________________________________________\n",
      "dropout_3 (Dropout)          (None, 128)               0         \n",
      "_________________________________________________________________\n",
      "dense_5 (Dense)              (None, 1)                 129       \n",
      "=================================================================\n",
      "Total params: 2,524,353\n",
      "Trainable params: 2,523,265\n",
      "Non-trainable params: 1,088\n",
      "_________________________________________________________________\n"
     ]
    }
   ],
   "source": [
    "model.summary()"
   ]
  },
  {
   "cell_type": "code",
   "execution_count": 55,
   "metadata": {},
   "outputs": [
    {
     "name": "stdout",
     "output_type": "stream",
     "text": [
      "Model: \"sequential_6\"\n",
      "_________________________________________________________________\n",
      "Layer (type)                 Output Shape              Param #   \n",
      "=================================================================\n",
      "conv2d_17 (Conv2D)           (None, 254, 254, 16)      160       \n",
      "_________________________________________________________________\n",
      "max_pooling2d_17 (MaxPooling (None, 127, 127, 16)      0         \n",
      "_________________________________________________________________\n",
      "conv2d_18 (Conv2D)           (None, 125, 125, 32)      4640      \n",
      "_________________________________________________________________\n",
      "max_pooling2d_18 (MaxPooling (None, 62, 62, 32)        0         \n",
      "_________________________________________________________________\n",
      "conv2d_19 (Conv2D)           (None, 60, 60, 64)        18496     \n",
      "_________________________________________________________________\n",
      "max_pooling2d_19 (MaxPooling (None, 30, 30, 64)        0         \n",
      "_________________________________________________________________\n",
      "conv2d_20 (Conv2D)           (None, 28, 28, 64)        36928     \n",
      "_________________________________________________________________\n",
      "max_pooling2d_20 (MaxPooling (None, 14, 14, 64)        0         \n",
      "_________________________________________________________________\n",
      "flatten_4 (Flatten)          (None, 12544)             0         \n",
      "_________________________________________________________________\n",
      "dense_14 (Dense)             (None, 128)               1605760   \n",
      "_________________________________________________________________\n",
      "dense_15 (Dense)             (None, 1)                 129       \n",
      "=================================================================\n",
      "Total params: 1,666,113\n",
      "Trainable params: 1,666,113\n",
      "Non-trainable params: 0\n",
      "_________________________________________________________________\n"
     ]
    }
   ],
   "source": [
    "model = Sequential()\n",
    "\n",
    "model.add(layers.Conv2D(filters=16, kernel_size=3, kernel_regularizer = regularizers.l2(.01),  activation='relu', input_shape=(256,256,1)))\n",
    "model.add(layers.MaxPool2D(pool_size=2, strides=2))\n",
    "\n",
    "\n",
    "model.add(layers.Conv2D(filters=32, kernel_size=3, kernel_regularizer = regularizers.l2(.01), activation='relu'))\n",
    "model.add(layers.MaxPool2D(pool_size=2, strides=2))\n",
    "\n",
    "\n",
    "model.add(layers.Conv2D(filters=64, kernel_size=3, kernel_regularizer = regularizers.l2(.01), activation='relu'))\n",
    "model.add(layers.MaxPool2D(pool_size=2, strides=2))\n",
    "\n",
    "\n",
    "model.add(layers.Conv2D(filters=64, kernel_size=3, kernel_regularizer = regularizers.l2(.01), activation='relu'))\n",
    "model.add(layers.MaxPool2D(pool_size=2, strides=2))\n",
    "\n",
    "\n",
    "model.add(layers.Flatten())\n",
    "model.add(layers.Dense(units=128, kernel_regularizer = regularizers.l2(.01), activation='relu'))\n",
    "\n",
    "\n",
    "model.add(layers.Dense(units=1, kernel_regularizer = regularizers.l2(.01), activation='sigmoid'))\n",
    "model.summary()"
   ]
  },
  {
   "cell_type": "code",
   "execution_count": 56,
   "metadata": {},
   "outputs": [
    {
     "name": "stdout",
     "output_type": "stream",
     "text": [
      "Epoch 1/12\n",
      "80/80 [==============================] - 74s 930ms/step - loss: 6.3215 - accuracy: 0.7408 - recall_6: 0.4564 - val_loss: 3.3402 - val_accuracy: 0.7500 - val_recall_6: 0.6250\n",
      "Epoch 2/12\n",
      "80/80 [==============================] - 75s 935ms/step - loss: 2.2249 - accuracy: 0.8507 - recall_6: 0.7010 - val_loss: 4.4373 - val_accuracy: 0.6250 - val_recall_6: 0.2500\n",
      "Epoch 3/12\n",
      "80/80 [==============================] - 73s 915ms/step - loss: 1.8044 - accuracy: 0.8744 - recall_6: 0.7286 - val_loss: 2.2462 - val_accuracy: 0.7500 - val_recall_6: 0.6250\n",
      "Epoch 4/12\n",
      "80/80 [==============================] - 76s 951ms/step - loss: 1.6505 - accuracy: 0.8388 - recall_6: 0.6734 - val_loss: 2.6398 - val_accuracy: 0.5625 - val_recall_6: 0.2500\n",
      "Epoch 5/12\n",
      "80/80 [==============================] - 74s 926ms/step - loss: 1.4048 - accuracy: 0.8767 - recall_6: 0.7315 - val_loss: 1.9142 - val_accuracy: 0.7500 - val_recall_6: 0.6250\n",
      "Epoch 6/12\n",
      "80/80 [==============================] - 75s 932ms/step - loss: 1.2945 - accuracy: 0.8683 - recall_6: 0.7054 - val_loss: 2.3188 - val_accuracy: 0.6875 - val_recall_6: 0.5000\n",
      "Epoch 7/12\n",
      "80/80 [==============================] - 74s 930ms/step - loss: 1.1322 - accuracy: 0.8984 - recall_6: 0.8054 - val_loss: 2.5547 - val_accuracy: 0.6250 - val_recall_6: 0.2500\n",
      "Epoch 8/12\n",
      "80/80 [==============================] - 75s 936ms/step - loss: 1.0691 - accuracy: 0.8944 - recall_6: 0.7912 - val_loss: 2.3154 - val_accuracy: 0.6250 - val_recall_6: 0.2500\n",
      "Epoch 9/12\n",
      "80/80 [==============================] - 76s 944ms/step - loss: 0.9888 - accuracy: 0.8993 - recall_6: 0.8084 - val_loss: 1.9896 - val_accuracy: 0.6875 - val_recall_6: 0.5000\n",
      "Epoch 10/12\n",
      "80/80 [==============================] - 75s 938ms/step - loss: 0.9112 - accuracy: 0.9013 - recall_6: 0.8084 - val_loss: 3.0675 - val_accuracy: 0.6250 - val_recall_6: 0.2500\n",
      "163/163 [==============================] - 18s 110ms/step - loss: 1.5882 - accuracy: 0.7905 - recall_6: 0.9836\n",
      "\n",
      "Training Score: [1.588204026222229, 0.7904524803161621, 0.9835943579673767]\n",
      "20/20 [==============================] - 2s 101ms/step - loss: 1.6228 - accuracy: 0.8173 - recall_6: 0.9145\n",
      "\n",
      "Test Score: [1.6227716207504272, 0.817307710647583, 0.9145299196243286]\n"
     ]
    }
   ],
   "source": [
    "model.compile(optimizer = tf.keras.optimizers.Adam(),\n",
    "             loss = tf.keras.losses.BinaryCrossentropy(),\n",
    "              metrics = ['accuracy',tf.keras.metrics.Recall()])  \n",
    "\n",
    "from keras import callbacks\n",
    "\n",
    "earlystopping = callbacks.EarlyStopping(monitor =\"val_loss\", \n",
    "                                        mode =\"min\", patience = 5, \n",
    "                                        restore_best_weights = True)\n",
    "# learning_rate_reduction = tf.keras.callbacks.ReduceLROnPlateau(monitor='val_accuracy', \n",
    "#                                                                patience = 2, \n",
    "#                                                                verbose=1, \n",
    "#                                                                factor=0.3, \n",
    "#                                                                min_lr=0.000001)\n",
    "\n",
    "history = model.fit(train_images, \n",
    "                    train_y,  \n",
    "                    epochs=12,\n",
    "                    steps_per_epoch = 80,\n",
    "                    validation_data = (val_images, val_y), \n",
    "                    callbacks = [earlystopping])\n",
    "\n",
    "print(f\"\\nTraining Score: {model.evaluate(train_images, train_y)}\")\n",
    "print(f\"\\nTest Score: {model.evaluate(test_images, test_y)}\")"
   ]
  },
  {
   "cell_type": "code",
   "execution_count": 45,
   "metadata": {},
   "outputs": [
    {
     "data": {
      "text/plain": [
       "(5216, 256, 256, 1)"
      ]
     },
     "execution_count": 45,
     "metadata": {},
     "output_type": "execute_result"
    }
   ],
   "source": [
    "train_images.shape"
   ]
  },
  {
   "cell_type": "code",
   "execution_count": 46,
   "metadata": {},
   "outputs": [],
   "source": [
    "# Test Normalization\n",
    "\n",
    "train_images_normalized = train_images/255\n",
    "\n",
    "test_images_normalized = test_images/255\n",
    "\n",
    "val_images_normalized = val_images/255"
   ]
  },
  {
   "cell_type": "code",
   "execution_count": 47,
   "metadata": {},
   "outputs": [
    {
     "name": "stdout",
     "output_type": "stream",
     "text": [
      "Model: \"sequential_4\"\n",
      "_________________________________________________________________\n",
      "Layer (type)                 Output Shape              Param #   \n",
      "=================================================================\n",
      "conv2d_9 (Conv2D)            (None, 254, 254, 16)      160       \n",
      "_________________________________________________________________\n",
      "max_pooling2d_9 (MaxPooling2 (None, 127, 127, 16)      0         \n",
      "_________________________________________________________________\n",
      "conv2d_10 (Conv2D)           (None, 125, 125, 32)      4640      \n",
      "_________________________________________________________________\n",
      "max_pooling2d_10 (MaxPooling (None, 62, 62, 32)        0         \n",
      "_________________________________________________________________\n",
      "conv2d_11 (Conv2D)           (None, 60, 60, 64)        18496     \n",
      "_________________________________________________________________\n",
      "max_pooling2d_11 (MaxPooling (None, 30, 30, 64)        0         \n",
      "_________________________________________________________________\n",
      "conv2d_12 (Conv2D)           (None, 28, 28, 64)        36928     \n",
      "_________________________________________________________________\n",
      "max_pooling2d_12 (MaxPooling (None, 14, 14, 64)        0         \n",
      "_________________________________________________________________\n",
      "flatten_2 (Flatten)          (None, 12544)             0         \n",
      "_________________________________________________________________\n",
      "dense_8 (Dense)              (None, 128)               1605760   \n",
      "_________________________________________________________________\n",
      "dense_9 (Dense)              (None, 1)                 129       \n",
      "=================================================================\n",
      "Total params: 1,666,113\n",
      "Trainable params: 1,666,113\n",
      "Non-trainable params: 0\n",
      "_________________________________________________________________\n",
      "Epoch 1/20\n",
      "100/100 [==============================] - 74s 737ms/step - loss: 1.2986 - accuracy: 0.7428 - recall_4: 0.0000e+00 - val_loss: 0.8479 - val_accuracy: 0.5000 - val_recall_4: 0.0000e+00\n",
      "Epoch 2/20\n",
      "100/100 [==============================] - 76s 760ms/step - loss: 0.6515 - accuracy: 0.7419 - recall_4: 0.1271 - val_loss: 0.7473 - val_accuracy: 0.6875 - val_recall_4: 0.3750\n",
      "Epoch 3/20\n",
      "100/100 [==============================] - 77s 770ms/step - loss: 0.5960 - accuracy: 0.7383 - recall_4: 0.0184 - val_loss: 0.7533 - val_accuracy: 0.5000 - val_recall_4: 0.0000e+00\n",
      "Epoch 4/20\n",
      "100/100 [==============================] - 79s 786ms/step - loss: 0.5747 - accuracy: 0.7425 - recall_4: 0.0000e+00 - val_loss: 0.7521 - val_accuracy: 0.5000 - val_recall_4: 0.0000e+00\n",
      "Epoch 5/20\n",
      "100/100 [==============================] - 78s 776ms/step - loss: 0.5572 - accuracy: 0.7436 - recall_4: 0.0000e+00 - val_loss: 0.7332 - val_accuracy: 0.5000 - val_recall_4: 0.0000e+00\n",
      "Epoch 6/20\n",
      "100/100 [==============================] - 78s 781ms/step - loss: 0.5497 - accuracy: 0.7430 - recall_4: 0.0000e+00 - val_loss: 0.7389 - val_accuracy: 0.5000 - val_recall_4: 0.0000e+00\n",
      "Epoch 7/20\n",
      "100/100 [==============================] - 77s 770ms/step - loss: 0.5413 - accuracy: 0.7419 - recall_4: 0.0000e+00 - val_loss: 0.7165 - val_accuracy: 0.5000 - val_recall_4: 0.0000e+00\n",
      "Epoch 8/20\n",
      "100/100 [==============================] - 77s 771ms/step - loss: 0.5518 - accuracy: 0.7411 - recall_4: 0.0000e+00 - val_loss: 0.7128 - val_accuracy: 0.5000 - val_recall_4: 0.0000e+00\n",
      "Epoch 9/20\n",
      "100/100 [==============================] - 75s 755ms/step - loss: 0.5318 - accuracy: 0.7474 - recall_4: 0.0000e+00 - val_loss: 0.7289 - val_accuracy: 0.5000 - val_recall_4: 0.0000e+00\n",
      "Epoch 10/20\n",
      "100/100 [==============================] - 76s 765ms/step - loss: 0.5311 - accuracy: 0.7409 - recall_4: 0.0000e+00 - val_loss: 0.7134 - val_accuracy: 0.5000 - val_recall_4: 0.0000e+00\n",
      "Epoch 11/20\n",
      "100/100 [==============================] - 79s 789ms/step - loss: 0.5346 - accuracy: 0.7392 - recall_4: 0.0000e+00 - val_loss: 0.7246 - val_accuracy: 0.5000 - val_recall_4: 0.0000e+00\n",
      "Epoch 12/20\n",
      "100/100 [==============================] - 75s 747ms/step - loss: 0.5253 - accuracy: 0.7493 - recall_4: 0.0000e+00 - val_loss: 0.6988 - val_accuracy: 0.5000 - val_recall_4: 0.0000e+00\n",
      "Epoch 13/20\n",
      "100/100 [==============================] - 77s 774ms/step - loss: 0.5269 - accuracy: 0.7440 - recall_4: 0.0000e+00 - val_loss: 0.7316 - val_accuracy: 0.5000 - val_recall_4: 0.0000e+00\n",
      "Epoch 14/20\n",
      "100/100 [==============================] - 77s 773ms/step - loss: 0.5225 - accuracy: 0.7417 - recall_4: 0.0000e+00 - val_loss: 0.7135 - val_accuracy: 0.5000 - val_recall_4: 0.0000e+00\n",
      "Epoch 15/20\n",
      "100/100 [==============================] - 77s 774ms/step - loss: 0.5253 - accuracy: 0.7430 - recall_4: 0.0000e+00 - val_loss: 0.7302 - val_accuracy: 0.5000 - val_recall_4: 0.0000e+00\n",
      "Epoch 16/20\n",
      "100/100 [==============================] - 76s 764ms/step - loss: 0.5208 - accuracy: 0.7442 - recall_4: 0.0301 - val_loss: 0.7457 - val_accuracy: 0.5000 - val_recall_4: 0.0000e+00\n",
      "Epoch 17/20\n",
      "100/100 [==============================] - 77s 768ms/step - loss: 0.5235 - accuracy: 0.7419 - recall_4: 0.0170 - val_loss: 0.7565 - val_accuracy: 0.5000 - val_recall_4: 0.0000e+00\n",
      "163/163 [==============================] - 19s 114ms/step - loss: 0.5248 - accuracy: 0.7429 - recall_4: 0.0000e+00\n",
      "\n",
      "Training Score: [0.5247793793678284, 0.7429064512252808, 0.0]\n",
      "20/20 [==============================] - 2s 115ms/step - loss: 0.7196 - accuracy: 0.6250 - recall_4: 0.0000e+00\n",
      "\n",
      "Test Score: [0.7196445465087891, 0.625, 0.0]\n"
     ]
    }
   ],
   "source": [
    "model = Sequential()\n",
    "\n",
    "model.add(layers.Conv2D(filters=16, kernel_size=3, kernel_regularizer = regularizers.l2(.01),  activation='relu', input_shape=(256,256,1)))\n",
    "model.add(layers.MaxPool2D(pool_size=2, strides=2))\n",
    "\n",
    "\n",
    "model.add(layers.Conv2D(filters=32, kernel_size=3, kernel_regularizer = regularizers.l2(.01), activation='relu'))\n",
    "model.add(layers.MaxPool2D(pool_size=2, strides=2))\n",
    "\n",
    "\n",
    "model.add(layers.Conv2D(filters=64, kernel_size=3, kernel_regularizer = regularizers.l2(.01), activation='relu'))\n",
    "model.add(layers.MaxPool2D(pool_size=2, strides=2))\n",
    "\n",
    "\n",
    "model.add(layers.Conv2D(filters=64, kernel_size=3, kernel_regularizer = regularizers.l2(.01), activation='relu'))\n",
    "model.add(layers.MaxPool2D(pool_size=2, strides=2))\n",
    "\n",
    "model.add(layers.Flatten())\n",
    "model.add(layers.Dense(units=128, kernel_regularizer = regularizers.l2(.01), activation='relu'))\n",
    "\n",
    "\n",
    "model.add(layers.Dense(units=1, kernel_regularizer = regularizers.l2(.01), activation='sigmoid'))\n",
    "model.summary()\n",
    "\n",
    "model.compile(optimizer = tf.keras.optimizers.Adam(),\n",
    "             loss = tf.keras.losses.BinaryCrossentropy(),\n",
    "              metrics = ['accuracy',tf.keras.metrics.Recall()])  \n",
    "\n",
    "from keras import callbacks\n",
    "\n",
    "earlystopping = callbacks.EarlyStopping(monitor =\"val_loss\", \n",
    "                                        mode =\"min\", patience = 5, \n",
    "                                        restore_best_weights = True)\n",
    "# learning_rate_reduction = tf.keras.callbacks.ReduceLROnPlateau(monitor='val_accuracy', \n",
    "#                                                                patience = 2, \n",
    "#                                                                verbose=1, \n",
    "#                                                                factor=0.3, \n",
    "#                                                                min_lr=0.000001)\n",
    "\n",
    "history = model.fit(train_images_normalized, \n",
    "                    train_y,  \n",
    "                    epochs=20,\n",
    "                    steps_per_epoch = 100,\n",
    "                    validation_data = (val_images_normalized, val_y), \n",
    "                    callbacks = [earlystopping])\n",
    "\n",
    "print(f\"\\nTraining Score: {model.evaluate(train_images_normalized, train_y)}\")\n",
    "print(f\"\\nTest Score: {model.evaluate(test_images_normalized, test_y)}\")"
   ]
  },
  {
   "cell_type": "code",
   "execution_count": 48,
   "metadata": {},
   "outputs": [
    {
     "data": {
      "text/plain": [
       "(624, 256, 256, 1)"
      ]
     },
     "execution_count": 48,
     "metadata": {},
     "output_type": "execute_result"
    }
   ],
   "source": [
    "test_images.shape"
   ]
  },
  {
   "cell_type": "code",
   "execution_count": 49,
   "metadata": {},
   "outputs": [
    {
     "data": {
      "text/plain": [
       "(5216, 2)"
      ]
     },
     "execution_count": 49,
     "metadata": {},
     "output_type": "execute_result"
    }
   ],
   "source": [
    "train_labels.shape"
   ]
  },
  {
   "cell_type": "raw",
   "metadata": {},
   "source": [
    "test_labels.shape"
   ]
  },
  {
   "cell_type": "code",
   "execution_count": 52,
   "metadata": {},
   "outputs": [
    {
     "name": "stdout",
     "output_type": "stream",
     "text": [
      "Epoch 1/10\n",
      "15/15 [==============================] - 74s 5s/step - loss: 1.1242 - accuracy: 0.6286 - recall_5: 0.2476 - val_loss: 0.7870 - val_accuracy: 0.5000 - val_recall_5: 0.0000e+00\n",
      "Epoch 2/10\n",
      "15/15 [==============================] - 71s 5s/step - loss: 0.5033 - accuracy: 0.7540 - recall_5: 0.0955 - val_loss: 1.1404 - val_accuracy: 0.6250 - val_recall_5: 0.2500\n",
      "Epoch 3/10\n",
      "15/15 [==============================] - 70s 5s/step - loss: 0.3948 - accuracy: 0.8046 - recall_5: 0.5503 - val_loss: 1.4400 - val_accuracy: 0.8125 - val_recall_5: 0.6250\n",
      "Epoch 4/10\n",
      "15/15 [==============================] - 74s 5s/step - loss: 0.3293 - accuracy: 0.8514 - recall_5: 0.7196 - val_loss: 1.6575 - val_accuracy: 0.6875 - val_recall_5: 0.3750\n",
      "Epoch 5/10\n",
      "15/15 [==============================] - 71s 5s/step - loss: 0.2848 - accuracy: 0.8738 - recall_5: 0.7763 - val_loss: 1.6209 - val_accuracy: 0.6875 - val_recall_5: 0.3750\n",
      "Epoch 6/10\n",
      "15/15 [==============================] - 70s 5s/step - loss: 0.2538 - accuracy: 0.8900 - recall_5: 0.8158 - val_loss: 2.3724 - val_accuracy: 0.6250 - val_recall_5: 0.2500\n",
      "Epoch 7/10\n",
      "15/15 [==============================] - 69s 5s/step - loss: 0.2158 - accuracy: 0.9072 - recall_5: 0.8210 - val_loss: 1.9152 - val_accuracy: 0.6250 - val_recall_5: 0.2500\n",
      "Epoch 8/10\n",
      "15/15 [==============================] - 67s 4s/step - loss: 0.2130 - accuracy: 0.9095 - recall_5: 0.8367 - val_loss: 2.6095 - val_accuracy: 0.5000 - val_recall_5: 0.0000e+00\n",
      "Epoch 9/10\n",
      "15/15 [==============================] - 68s 5s/step - loss: 0.1812 - accuracy: 0.9243 - recall_5: 0.8449 - val_loss: 2.4886 - val_accuracy: 0.5625 - val_recall_5: 0.1250\n",
      "Epoch 10/10\n",
      "15/15 [==============================] - 67s 4s/step - loss: 0.1293 - accuracy: 0.9496 - recall_5: 0.9113 - val_loss: 2.9225 - val_accuracy: 0.6250 - val_recall_5: 0.2500\n",
      "Model: \"sequential_5\"\n",
      "_________________________________________________________________\n",
      "Layer (type)                 Output Shape              Param #   \n",
      "=================================================================\n",
      "conv2d_13 (Conv2D)           (None, 256, 256, 32)      320       \n",
      "_________________________________________________________________\n",
      "max_pooling2d_13 (MaxPooling (None, 128, 128, 32)      0         \n",
      "_________________________________________________________________\n",
      "conv2d_14 (Conv2D)           (None, 64, 64, 64)        18496     \n",
      "_________________________________________________________________\n",
      "max_pooling2d_14 (MaxPooling (None, 32, 32, 64)        0         \n",
      "_________________________________________________________________\n",
      "conv2d_15 (Conv2D)           (None, 16, 16, 128)       73856     \n",
      "_________________________________________________________________\n",
      "max_pooling2d_15 (MaxPooling (None, 8, 8, 128)         0         \n",
      "_________________________________________________________________\n",
      "conv2d_16 (Conv2D)           (None, 4, 4, 256)         295168    \n",
      "_________________________________________________________________\n",
      "max_pooling2d_16 (MaxPooling (None, 2, 2, 256)         0         \n",
      "_________________________________________________________________\n",
      "flatten_3 (Flatten)          (None, 1024)              0         \n",
      "_________________________________________________________________\n",
      "dense_10 (Dense)             (None, 128)               131200    \n",
      "_________________________________________________________________\n",
      "dense_11 (Dense)             (None, 64)                8256      \n",
      "_________________________________________________________________\n",
      "dense_12 (Dense)             (None, 32)                2080      \n",
      "_________________________________________________________________\n",
      "dense_13 (Dense)             (None, 1)                 33        \n",
      "=================================================================\n",
      "Total params: 529,409\n",
      "Trainable params: 529,409\n",
      "Non-trainable params: 0\n",
      "_________________________________________________________________\n",
      "163/163 [==============================] - 19s 119ms/step - loss: 0.0981 - accuracy: 0.9617 - recall_5: 0.9299\n",
      "\n",
      "Training Score: [0.09810112416744232, 0.9616564512252808, 0.9299030303955078]\n",
      "20/20 [==============================] - 2s 115ms/step - loss: 0.6523 - accuracy: 0.8029 - recall_5: 0.5726\n",
      "\n",
      "Test Score: [0.6523081660270691, 0.8028846383094788, 0.5726495981216431]\n"
     ]
    },
    {
     "data": {
      "text/plain": [
       "0.5726495726495726"
      ]
     },
     "execution_count": 52,
     "metadata": {},
     "output_type": "execute_result"
    }
   ],
   "source": [
    "model = models.Sequential()\n",
    "\n",
    "model.add(layers.Conv2D(filters = 32, strides = (1,1), kernel_size = 3, padding = 'same', activation = 'relu'))\n",
    "model.add(layers.MaxPool2D((2,2)))\n",
    "\n",
    "\n",
    "model.add(layers.Conv2D(filters = 64, strides = (2,2), kernel_size = 3, padding = 'same', activation = 'relu'))\n",
    "model.add(layers.MaxPool2D((2,2)))\n",
    "\n",
    "model.add(layers.Conv2D(filters = 128, strides = (2,2), kernel_size = 3, padding = 'same', activation = 'relu'))\n",
    "model.add(layers.MaxPool2D((2,2)))\n",
    "\n",
    "\n",
    "model.add(layers.Conv2D(filters = 256, strides = (2,2), kernel_size = 3, padding = 'same', activation = 'relu'))\n",
    "model.add(layers.MaxPool2D((2,2)))\n",
    "\n",
    "\n",
    "model.add(layers.Flatten())\n",
    "model.add(layers.Dense(128, activation = 'relu'))\n",
    "\n",
    "\n",
    "model.add(layers.Dense(64, activation = 'relu'))\n",
    "\n",
    "\n",
    "model.add(layers.Dense(32, activation = 'relu'))\n",
    "\n",
    "\n",
    "model.add(layers.Dense(1, activation = 'sigmoid'))\n",
    "\n",
    "model.compile(loss = 'BinaryCrossentropy', \n",
    "             optimizer = 'adam', \n",
    "             metrics = ['accuracy', tf.keras.metrics.Recall()])\n",
    "\n",
    "\n",
    "\n",
    "\n",
    "history = model.fit(train_images,\n",
    "                   train_y, \n",
    "                   steps_per_epoch = 15, \n",
    "                   epochs = 10,\n",
    "                   validation_data = (val_images, val_y))\n",
    "model.summary()\n",
    "\n",
    "\n",
    "\n",
    "print(f\"\\nTraining Score: {model.evaluate(train_images, train_y)}\")\n",
    "print(f\"\\nTest Score: {model.evaluate(test_images, test_y)}\")\n"
   ]
  },
  {
   "cell_type": "code",
   "execution_count": 53,
   "metadata": {},
   "outputs": [],
   "source": [
    "# model = Sequential()\n",
    "# model.add(layers.Conv2D(32 , (3,3) , strides = 1 , padding = 'same' , activation = 'relu' ))\n",
    "# model.add(layers.BatchNormalization())\n",
    "# model.add(layers.MaxPool2D((2,2) , strides = 2 , padding = 'same'))\n",
    "# model.add(layers.Conv2D(64 , (3,3) , strides = 1 , padding = 'same' , activation = 'relu'))\n",
    "# model.add(layers.Dropout(0.1))\n",
    "# model.add(layers.BatchNormalization())\n",
    "# model.add(layers.MaxPool2D((2,2) , strides = 2 , padding = 'same'))\n",
    "# model.add(layers.Conv2D(64 , (3,3) , strides = 1 , padding = 'same' , activation = 'relu'))\n",
    "# model.add(layers.BatchNormalization())\n",
    "# model.add(layers.MaxPool2D((2,2) , strides = 2 , padding = 'same'))\n",
    "# model.add(layers.Conv2D(128 , (3,3) , strides = 1 , padding = 'same' , activation = 'relu'))\n",
    "# model.add(layers.Dropout(0.2))\n",
    "# model.add(layers.BatchNormalization())\n",
    "# model.add(layers.MaxPool2D((2,2) , strides = 2 , padding = 'same'))\n",
    "# model.add(layers.Conv2D(256 , (3,3) , strides = 1 , padding = 'same' , activation = 'relu'))\n",
    "# model.add(layers.Dropout(0.2))\n",
    "# model.add(layers.BatchNormalization())\n",
    "# model.add(layers.MaxPool2D((2,2) , strides = 2 , padding = 'same'))\n",
    "# model.add(layers.Flatten())\n",
    "# model.add(layers.Dense(units = 128 , activation = 'relu'))\n",
    "# model.add(layers.Dropout(0.2))\n",
    "# model.add(layers.Dense(units = 1 , activation = 'sigmoid'))\n",
    "# model.compile(optimizer = \"rmsprop\" , loss = 'binary_crossentropy' , metrics = ['accuracy', tf.keras.metrics.Recall()])\n",
    "# # model.summary()\n",
    "\n",
    "# learning_rate_reduction = tf.keras.callbacks.ReduceLROnPlateau(monitor='val_accuracy', patience = 2, verbose=1,factor=0.3, min_lr=0.000001)\n",
    "\n",
    "# history = model.fit(train_images,\n",
    "#                     train_y,\n",
    "#                     epochs = 20,\n",
    "#                     validation_data = (val_images, val_y),\n",
    "#                     callbacks = [learning_rate_reduction])\n",
    "\n",
    "# print(\"Loss of the model is - \" , model.evaluate(x_test,y_test)[0])\n",
    "\n",
    "# print(\"Accuracy of the model is - \" , model.evaluate(x_test,y_test)[1]*100 , \"%\")\n"
   ]
  },
  {
   "cell_type": "code",
   "execution_count": 54,
   "metadata": {},
   "outputs": [],
   "source": [
    "# print(\"Loss of the model is - \" , model.evaluate(train_images,train_y)[0])\n",
    "\n",
    "# print(\"Accuracy of the model is - \" , model.evaluate(test_images,test_y)[1]*100 , \"%\")"
   ]
  },
  {
   "cell_type": "code",
   "execution_count": null,
   "metadata": {},
   "outputs": [],
   "source": []
  }
 ],
 "metadata": {
  "kernelspec": {
   "display_name": "Python (learn-env)",
   "language": "python",
   "name": "learn-env"
  },
  "language_info": {
   "codemirror_mode": {
    "name": "ipython",
    "version": 3
   },
   "file_extension": ".py",
   "mimetype": "text/x-python",
   "name": "python",
   "nbconvert_exporter": "python",
   "pygments_lexer": "ipython3",
   "version": "3.8.5"
  }
 },
 "nbformat": 4,
 "nbformat_minor": 4
}
