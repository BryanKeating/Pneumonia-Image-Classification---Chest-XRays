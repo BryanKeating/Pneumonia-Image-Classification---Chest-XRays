{
  "nbformat": 4,
  "nbformat_minor": 0,
  "metadata": {
    "colab": {
      "name": "Pneumonia_img_classification ",
      "provenance": []
    },
    "kernelspec": {
      "name": "python3",
      "display_name": "Python 3"
    },
    "language_info": {
      "name": "python"
    }
  },
  "cells": [
    {
      "cell_type": "code",
      "execution_count": 1,
      "metadata": {
        "id": "hScGM9EH62M-"
      },
      "outputs": [],
      "source": [
        "import matplotlib.pyplot as plt\n",
        "import seaborn as sns\n",
        "import keras\n",
        "from keras.models import Sequential\n",
        "from keras.layers import Dense, Conv2D , MaxPool2D , Flatten , Dropout , BatchNormalization\n",
        "from keras.preprocessing.image import ImageDataGenerator\n",
        "from sklearn.model_selection import train_test_split\n",
        "from sklearn.metrics import classification_report,confusion_matrix\n",
        "from keras.callbacks import ReduceLROnPlateau\n",
        "import cv2\n",
        "import os\n",
        "import numpy as np\n"
      ]
    },
    {
      "cell_type": "code",
      "source": [
        "labels = ['PNEUMONIA', 'NORMAL']\n",
        "img_size = 150\n",
        "def get_training_data(data_dir):\n",
        "    data = [] \n",
        "    for label in labels: \n",
        "        path = os.path.join(data_dir, label)\n",
        "        class_num = labels.index(label)\n",
        "        for img in os.listdir(path):\n",
        "            try:\n",
        "                img_arr = cv2.imread(os.path.join(path, img), cv2.IMREAD_GRAYSCALE)\n",
        "                resized_arr = cv2.resize(img_arr, (img_size, img_size)) # Reshaping images to preferred size\n",
        "                data.append([resized_arr, class_num])\n",
        "            except Exception as e:\n",
        "                print(e)\n",
        "    return np.array(data)"
      ],
      "metadata": {
        "id": "S2r4Yq3D6-2-"
      },
      "execution_count": 2,
      "outputs": []
    },
    {
      "cell_type": "code",
      "source": [
        "train = get_training_data('/content/drive/MyDrive/chest_xray/train')\n",
        "test = get_training_data('/content/drive/MyDrive/chest_xray/test')\n",
        "val = get_training_data('/content/drive/MyDrive/chest_xray/val')"
      ],
      "metadata": {
        "colab": {
          "base_uri": "https://localhost:8080/"
        },
        "id": "8LLKrf617CGE",
        "outputId": "eb25e3e1-1998-428a-d9f9-38ea9fbc82b7"
      },
      "execution_count": 3,
      "outputs": [
        {
          "output_type": "stream",
          "name": "stdout",
          "text": [
            "OpenCV(4.1.2) /io/opencv/modules/imgproc/src/resize.cpp:3720: error: (-215:Assertion failed) !ssize.empty() in function 'resize'\n",
            "\n",
            "OpenCV(4.1.2) /io/opencv/modules/imgproc/src/resize.cpp:3720: error: (-215:Assertion failed) !ssize.empty() in function 'resize'\n",
            "\n"
          ]
        },
        {
          "output_type": "stream",
          "name": "stderr",
          "text": [
            "/usr/local/lib/python3.7/dist-packages/ipykernel_launcher.py:15: VisibleDeprecationWarning: Creating an ndarray from ragged nested sequences (which is a list-or-tuple of lists-or-tuples-or ndarrays with different lengths or shapes) is deprecated. If you meant to do this, you must specify 'dtype=object' when creating the ndarray.\n",
            "  from ipykernel import kernelapp as app\n"
          ]
        },
        {
          "output_type": "stream",
          "name": "stdout",
          "text": [
            "OpenCV(4.1.2) /io/opencv/modules/imgproc/src/resize.cpp:3720: error: (-215:Assertion failed) !ssize.empty() in function 'resize'\n",
            "\n",
            "OpenCV(4.1.2) /io/opencv/modules/imgproc/src/resize.cpp:3720: error: (-215:Assertion failed) !ssize.empty() in function 'resize'\n",
            "\n"
          ]
        }
      ]
    },
    {
      "cell_type": "code",
      "source": [
        "#plt.imshow(train[0][0])"
      ],
      "metadata": {
        "id": "sEKXKQMXKd2I"
      },
      "execution_count": null,
      "outputs": []
    },
    {
      "cell_type": "code",
      "source": [
        "l = []\n",
        "for i in train:\n",
        "    if(i[1] == 0):\n",
        "        l.append(\"Pneumonia\")\n",
        "    else:\n",
        "        l.append(\"Normal\")\n",
        "sns.set_style('darkgrid')\n",
        "sns.countplot(l) "
      ],
      "metadata": {
        "colab": {
          "base_uri": "https://localhost:8080/",
          "height": 338
        },
        "id": "-b8_-hwWMeTn",
        "outputId": "3f19fe81-2df5-4ad8-fb10-5d9f64d40ad9"
      },
      "execution_count": 4,
      "outputs": [
        {
          "output_type": "stream",
          "name": "stderr",
          "text": [
            "/usr/local/lib/python3.7/dist-packages/seaborn/_decorators.py:43: FutureWarning: Pass the following variable as a keyword arg: x. From version 0.12, the only valid positional argument will be `data`, and passing other arguments without an explicit keyword will result in an error or misinterpretation.\n",
            "  FutureWarning\n"
          ]
        },
        {
          "output_type": "execute_result",
          "data": {
            "text/plain": [
              "<matplotlib.axes._subplots.AxesSubplot at 0x7fca6679ae50>"
            ]
          },
          "metadata": {},
          "execution_count": 4
        },
        {
          "output_type": "display_data",
          "data": {
            "text/plain": [
              "<Figure size 432x288 with 1 Axes>"
            ],
            "image/png": "[encoded data removed]"
          },
          "metadata": {}
        }
      ]
    },
    {
      "cell_type": "code",
      "source": [
        "plt.figure(figsize = (5,5))\n",
        "plt.imshow(train[0][0], cmap='gray')\n",
        "plt.title(labels[train[0][1]])\n",
        "\n",
        "plt.figure(figsize = (5,5))\n",
        "plt.imshow(train[-1][0], cmap='gray')\n",
        "plt.title(labels[train[-1][1]]);"
      ],
      "metadata": {
        "colab": {
          "base_uri": "https://localhost:8080/",
          "height": 655
        },
        "id": "AAnU9eHp-42h",
        "outputId": "6a7eae64-a4de-4019-a1e0-20edc85fcb88"
      },
      "execution_count": 5,
      "outputs": [
        {
          "output_type": "display_data",
          "data": {
            "text/plain": [
              "<Figure size 360x360 with 1 Axes>"
            ],
            "image/png": "[encoded data removed]"
          },
          "metadata": {}
        },
        {
          "output_type": "display_data",
          "data": {
            "text/plain": [
              "<Figure size 360x360 with 1 Axes>"
            ],
            "image/png": "[encoded data removed]"
          },
          "metadata": {}
        }
      ]
    },
    {
      "cell_type": "code",
      "source": [
        "x_train = []\n",
        "y_train = []\n",
        "\n",
        "x_val = []\n",
        "y_val = []\n",
        "\n",
        "x_test = []\n",
        "y_test = []\n",
        "\n",
        "for feature, label in train:\n",
        "    x_train.append(feature)\n",
        "    y_train.append(label)\n",
        "\n",
        "for feature, label in test:\n",
        "    x_test.append(feature)\n",
        "    y_test.append(label)\n",
        "    \n",
        "for feature, label in val:\n",
        "    x_val.append(feature)\n",
        "    y_val.append(label)"
      ],
      "metadata": {
        "id": "a8ntHnLI-5vi"
      },
      "execution_count": 6,
      "outputs": []
    },
    {
      "cell_type": "code",
      "source": [
        "type(x_train)"
      ],
      "metadata": {
        "colab": {
          "base_uri": "https://localhost:8080/"
        },
        "id": "DpU-tFF_CAFX",
        "outputId": "838c293f-fe48-4638-e4c2-91b9bc5a0900"
      },
      "execution_count": 8,
      "outputs": [
        {
          "output_type": "execute_result",
          "data": {
            "text/plain": [
              "list"
            ]
          },
          "metadata": {},
          "execution_count": 8
        }
      ]
    },
    {
      "cell_type": "code",
      "source": [
        "x_train_arr = np.array(x_train)"
      ],
      "metadata": {
        "id": "1mj6cfcaHRwv"
      },
      "execution_count": 9,
      "outputs": []
    },
    {
      "cell_type": "code",
      "source": [
        "x_test_arr = np.array(x_test)"
      ],
      "metadata": {
        "id": "Hfn4wdIq9fKl"
      },
      "execution_count": 10,
      "outputs": []
    },
    {
      "cell_type": "code",
      "source": [
        "x_train_test.shape"
      ],
      "metadata": {
        "id": "q8IhAFuHHqgZ",
        "colab": {
          "base_uri": "https://localhost:8080/",
          "height": 166
        },
        "outputId": "8c1403aa-0a47-4f13-d8ea-9117af896d8c"
      },
      "execution_count": 11,
      "outputs": [
        {
          "output_type": "error",
          "ename": "NameError",
          "evalue": "ignored",
          "traceback": [
            "\u001b[0;31m---------------------------------------------------------------------------\u001b[0m",
            "\u001b[0;31mNameError\u001b[0m                                 Traceback (most recent call last)",
            "\u001b[0;32m<ipython-input-11-63c6ea1ff338>\u001b[0m in \u001b[0;36m<module>\u001b[0;34m()\u001b[0m\n\u001b[0;32m----> 1\u001b[0;31m \u001b[0mx_train_test\u001b[0m\u001b[0;34m.\u001b[0m\u001b[0mshape\u001b[0m\u001b[0;34m\u001b[0m\u001b[0;34m\u001b[0m\u001b[0m\n\u001b[0m",
            "\u001b[0;31mNameError\u001b[0m: name 'x_train_test' is not defined"
          ]
        }
      ]
    },
    {
      "cell_type": "code",
      "source": [
        "from sklearn.preprocessing import Normalizer "
      ],
      "metadata": {
        "id": "yR3Zo6-EDFr8"
      },
      "execution_count": 12,
      "outputs": []
    },
    {
      "cell_type": "code",
      "source": [
        "import nltk\n",
        "import sklearn\n",
        "\n",
        "print('The nltk version is {}.'.format(nltk.__version__))\n",
        "print('The scikit-learn version is {}.'.format(sklearn.__version__))"
      ],
      "metadata": {
        "colab": {
          "base_uri": "https://localhost:8080/"
        },
        "id": "lZ0W19DuDq0Q",
        "outputId": "e9ea89e7-03ff-42ad-8444-4df87e68ceb1"
      },
      "execution_count": 13,
      "outputs": [
        {
          "output_type": "stream",
          "name": "stdout",
          "text": [
            "The nltk version is 3.7.\n",
            "The scikit-learn version is 1.0.2.\n"
          ]
        }
      ]
    },
    {
      "cell_type": "code",
      "source": [
        "#this is about wjere "
      ],
      "metadata": {
        "id": "FswE4rvn7veQ"
      },
      "execution_count": 14,
      "outputs": []
    },
    {
      "cell_type": "code",
      "source": [
        "train[0][0].max(axis=(0,1))"
      ],
      "metadata": {
        "colab": {
          "base_uri": "https://localhost:8080/"
        },
        "id": "ZfGV0gA5JZiW",
        "outputId": "de324d52-15f8-41d5-8abf-11fde8b442c7"
      },
      "execution_count": 15,
      "outputs": [
        {
          "output_type": "execute_result",
          "data": {
            "text/plain": [
              "253"
            ]
          },
          "metadata": {},
          "execution_count": 15
        }
      ]
    },
    {
      "cell_type": "code",
      "source": [
        "from sklearn.linear_model import LinearRegression, LogisticRegression\n",
        "from sklearn.metrics import log_loss"
      ],
      "metadata": {
        "id": "k69goUgiMqKL"
      },
      "execution_count": 16,
      "outputs": []
    },
    {
      "cell_type": "code",
      "source": [
        "from sklearn.decomposition import PCA, NMF, FactorAnalysis"
      ],
      "metadata": {
        "id": "Q3dAWvSedqWn"
      },
      "execution_count": 17,
      "outputs": []
    },
    {
      "cell_type": "code",
      "source": [
        "x_train_r = x_train_arr.reshape(5216, 22500)"
      ],
      "metadata": {
        "id": "zOwfKEDKUH2_"
      },
      "execution_count": 18,
      "outputs": []
    },
    {
      "cell_type": "code",
      "source": [
        "x_test_r = x_test_arr.reshape(624, 22500)"
      ],
      "metadata": {
        "id": "bUGL40aFlLi5"
      },
      "execution_count": 19,
      "outputs": []
    },
    {
      "cell_type": "code",
      "source": [
        "x_train_r.shape\n"
      ],
      "metadata": {
        "colab": {
          "base_uri": "https://localhost:8080/"
        },
        "id": "qfNjxUBfhzfw",
        "outputId": "8044b15b-89bc-4d19-e175-4589a66f34ca"
      },
      "execution_count": 20,
      "outputs": [
        {
          "output_type": "execute_result",
          "data": {
            "text/plain": [
              "(5216, 22500)"
            ]
          },
          "metadata": {},
          "execution_count": 20
        }
      ]
    },
    {
      "cell_type": "code",
      "source": [
        "from sklearn.preprocessing import StandardScaler\n",
        "scaler= StandardScaler()\n",
        "\n",
        "x_train_ss = scaler.fit_transform(x_train_r)\n",
        "\n",
        "x_test_ss = scaler.transform(x_test_r)"
      ],
      "metadata": {
        "id": "IHnKZKrp-mdD"
      },
      "execution_count": 21,
      "outputs": []
    },
    {
      "cell_type": "code",
      "source": [
        "x_train_ss"
      ],
      "metadata": {
        "colab": {
          "base_uri": "https://localhost:8080/"
        },
        "id": "PJGI18qcAeVd",
        "outputId": "38af8e47-4286-41f0-919e-c0c0d6c561be"
      },
      "execution_count": 22,
      "outputs": [
        {
          "output_type": "execute_result",
          "data": {
            "text/plain": [
              "array([[-0.15212669, -0.24597799, -0.14148533, ...,  0.75895635,\n",
              "         0.75211377,  0.70264568],\n",
              "       [-0.91597833, -0.92948245, -1.00900282, ..., -0.57001125,\n",
              "        -0.54824428, -0.53133202],\n",
              "       [-0.3570625 , -0.44602808, -0.43065783, ...,  2.45879862,\n",
              "         2.91937718,  1.0757087 ],\n",
              "       ...,\n",
              "       [ 0.68624706,  0.43752646,  0.55252866, ..., -0.57001125,\n",
              "        -0.54824428, -0.53133202],\n",
              "       [ 0.07143964,  0.12078049,  0.51397232, ..., -0.57001125,\n",
              "        -0.54824428, -0.53133202],\n",
              "       [-0.91597833, -0.92948245, -1.02828098, ..., -0.57001125,\n",
              "        -0.54824428, -0.53133202]])"
            ]
          },
          "metadata": {},
          "execution_count": 22
        }
      ]
    },
    {
      "cell_type": "code",
      "source": [
        "from sklearn.metrics import (classification_report, confusion_matrix, \n",
        "                             plot_confusion_matrix, roc_curve, auc,\n",
        "                             roc_auc_score, f1_score)\n",
        "\n",
        "from time import time "
      ],
      "metadata": {
        "id": "S1MpuTXhleWK"
      },
      "execution_count": 23,
      "outputs": []
    },
    {
      "cell_type": "code",
      "source": [
        "# We fit the first logistic regression without modifying the X\n",
        "t0 = time()\n",
        "clf = LogisticRegression()\n",
        "clf.fit (x_train_ss, y_train)\n",
        "print(f\"With {x_train_ss.shape[1]} variables it is done in %0.3fs\" % (time() - t0))\n",
        "print(f'score : {round(clf.score(x_test_ss, y_test), 3)}')"
      ],
      "metadata": {
        "colab": {
          "base_uri": "https://localhost:8080/"
        },
        "id": "MnFUAccLnJfv",
        "outputId": "3cf7d512-ad70-43bd-a63d-d758b7dfbf08"
      },
      "execution_count": 24,
      "outputs": [
        {
          "output_type": "stream",
          "name": "stdout",
          "text": [
            "With 22500 variables it is done in 20.639s\n",
            "score : 0.772\n"
          ]
        },
        {
          "output_type": "stream",
          "name": "stderr",
          "text": [
            "/usr/local/lib/python3.7/dist-packages/sklearn/linear_model/_logistic.py:818: ConvergenceWarning: lbfgs failed to converge (status=1):\n",
            "STOP: TOTAL NO. of ITERATIONS REACHED LIMIT.\n",
            "\n",
            "Increase the number of iterations (max_iter) or scale the data as shown in:\n",
            "    https://scikit-learn.org/stable/modules/preprocessing.html\n",
            "Please also refer to the documentation for alternative solver options:\n",
            "    https://scikit-learn.org/stable/modules/linear_model.html#logistic-regression\n",
            "  extra_warning_msg=_LOGISTIC_SOLVER_CONVERGENCE_MSG,\n"
          ]
        }
      ]
    },
    {
      "cell_type": "code",
      "source": [
        "# We first applying PCA on X before fitting the logistic regression\n",
        "dim = PCA(400)\n",
        "x_train_PCA = dim.fit_transform(x_train_ss)\n",
        "x_test_PCA = dim.transform(x_test_ss)\n"
      ],
      "metadata": {
        "id": "0vp38nIknKZG"
      },
      "execution_count": 25,
      "outputs": []
    },
    {
      "cell_type": "code",
      "source": [
        "\n",
        "t0 = time()\n",
        "clf = LogisticRegression()\n",
        "clf.fit (x_train_PCA, y_train)\n",
        "print(\"With 400 variables, it is done in %0.3fs\" % (time() - t0))\n",
        "print(f\"score: {round(clf.score(x_test_PCA, y_test), 3)}\")"
      ],
      "metadata": {
        "colab": {
          "base_uri": "https://localhost:8080/"
        },
        "id": "OwzpuZS8k5VV",
        "outputId": "7cb85e86-4cb2-4aa3-fe11-32ea66444aa2"
      },
      "execution_count": 26,
      "outputs": [
        {
          "output_type": "stream",
          "name": "stdout",
          "text": [
            "With 400 variables, it is done in 0.319s\n",
            "score: 0.737\n"
          ]
        },
        {
          "output_type": "stream",
          "name": "stderr",
          "text": [
            "/usr/local/lib/python3.7/dist-packages/sklearn/linear_model/_logistic.py:818: ConvergenceWarning: lbfgs failed to converge (status=1):\n",
            "STOP: TOTAL NO. of ITERATIONS REACHED LIMIT.\n",
            "\n",
            "Increase the number of iterations (max_iter) or scale the data as shown in:\n",
            "    https://scikit-learn.org/stable/modules/preprocessing.html\n",
            "Please also refer to the documentation for alternative solver options:\n",
            "    https://scikit-learn.org/stable/modules/linear_model.html#logistic-regression\n",
            "  extra_warning_msg=_LOGISTIC_SOLVER_CONVERGENCE_MSG,\n"
          ]
        }
      ]
    },
    {
      "cell_type": "code",
      "source": [
        "# my_model = LogisticRegression(\n",
        "#             C=1e3,             # Smaller values -> more regularization\n",
        "#             max_iter=1e3,      # Ensure we eventually reach a solution\n",
        "#             solver='lbfgs',    # (Default) Can optimize depending on problem\n",
        "#             multi_class='ovr'  # (Default) Will try to do multiclass classification \n",
        "# )"
      ],
      "metadata": {
        "id": "3yqGlu6xcs56"
      },
      "execution_count": null,
      "outputs": []
    },
    {
      "cell_type": "code",
      "source": [
        "# Fit/Train the model\n",
        "# my_model.fit(x_train_PCA, y_train)\n",
        "# my_model"
      ],
      "metadata": {
        "id": "VgIHo2DOs1qq"
      },
      "execution_count": null,
      "outputs": []
    },
    {
      "cell_type": "code",
      "source": [
        "from sklearn.model_selection import train_test_split, cross_validate"
      ],
      "metadata": {
        "id": "-tlbOYpHtnXm"
      },
      "execution_count": 27,
      "outputs": []
    },
    {
      "cell_type": "markdown",
      "source": [
        ""
      ],
      "metadata": {
        "id": "EMCeKKEGt7RU"
      }
    },
    {
      "cell_type": "code",
      "source": [
        "cv_results = cross_validate(\n",
        "                    estimator=clf,\n",
        "                    X=x_train_PCA,\n",
        "                    y=y_train,\n",
        "                    cv=5,\n",
        "                    return_train_score=True\n",
        ")"
      ],
      "metadata": {
        "id": "1wgZRSWAs1yN",
        "colab": {
          "base_uri": "https://localhost:8080/"
        },
        "outputId": "bb23564a-e075-466f-d52a-84b9a1f3d2b0"
      },
      "execution_count": 29,
      "outputs": [
        {
          "output_type": "stream",
          "name": "stderr",
          "text": [
            "/usr/local/lib/python3.7/dist-packages/sklearn/linear_model/_logistic.py:818: ConvergenceWarning: lbfgs failed to converge (status=1):\n",
            "STOP: TOTAL NO. of ITERATIONS REACHED LIMIT.\n",
            "\n",
            "Increase the number of iterations (max_iter) or scale the data as shown in:\n",
            "    https://scikit-learn.org/stable/modules/preprocessing.html\n",
            "Please also refer to the documentation for alternative solver options:\n",
            "    https://scikit-learn.org/stable/modules/linear_model.html#logistic-regression\n",
            "  extra_warning_msg=_LOGISTIC_SOLVER_CONVERGENCE_MSG,\n",
            "/usr/local/lib/python3.7/dist-packages/sklearn/linear_model/_logistic.py:818: ConvergenceWarning: lbfgs failed to converge (status=1):\n",
            "STOP: TOTAL NO. of ITERATIONS REACHED LIMIT.\n",
            "\n",
            "Increase the number of iterations (max_iter) or scale the data as shown in:\n",
            "    https://scikit-learn.org/stable/modules/preprocessing.html\n",
            "Please also refer to the documentation for alternative solver options:\n",
            "    https://scikit-learn.org/stable/modules/linear_model.html#logistic-regression\n",
            "  extra_warning_msg=_LOGISTIC_SOLVER_CONVERGENCE_MSG,\n",
            "/usr/local/lib/python3.7/dist-packages/sklearn/linear_model/_logistic.py:818: ConvergenceWarning: lbfgs failed to converge (status=1):\n",
            "STOP: TOTAL NO. of ITERATIONS REACHED LIMIT.\n",
            "\n",
            "Increase the number of iterations (max_iter) or scale the data as shown in:\n",
            "    https://scikit-learn.org/stable/modules/preprocessing.html\n",
            "Please also refer to the documentation for alternative solver options:\n",
            "    https://scikit-learn.org/stable/modules/linear_model.html#logistic-regression\n",
            "  extra_warning_msg=_LOGISTIC_SOLVER_CONVERGENCE_MSG,\n",
            "/usr/local/lib/python3.7/dist-packages/sklearn/linear_model/_logistic.py:818: ConvergenceWarning: lbfgs failed to converge (status=1):\n",
            "STOP: TOTAL NO. of ITERATIONS REACHED LIMIT.\n",
            "\n",
            "Increase the number of iterations (max_iter) or scale the data as shown in:\n",
            "    https://scikit-learn.org/stable/modules/preprocessing.html\n",
            "Please also refer to the documentation for alternative solver options:\n",
            "    https://scikit-learn.org/stable/modules/linear_model.html#logistic-regression\n",
            "  extra_warning_msg=_LOGISTIC_SOLVER_CONVERGENCE_MSG,\n",
            "/usr/local/lib/python3.7/dist-packages/sklearn/linear_model/_logistic.py:818: ConvergenceWarning: lbfgs failed to converge (status=1):\n",
            "STOP: TOTAL NO. of ITERATIONS REACHED LIMIT.\n",
            "\n",
            "Increase the number of iterations (max_iter) or scale the data as shown in:\n",
            "    https://scikit-learn.org/stable/modules/preprocessing.html\n",
            "Please also refer to the documentation for alternative solver options:\n",
            "    https://scikit-learn.org/stable/modules/linear_model.html#logistic-regression\n",
            "  extra_warning_msg=_LOGISTIC_SOLVER_CONVERGENCE_MSG,\n"
          ]
        }
      ]
    },
    {
      "cell_type": "code",
      "source": [
        "cv_results"
      ],
      "metadata": {
        "colab": {
          "base_uri": "https://localhost:8080/"
        },
        "id": "CTze3-3j5dNX",
        "outputId": "7de5e0cb-ac24-4341-d42d-155f732821f4"
      },
      "execution_count": 30,
      "outputs": [
        {
          "output_type": "execute_result",
          "data": {
            "text/plain": [
              "{'fit_time': array([0.26202893, 0.25851846, 0.23527694, 0.23115063, 0.28242922]),\n",
              " 'score_time': array([0.00939107, 0.00167656, 0.0047915 , 0.00169659, 0.00168276]),\n",
              " 'test_score': array([0.95402299, 0.92905081, 0.93863854, 0.92329818, 0.92713327]),\n",
              " 'train_score': array([0.99736337, 0.99976036, 0.99520728, 0.99832255, 0.99976036])}"
            ]
          },
          "metadata": {},
          "execution_count": 30
        }
      ]
    },
    {
      "cell_type": "code",
      "source": [
        "cv_results['train_score']"
      ],
      "metadata": {
        "colab": {
          "base_uri": "https://localhost:8080/"
        },
        "id": "lFOF7ixFs12l",
        "outputId": "29ab57a6-5652-4f99-ead5-6f070a8570c3"
      },
      "execution_count": 31,
      "outputs": [
        {
          "output_type": "execute_result",
          "data": {
            "text/plain": [
              "array([0.99736337, 0.99976036, 0.99520728, 0.99832255, 0.99976036])"
            ]
          },
          "metadata": {},
          "execution_count": 31
        }
      ]
    },
    {
      "cell_type": "code",
      "source": [
        "cv_results['test_score']"
      ],
      "metadata": {
        "colab": {
          "base_uri": "https://localhost:8080/"
        },
        "id": "-HJxuMm7s1-2",
        "outputId": "19868819-dc3d-432f-e2e7-8efbd85b77ba"
      },
      "execution_count": 32,
      "outputs": [
        {
          "output_type": "execute_result",
          "data": {
            "text/plain": [
              "array([0.95402299, 0.92905081, 0.93863854, 0.92329818, 0.92713327])"
            ]
          },
          "metadata": {},
          "execution_count": 32
        }
      ]
    },
    {
      "cell_type": "code",
      "source": [
        "def cv_overall(cv_results):\n",
        "    val_results = cv_results['test_score']\n",
        "    result_str = f'{val_results.mean():.3f} ± {val_results.std():.3f}'\n",
        "    return result_str"
      ],
      "metadata": {
        "id": "wsTKymTKcs83"
      },
      "execution_count": 33,
      "outputs": []
    },
    {
      "cell_type": "code",
      "source": [
        "# # Let's save these results for later\n",
        "# models = {}\n",
        "\n",
        "# models['model_1'] = {'model': my_model, 'cv':cv_results}"
      ],
      "metadata": {
        "id": "0iFMko78uGQB"
      },
      "execution_count": null,
      "outputs": []
    },
    {
      "cell_type": "code",
      "source": [
        "# # Adjust the regularization C (remember for logistical, smaller = stronger penalization )\n",
        "# c_values = [1e-1, 1e2, 1e4, 1e6]\n",
        "\n",
        "# #like above, could also try different solvers \n",
        "# #solver = ['sag', 'lbfgs', 'saga']\n",
        "\n",
        "# # Start at #2 since we have \"model_1\" already\n",
        "# for i, c in enumerate(c_values, start=2):\n",
        "    \n",
        "#     print(f'Model #{i} with C={c}')\n",
        "#     new_model = LogisticRegression(C=c, max_iter=1e3)\n",
        "    \n",
        "#     # Cross-validation\n",
        "#     print('Cross-validating model with training data...')\n",
        "#     cv_results = cross_validate(\n",
        "#                     estimator=new_model,\n",
        "#                     X=x_train_PCA,\n",
        "#                     y=y_train,\n",
        "#                     #solver = ...\n",
        "#                     cv=5,\n",
        "#                     return_train_score=True\n",
        "#     )\n",
        "#     print(f'\\tCross-Validation Score: {cv_overall(cv_results)}')\n",
        "    \n",
        "#     # Train/fit with the full training set\n",
        "#     #print('Fitting model to full training set...')\n",
        "#     #new_model.fit(x_train_PCA, y_train)\n",
        "#     #train_score = new_model.score(x_train_PCA, y_train)\n",
        "#     #print(f'\\tScore on training set: {train_score:.3f}')\n",
        "    \n",
        "#     # Save results\n",
        "#     print('Saving Results...')\n",
        "#     models[f'model_{i}'] = {'model': new_model, 'cv': cv_results}\n",
        "    \n",
        "#     print('\\n','-'*30,'\\n')"
      ],
      "metadata": {
        "id": "DzJZ7lVRuGax"
      },
      "execution_count": null,
      "outputs": []
    },
    {
      "cell_type": "code",
      "source": [
        "# best_model = models['model_2']['model']\n",
        "# best_model"
      ],
      "metadata": {
        "id": "ikcnc7S9uGgv"
      },
      "execution_count": null,
      "outputs": []
    },
    {
      "cell_type": "code",
      "source": [
        ""
      ],
      "metadata": {
        "id": "aKLBZa2MuG_f"
      },
      "execution_count": null,
      "outputs": []
    },
    {
      "cell_type": "code",
      "source": [
        ""
      ],
      "metadata": {
        "id": "ROTXXGPH7l-d"
      },
      "execution_count": null,
      "outputs": []
    },
    {
      "cell_type": "code",
      "source": [
        ""
      ],
      "metadata": {
        "id": "U2TMbnb47mAy"
      },
      "execution_count": null,
      "outputs": []
    },
    {
      "cell_type": "code",
      "source": [
        ""
      ],
      "metadata": {
        "id": "4DiZkXku7mDy"
      },
      "execution_count": null,
      "outputs": []
    },
    {
      "cell_type": "code",
      "source": [
        "# # Normalize the data\n",
        "# x_train = np.array(x_train) / 253\n",
        "# x_val = np.array(x_val) / 253\n",
        "# x_test = np.array(x_test) / 253"
      ],
      "metadata": {
        "id": "Es94PPE6_cX0"
      },
      "execution_count": null,
      "outputs": []
    },
    {
      "cell_type": "code",
      "source": [
        "#turn into arrays \n",
        "x_train = np.array(x_train) \n",
        "x_val = np.array(x_val) \n",
        "x_test = np.array(x_test) "
      ],
      "metadata": {
        "id": "Yw7uXwfBctCU"
      },
      "execution_count": 35,
      "outputs": []
    },
    {
      "cell_type": "code",
      "source": [
        ""
      ],
      "metadata": {
        "id": "vUv3dGKwctFZ"
      },
      "execution_count": 35,
      "outputs": []
    },
    {
      "cell_type": "code",
      "source": [
        "# resize data for deep learning \n",
        "x_train = x_train.reshape(-1, img_size, img_size, 1)\n",
        "y_train = np.array(y_train)\n",
        "\n",
        "x_val = x_val.reshape(-1, img_size, img_size, 1)\n",
        "y_val = np.array(y_val)\n",
        "\n",
        "x_test = x_test.reshape(-1, img_size, img_size, 1)\n",
        "y_test = np.array(y_test)"
      ],
      "metadata": {
        "id": "t0zlAX9-KgwN"
      },
      "execution_count": 36,
      "outputs": []
    },
    {
      "cell_type": "code",
      "source": [
        "print(x_train.shape)\n",
        "print(x_val.shape)\n",
        "print(x_test.shape)\n",
        "\n",
        "\n"
      ],
      "metadata": {
        "colab": {
          "base_uri": "https://localhost:8080/"
        },
        "id": "k0dLx-bsHsDo",
        "outputId": "e13c61ea-745f-4721-c16b-12836f5ed3f0"
      },
      "execution_count": 37,
      "outputs": [
        {
          "output_type": "stream",
          "name": "stdout",
          "text": [
            "(5216, 150, 150, 1)\n",
            "(16, 150, 150, 1)\n",
            "(624, 150, 150, 1)\n"
          ]
        }
      ]
    },
    {
      "cell_type": "code",
      "source": [
        "train_img = x_train.reshape(x_train.shape[0], -1)\n",
        "test_img = x_test.reshape(x_test.shape[0], -1)\n",
        "val_img = x_val.reshape(x_val.shape[0], -1)\n",
        "\n",
        "print(train_img.shape)\n",
        "print(test_img.shape)\n",
        "print(val_img.shape)"
      ],
      "metadata": {
        "colab": {
          "base_uri": "https://localhost:8080/"
        },
        "id": "_BEhvkwiIPUj",
        "outputId": "e150ade0-7a18-4dbb-c27f-49c7ceeb2f1e"
      },
      "execution_count": 38,
      "outputs": [
        {
          "output_type": "stream",
          "name": "stdout",
          "text": [
            "(5216, 22500)\n",
            "(624, 22500)\n",
            "(16, 22500)\n"
          ]
        }
      ]
    },
    {
      "cell_type": "code",
      "source": [
        "y_train.shape"
      ],
      "metadata": {
        "colab": {
          "base_uri": "https://localhost:8080/"
        },
        "id": "cFYjUn8BKfC2",
        "outputId": "e722555c-cd5f-48fa-94f1-778c9581fcfd"
      },
      "execution_count": 39,
      "outputs": [
        {
          "output_type": "execute_result",
          "data": {
            "text/plain": [
              "(5216,)"
            ]
          },
          "metadata": {},
          "execution_count": 39
        }
      ]
    },
    {
      "cell_type": "code",
      "source": [
        ""
      ],
      "metadata": {
        "id": "m9BRwkcKIPkg"
      },
      "execution_count": 39,
      "outputs": []
    },
    {
      "cell_type": "markdown",
      "source": [
        "## Baseline CNN Model"
      ],
      "metadata": {
        "id": "kqp_xSdWkgau"
      }
    },
    {
      "cell_type": "code",
      "source": [
        "import tensorflow as tf\n",
        "from matplotlib import pyplot as plt\n",
        "from tensorflow.keras import datasets, layers, models\n",
        "\n",
        "\n",
        "# Build a baseline fully connected model\n",
        "from keras import models\n",
        "from keras import layers\n",
        "np.random.seed(123)\n",
        "model = models.Sequential()\n",
        "model.add(layers.Dense(20, activation='relu', input_shape=(22500,))) # 2 hidden layers\n",
        "model.add(layers.Dense(7, activation='relu'))\n",
        "model.add(layers.Dense(5, activation='relu'))\n",
        "model.add(layers.Dense(1, activation='sigmoid'))"
      ],
      "metadata": {
        "id": "bKU2djg6ymc-"
      },
      "execution_count": 40,
      "outputs": []
    },
    {
      "cell_type": "code",
      "source": [
        "model.compile(optimizer='sgd',\n",
        "              loss='binary_crossentropy',\n",
        "              metrics=['accuracy'])\n",
        "\n",
        "histoire = model.fit(train_img,\n",
        "                    y_train,\n",
        "                    epochs=50,\n",
        "                    batch_size=32,\n",
        "                    validation_data=(val_img, y_val))"
      ],
      "metadata": {
        "id": "-Ia3DfKw0OSG",
        "colab": {
          "base_uri": "https://localhost:8080/"
        },
        "outputId": "236a28ed-1409-4f01-c3b1-fe689cba73d9"
      },
      "execution_count": 41,
      "outputs": [
        {
          "output_type": "stream",
          "name": "stdout",
          "text": [
            "Epoch 1/50\n",
            "163/163 [==============================] - 3s 9ms/step - loss: 7764.4688 - accuracy: 0.7412 - val_loss: 0.7064 - val_accuracy: 0.5000\n",
            "Epoch 2/50\n",
            "163/163 [==============================] - 1s 8ms/step - loss: 0.6105 - accuracy: 0.7429 - val_loss: 0.7299 - val_accuracy: 0.5000\n",
            "Epoch 3/50\n",
            "163/163 [==============================] - 1s 8ms/step - loss: 0.5897 - accuracy: 0.7429 - val_loss: 0.7522 - val_accuracy: 0.5000\n",
            "Epoch 4/50\n",
            "163/163 [==============================] - 1s 8ms/step - loss: 0.5799 - accuracy: 0.7429 - val_loss: 0.7707 - val_accuracy: 0.5000\n",
            "Epoch 5/50\n",
            "163/163 [==============================] - 1s 8ms/step - loss: 0.5751 - accuracy: 0.7429 - val_loss: 0.7852 - val_accuracy: 0.5000\n",
            "Epoch 6/50\n",
            "163/163 [==============================] - 1s 8ms/step - loss: 0.5726 - accuracy: 0.7429 - val_loss: 0.7963 - val_accuracy: 0.5000\n",
            "Epoch 7/50\n",
            "163/163 [==============================] - 1s 8ms/step - loss: 0.5714 - accuracy: 0.7429 - val_loss: 0.8045 - val_accuracy: 0.5000\n",
            "Epoch 8/50\n",
            "163/163 [==============================] - 1s 8ms/step - loss: 0.5707 - accuracy: 0.7429 - val_loss: 0.8108 - val_accuracy: 0.5000\n",
            "Epoch 9/50\n",
            "163/163 [==============================] - 1s 8ms/step - loss: 0.5704 - accuracy: 0.7429 - val_loss: 0.8153 - val_accuracy: 0.5000\n",
            "Epoch 10/50\n",
            "163/163 [==============================] - 1s 8ms/step - loss: 0.5702 - accuracy: 0.7429 - val_loss: 0.8187 - val_accuracy: 0.5000\n",
            "Epoch 11/50\n",
            "163/163 [==============================] - 1s 8ms/step - loss: 0.5701 - accuracy: 0.7429 - val_loss: 0.8212 - val_accuracy: 0.5000\n",
            "Epoch 12/50\n",
            "163/163 [==============================] - 1s 8ms/step - loss: 0.5701 - accuracy: 0.7429 - val_loss: 0.8229 - val_accuracy: 0.5000\n",
            "Epoch 13/50\n",
            "163/163 [==============================] - 1s 8ms/step - loss: 0.5700 - accuracy: 0.7429 - val_loss: 0.8241 - val_accuracy: 0.5000\n",
            "Epoch 14/50\n",
            "163/163 [==============================] - 1s 8ms/step - loss: 0.5700 - accuracy: 0.7429 - val_loss: 0.8250 - val_accuracy: 0.5000\n",
            "Epoch 15/50\n",
            "163/163 [==============================] - 1s 8ms/step - loss: 0.5700 - accuracy: 0.7429 - val_loss: 0.8257 - val_accuracy: 0.5000\n",
            "Epoch 16/50\n",
            "163/163 [==============================] - 1s 8ms/step - loss: 0.5700 - accuracy: 0.7429 - val_loss: 0.8261 - val_accuracy: 0.5000\n",
            "Epoch 17/50\n",
            "163/163 [==============================] - 1s 8ms/step - loss: 0.5700 - accuracy: 0.7429 - val_loss: 0.8266 - val_accuracy: 0.5000\n",
            "Epoch 18/50\n",
            "163/163 [==============================] - 1s 7ms/step - loss: 0.5700 - accuracy: 0.7429 - val_loss: 0.8269 - val_accuracy: 0.5000\n",
            "Epoch 19/50\n",
            "163/163 [==============================] - 1s 7ms/step - loss: 0.5700 - accuracy: 0.7429 - val_loss: 0.8273 - val_accuracy: 0.5000\n",
            "Epoch 20/50\n",
            "163/163 [==============================] - 1s 8ms/step - loss: 0.5700 - accuracy: 0.7429 - val_loss: 0.8274 - val_accuracy: 0.5000\n",
            "Epoch 21/50\n",
            "163/163 [==============================] - 1s 8ms/step - loss: 0.5700 - accuracy: 0.7429 - val_loss: 0.8272 - val_accuracy: 0.5000\n",
            "Epoch 22/50\n",
            "163/163 [==============================] - 1s 8ms/step - loss: 0.5700 - accuracy: 0.7429 - val_loss: 0.8274 - val_accuracy: 0.5000\n",
            "Epoch 23/50\n",
            "163/163 [==============================] - 1s 8ms/step - loss: 0.5700 - accuracy: 0.7429 - val_loss: 0.8277 - val_accuracy: 0.5000\n",
            "Epoch 24/50\n",
            "163/163 [==============================] - 1s 8ms/step - loss: 0.5700 - accuracy: 0.7429 - val_loss: 0.8278 - val_accuracy: 0.5000\n",
            "Epoch 25/50\n",
            "163/163 [==============================] - 1s 8ms/step - loss: 0.5700 - accuracy: 0.7429 - val_loss: 0.8278 - val_accuracy: 0.5000\n",
            "Epoch 26/50\n",
            "163/163 [==============================] - 1s 8ms/step - loss: 0.5700 - accuracy: 0.7429 - val_loss: 0.8279 - val_accuracy: 0.5000\n",
            "Epoch 27/50\n",
            "163/163 [==============================] - 1s 7ms/step - loss: 0.5700 - accuracy: 0.7429 - val_loss: 0.8278 - val_accuracy: 0.5000\n",
            "Epoch 28/50\n",
            "163/163 [==============================] - 1s 7ms/step - loss: 0.5700 - accuracy: 0.7429 - val_loss: 0.8278 - val_accuracy: 0.5000\n",
            "Epoch 29/50\n",
            "163/163 [==============================] - 1s 8ms/step - loss: 0.5700 - accuracy: 0.7429 - val_loss: 0.8278 - val_accuracy: 0.5000\n",
            "Epoch 30/50\n",
            "163/163 [==============================] - 1s 8ms/step - loss: 0.5700 - accuracy: 0.7429 - val_loss: 0.8278 - val_accuracy: 0.5000\n",
            "Epoch 31/50\n",
            "163/163 [==============================] - 1s 8ms/step - loss: 0.5700 - accuracy: 0.7429 - val_loss: 0.8280 - val_accuracy: 0.5000\n",
            "Epoch 32/50\n",
            "163/163 [==============================] - 1s 8ms/step - loss: 0.5700 - accuracy: 0.7429 - val_loss: 0.8281 - val_accuracy: 0.5000\n",
            "Epoch 33/50\n",
            "163/163 [==============================] - 1s 8ms/step - loss: 0.5700 - accuracy: 0.7429 - val_loss: 0.8280 - val_accuracy: 0.5000\n",
            "Epoch 34/50\n",
            "163/163 [==============================] - 1s 8ms/step - loss: 0.5700 - accuracy: 0.7429 - val_loss: 0.8283 - val_accuracy: 0.5000\n",
            "Epoch 35/50\n",
            "163/163 [==============================] - 2s 10ms/step - loss: 0.5700 - accuracy: 0.7429 - val_loss: 0.8280 - val_accuracy: 0.5000\n",
            "Epoch 36/50\n",
            "163/163 [==============================] - 2s 13ms/step - loss: 0.5700 - accuracy: 0.7429 - val_loss: 0.8280 - val_accuracy: 0.5000\n",
            "Epoch 37/50\n",
            "163/163 [==============================] - 1s 7ms/step - loss: 0.5700 - accuracy: 0.7429 - val_loss: 0.8280 - val_accuracy: 0.5000\n",
            "Epoch 38/50\n",
            "163/163 [==============================] - 1s 8ms/step - loss: 0.5700 - accuracy: 0.7429 - val_loss: 0.8277 - val_accuracy: 0.5000\n",
            "Epoch 39/50\n",
            "163/163 [==============================] - 1s 8ms/step - loss: 0.5700 - accuracy: 0.7429 - val_loss: 0.8276 - val_accuracy: 0.5000\n",
            "Epoch 40/50\n",
            "163/163 [==============================] - 1s 7ms/step - loss: 0.5700 - accuracy: 0.7429 - val_loss: 0.8278 - val_accuracy: 0.5000\n",
            "Epoch 41/50\n",
            "163/163 [==============================] - 1s 8ms/step - loss: 0.5700 - accuracy: 0.7429 - val_loss: 0.8280 - val_accuracy: 0.5000\n",
            "Epoch 42/50\n",
            "163/163 [==============================] - 1s 9ms/step - loss: 0.5700 - accuracy: 0.7429 - val_loss: 0.8278 - val_accuracy: 0.5000\n",
            "Epoch 43/50\n",
            "163/163 [==============================] - 2s 15ms/step - loss: 0.5700 - accuracy: 0.7429 - val_loss: 0.8280 - val_accuracy: 0.5000\n",
            "Epoch 44/50\n",
            "163/163 [==============================] - 2s 9ms/step - loss: 0.5700 - accuracy: 0.7429 - val_loss: 0.8282 - val_accuracy: 0.5000\n",
            "Epoch 45/50\n",
            "163/163 [==============================] - 1s 8ms/step - loss: 0.5700 - accuracy: 0.7429 - val_loss: 0.8280 - val_accuracy: 0.5000\n",
            "Epoch 46/50\n",
            "163/163 [==============================] - 1s 8ms/step - loss: 0.5700 - accuracy: 0.7429 - val_loss: 0.8277 - val_accuracy: 0.5000\n",
            "Epoch 47/50\n",
            "163/163 [==============================] - 1s 7ms/step - loss: 0.5700 - accuracy: 0.7429 - val_loss: 0.8279 - val_accuracy: 0.5000\n",
            "Epoch 48/50\n",
            "163/163 [==============================] - 1s 7ms/step - loss: 0.5700 - accuracy: 0.7429 - val_loss: 0.8277 - val_accuracy: 0.5000\n",
            "Epoch 49/50\n",
            "163/163 [==============================] - 1s 7ms/step - loss: 0.5700 - accuracy: 0.7429 - val_loss: 0.8275 - val_accuracy: 0.5000\n",
            "Epoch 50/50\n",
            "163/163 [==============================] - 1s 7ms/step - loss: 0.5700 - accuracy: 0.7429 - val_loss: 0.8274 - val_accuracy: 0.5000\n"
          ]
        }
      ]
    },
    {
      "cell_type": "code",
      "source": [
        "results_train = model.evaluate(train_img, y_train)"
      ],
      "metadata": {
        "id": "uIlyVS5X0OUj",
        "colab": {
          "base_uri": "https://localhost:8080/"
        },
        "outputId": "bb98429f-2621-431e-e5c5-4d8f63351dda"
      },
      "execution_count": 42,
      "outputs": [
        {
          "output_type": "stream",
          "name": "stdout",
          "text": [
            "163/163 [==============================] - 1s 5ms/step - loss: 0.5700 - accuracy: 0.7429\n"
          ]
        }
      ]
    },
    {
      "cell_type": "code",
      "source": [
        "results_test = model.evaluate(test_img, y_test)"
      ],
      "metadata": {
        "id": "9wQp9Yfw0OXu",
        "colab": {
          "base_uri": "https://localhost:8080/"
        },
        "outputId": "727f34be-2b6c-4b49-bcd5-13384df35cc3"
      },
      "execution_count": 43,
      "outputs": [
        {
          "output_type": "stream",
          "name": "stdout",
          "text": [
            "20/20 [==============================] - 0s 5ms/step - loss: 0.6950 - accuracy: 0.6250\n"
          ]
        }
      ]
    },
    {
      "cell_type": "code",
      "source": [
        "results_train"
      ],
      "metadata": {
        "id": "fw57wSA40OaK",
        "colab": {
          "base_uri": "https://localhost:8080/"
        },
        "outputId": "0568f39e-0630-4049-f8c2-eddc142dc28c"
      },
      "execution_count": 44,
      "outputs": [
        {
          "output_type": "execute_result",
          "data": {
            "text/plain": [
              "[0.5699948668479919, 0.7429064512252808]"
            ]
          },
          "metadata": {},
          "execution_count": 44
        }
      ]
    },
    {
      "cell_type": "code",
      "source": [
        "results_test"
      ],
      "metadata": {
        "id": "ITc03zCP0OeQ",
        "colab": {
          "base_uri": "https://localhost:8080/"
        },
        "outputId": "14f8c006-0723-4131-aad5-7a786a3e30b0"
      },
      "execution_count": 45,
      "outputs": [
        {
          "output_type": "execute_result",
          "data": {
            "text/plain": [
              "[0.6949604749679565, 0.625]"
            ]
          },
          "metadata": {},
          "execution_count": 45
        }
      ]
    },
    {
      "cell_type": "code",
      "source": [
        ""
      ],
      "metadata": {
        "id": "GdMLuQli0Ogh"
      },
      "execution_count": null,
      "outputs": []
    },
    {
      "cell_type": "markdown",
      "source": [
        "## Build a CNN"
      ],
      "metadata": {
        "id": "v6qPYywzMBef"
      }
    },
    {
      "cell_type": "code",
      "source": [
        "model = models.Sequential()\n",
        "model.add(layers.Conv2D(32, (3, 3), activation='relu',\n",
        "                        input_shape=(150 ,150,  1)))\n",
        "model.add(layers.MaxPooling2D((2, 2)))\n",
        "\n",
        "model.add(layers.Conv2D(32, (4, 4), activation='relu'))\n",
        "model.add(layers.MaxPooling2D((2, 2)))\n",
        "\n",
        "model.add(layers.Conv2D(64, (3, 3), activation='relu'))\n",
        "model.add(layers.MaxPooling2D((2, 2)))\n",
        "\n",
        "model.add(layers.Flatten())\n",
        "model.add(layers.Dense(64, activation='relu'))\n",
        "model.add(layers.Dense(1, activation='sigmoid'))\n",
        "\n",
        "model.compile(loss='binary_crossentropy',\n",
        "              optimizer=\"sgd\",\n",
        "              metrics=['acc'])"
      ],
      "metadata": {
        "id": "MJAq-34vMCmf"
      },
      "execution_count": 46,
      "outputs": []
    },
    {
      "cell_type": "code",
      "source": [
        "# Normalize the data\n",
        "x_train = np.array(x_train) / 253\n",
        "x_val = np.array(x_val) / 253\n",
        "x_test = np.array(x_test) / 253"
      ],
      "metadata": {
        "id": "naXj3Mz6SckK"
      },
      "execution_count": 47,
      "outputs": []
    },
    {
      "cell_type": "code",
      "source": [
        "history = model.fit(x_train,\n",
        "                    y_train,\n",
        "                    epochs=15,\n",
        "                    batch_size=32,\n",
        "                    validation_data=(x_val, y_val))"
      ],
      "metadata": {
        "colab": {
          "base_uri": "https://localhost:8080/",
          "height": 398
        },
        "id": "tTfWuoADMCs9",
        "outputId": "f53b7390-658e-439a-9958-383e34860577"
      },
      "execution_count": 48,
      "outputs": [
        {
          "output_type": "stream",
          "name": "stdout",
          "text": [
            "Epoch 1/15\n",
            "  7/163 [>.............................] - ETA: 2:22 - loss: 0.6488 - acc: 0.7500"
          ]
        },
        {
          "output_type": "error",
          "ename": "KeyboardInterrupt",
          "evalue": "ignored",
          "traceback": [
            "\u001b[0;31m---------------------------------------------------------------------------\u001b[0m",
            "\u001b[0;31mKeyboardInterrupt\u001b[0m                         Traceback (most recent call last)",
            "\u001b[0;32m<ipython-input-48-812e2be4172e>\u001b[0m in \u001b[0;36m<module>\u001b[0;34m()\u001b[0m\n\u001b[1;32m      3\u001b[0m                     \u001b[0mepochs\u001b[0m\u001b[0;34m=\u001b[0m\u001b[0;36m15\u001b[0m\u001b[0;34m,\u001b[0m\u001b[0;34m\u001b[0m\u001b[0;34m\u001b[0m\u001b[0m\n\u001b[1;32m      4\u001b[0m                     \u001b[0mbatch_size\u001b[0m\u001b[0;34m=\u001b[0m\u001b[0;36m32\u001b[0m\u001b[0;34m,\u001b[0m\u001b[0;34m\u001b[0m\u001b[0;34m\u001b[0m\u001b[0m\n\u001b[0;32m----> 5\u001b[0;31m                     validation_data=(x_val, y_val))\n\u001b[0m",
            "\u001b[0;32m/usr/local/lib/python3.7/dist-packages/keras/utils/traceback_utils.py\u001b[0m in \u001b[0;36merror_handler\u001b[0;34m(*args, **kwargs)\u001b[0m\n\u001b[1;32m     62\u001b[0m     \u001b[0mfiltered_tb\u001b[0m \u001b[0;34m=\u001b[0m \u001b[0;32mNone\u001b[0m\u001b[0;34m\u001b[0m\u001b[0;34m\u001b[0m\u001b[0m\n\u001b[1;32m     63\u001b[0m     \u001b[0;32mtry\u001b[0m\u001b[0;34m:\u001b[0m\u001b[0;34m\u001b[0m\u001b[0;34m\u001b[0m\u001b[0m\n\u001b[0;32m---> 64\u001b[0;31m       \u001b[0;32mreturn\u001b[0m \u001b[0mfn\u001b[0m\u001b[0;34m(\u001b[0m\u001b[0;34m*\u001b[0m\u001b[0margs\u001b[0m\u001b[0;34m,\u001b[0m \u001b[0;34m**\u001b[0m\u001b[0mkwargs\u001b[0m\u001b[0;34m)\u001b[0m\u001b[0;34m\u001b[0m\u001b[0;34m\u001b[0m\u001b[0m\n\u001b[0m\u001b[1;32m     65\u001b[0m     \u001b[0;32mexcept\u001b[0m \u001b[0mException\u001b[0m \u001b[0;32mas\u001b[0m \u001b[0me\u001b[0m\u001b[0;34m:\u001b[0m  \u001b[0;31m# pylint: disable=broad-except\u001b[0m\u001b[0;34m\u001b[0m\u001b[0;34m\u001b[0m\u001b[0m\n\u001b[1;32m     66\u001b[0m       \u001b[0mfiltered_tb\u001b[0m \u001b[0;34m=\u001b[0m \u001b[0m_process_traceback_frames\u001b[0m\u001b[0;34m(\u001b[0m\u001b[0me\u001b[0m\u001b[0;34m.\u001b[0m\u001b[0m__traceback__\u001b[0m\u001b[0;34m)\u001b[0m\u001b[0;34m\u001b[0m\u001b[0;34m\u001b[0m\u001b[0m\n",
            "\u001b[0;32m/usr/local/lib/python3.7/dist-packages/keras/engine/training.py\u001b[0m in \u001b[0;36mfit\u001b[0;34m(self, x, y, batch_size, epochs, verbose, callbacks, validation_split, validation_data, shuffle, class_weight, sample_weight, initial_epoch, steps_per_epoch, validation_steps, validation_batch_size, validation_freq, max_queue_size, workers, use_multiprocessing)\u001b[0m\n\u001b[1;32m   1382\u001b[0m                 _r=1):\n\u001b[1;32m   1383\u001b[0m               \u001b[0mcallbacks\u001b[0m\u001b[0;34m.\u001b[0m\u001b[0mon_train_batch_begin\u001b[0m\u001b[0;34m(\u001b[0m\u001b[0mstep\u001b[0m\u001b[0;34m)\u001b[0m\u001b[0;34m\u001b[0m\u001b[0;34m\u001b[0m\u001b[0m\n\u001b[0;32m-> 1384\u001b[0;31m               \u001b[0mtmp_logs\u001b[0m \u001b[0;34m=\u001b[0m \u001b[0mself\u001b[0m\u001b[0;34m.\u001b[0m\u001b[0mtrain_function\u001b[0m\u001b[0;34m(\u001b[0m\u001b[0miterator\u001b[0m\u001b[0;34m)\u001b[0m\u001b[0;34m\u001b[0m\u001b[0;34m\u001b[0m\u001b[0m\n\u001b[0m\u001b[1;32m   1385\u001b[0m               \u001b[0;32mif\u001b[0m \u001b[0mdata_handler\u001b[0m\u001b[0;34m.\u001b[0m\u001b[0mshould_sync\u001b[0m\u001b[0;34m:\u001b[0m\u001b[0;34m\u001b[0m\u001b[0;34m\u001b[0m\u001b[0m\n\u001b[1;32m   1386\u001b[0m                 \u001b[0mcontext\u001b[0m\u001b[0;34m.\u001b[0m\u001b[0masync_wait\u001b[0m\u001b[0;34m(\u001b[0m\u001b[0;34m)\u001b[0m\u001b[0;34m\u001b[0m\u001b[0;34m\u001b[0m\u001b[0m\n",
            "\u001b[0;32m/usr/local/lib/python3.7/dist-packages/tensorflow/python/util/traceback_utils.py\u001b[0m in \u001b[0;36merror_handler\u001b[0;34m(*args, **kwargs)\u001b[0m\n\u001b[1;32m    148\u001b[0m     \u001b[0mfiltered_tb\u001b[0m \u001b[0;34m=\u001b[0m \u001b[0;32mNone\u001b[0m\u001b[0;34m\u001b[0m\u001b[0;34m\u001b[0m\u001b[0m\n\u001b[1;32m    149\u001b[0m     \u001b[0;32mtry\u001b[0m\u001b[0;34m:\u001b[0m\u001b[0;34m\u001b[0m\u001b[0;34m\u001b[0m\u001b[0m\n\u001b[0;32m--> 150\u001b[0;31m       \u001b[0;32mreturn\u001b[0m \u001b[0mfn\u001b[0m\u001b[0;34m(\u001b[0m\u001b[0;34m*\u001b[0m\u001b[0margs\u001b[0m\u001b[0;34m,\u001b[0m \u001b[0;34m**\u001b[0m\u001b[0mkwargs\u001b[0m\u001b[0;34m)\u001b[0m\u001b[0;34m\u001b[0m\u001b[0;34m\u001b[0m\u001b[0m\n\u001b[0m\u001b[1;32m    151\u001b[0m     \u001b[0;32mexcept\u001b[0m \u001b[0mException\u001b[0m \u001b[0;32mas\u001b[0m \u001b[0me\u001b[0m\u001b[0;34m:\u001b[0m\u001b[0;34m\u001b[0m\u001b[0;34m\u001b[0m\u001b[0m\n\u001b[1;32m    152\u001b[0m       \u001b[0mfiltered_tb\u001b[0m \u001b[0;34m=\u001b[0m \u001b[0m_process_traceback_frames\u001b[0m\u001b[0;34m(\u001b[0m\u001b[0me\u001b[0m\u001b[0;34m.\u001b[0m\u001b[0m__traceback__\u001b[0m\u001b[0;34m)\u001b[0m\u001b[0;34m\u001b[0m\u001b[0;34m\u001b[0m\u001b[0m\n",
            "\u001b[0;32m/usr/local/lib/python3.7/dist-packages/tensorflow/python/eager/def_function.py\u001b[0m in \u001b[0;36m__call__\u001b[0;34m(self, *args, **kwds)\u001b[0m\n\u001b[1;32m    913\u001b[0m \u001b[0;34m\u001b[0m\u001b[0m\n\u001b[1;32m    914\u001b[0m       \u001b[0;32mwith\u001b[0m \u001b[0mOptionalXlaContext\u001b[0m\u001b[0;34m(\u001b[0m\u001b[0mself\u001b[0m\u001b[0;34m.\u001b[0m\u001b[0m_jit_compile\u001b[0m\u001b[0;34m)\u001b[0m\u001b[0;34m:\u001b[0m\u001b[0;34m\u001b[0m\u001b[0;34m\u001b[0m\u001b[0m\n\u001b[0;32m--> 915\u001b[0;31m         \u001b[0mresult\u001b[0m \u001b[0;34m=\u001b[0m \u001b[0mself\u001b[0m\u001b[0;34m.\u001b[0m\u001b[0m_call\u001b[0m\u001b[0;34m(\u001b[0m\u001b[0;34m*\u001b[0m\u001b[0margs\u001b[0m\u001b[0;34m,\u001b[0m \u001b[0;34m**\u001b[0m\u001b[0mkwds\u001b[0m\u001b[0;34m)\u001b[0m\u001b[0;34m\u001b[0m\u001b[0;34m\u001b[0m\u001b[0m\n\u001b[0m\u001b[1;32m    916\u001b[0m \u001b[0;34m\u001b[0m\u001b[0m\n\u001b[1;32m    917\u001b[0m       \u001b[0mnew_tracing_count\u001b[0m \u001b[0;34m=\u001b[0m \u001b[0mself\u001b[0m\u001b[0;34m.\u001b[0m\u001b[0mexperimental_get_tracing_count\u001b[0m\u001b[0;34m(\u001b[0m\u001b[0;34m)\u001b[0m\u001b[0;34m\u001b[0m\u001b[0;34m\u001b[0m\u001b[0m\n",
            "\u001b[0;32m/usr/local/lib/python3.7/dist-packages/tensorflow/python/eager/def_function.py\u001b[0m in \u001b[0;36m_call\u001b[0;34m(self, *args, **kwds)\u001b[0m\n\u001b[1;32m    945\u001b[0m       \u001b[0;31m# In this case we have created variables on the first call, so we run the\u001b[0m\u001b[0;34m\u001b[0m\u001b[0;34m\u001b[0m\u001b[0;34m\u001b[0m\u001b[0m\n\u001b[1;32m    946\u001b[0m       \u001b[0;31m# defunned version which is guaranteed to never create variables.\u001b[0m\u001b[0;34m\u001b[0m\u001b[0;34m\u001b[0m\u001b[0;34m\u001b[0m\u001b[0m\n\u001b[0;32m--> 947\u001b[0;31m       \u001b[0;32mreturn\u001b[0m \u001b[0mself\u001b[0m\u001b[0;34m.\u001b[0m\u001b[0m_stateless_fn\u001b[0m\u001b[0;34m(\u001b[0m\u001b[0;34m*\u001b[0m\u001b[0margs\u001b[0m\u001b[0;34m,\u001b[0m \u001b[0;34m**\u001b[0m\u001b[0mkwds\u001b[0m\u001b[0;34m)\u001b[0m  \u001b[0;31m# pylint: disable=not-callable\u001b[0m\u001b[0;34m\u001b[0m\u001b[0;34m\u001b[0m\u001b[0m\n\u001b[0m\u001b[1;32m    948\u001b[0m     \u001b[0;32melif\u001b[0m \u001b[0mself\u001b[0m\u001b[0;34m.\u001b[0m\u001b[0m_stateful_fn\u001b[0m \u001b[0;32mis\u001b[0m \u001b[0;32mnot\u001b[0m \u001b[0;32mNone\u001b[0m\u001b[0;34m:\u001b[0m\u001b[0;34m\u001b[0m\u001b[0;34m\u001b[0m\u001b[0m\n\u001b[1;32m    949\u001b[0m       \u001b[0;31m# Release the lock early so that multiple threads can perform the call\u001b[0m\u001b[0;34m\u001b[0m\u001b[0;34m\u001b[0m\u001b[0;34m\u001b[0m\u001b[0m\n",
            "\u001b[0;32m/usr/local/lib/python3.7/dist-packages/tensorflow/python/eager/function.py\u001b[0m in \u001b[0;36m__call__\u001b[0;34m(self, *args, **kwargs)\u001b[0m\n\u001b[1;32m   2955\u001b[0m        filtered_flat_args) = self._maybe_define_function(args, kwargs)\n\u001b[1;32m   2956\u001b[0m     return graph_function._call_flat(\n\u001b[0;32m-> 2957\u001b[0;31m         filtered_flat_args, captured_inputs=graph_function.captured_inputs)  # pylint: disable=protected-access\n\u001b[0m\u001b[1;32m   2958\u001b[0m \u001b[0;34m\u001b[0m\u001b[0m\n\u001b[1;32m   2959\u001b[0m   \u001b[0;34m@\u001b[0m\u001b[0mproperty\u001b[0m\u001b[0;34m\u001b[0m\u001b[0;34m\u001b[0m\u001b[0m\n",
            "\u001b[0;32m/usr/local/lib/python3.7/dist-packages/tensorflow/python/eager/function.py\u001b[0m in \u001b[0;36m_call_flat\u001b[0;34m(self, args, captured_inputs, cancellation_manager)\u001b[0m\n\u001b[1;32m   1852\u001b[0m       \u001b[0;31m# No tape is watching; skip to running the function.\u001b[0m\u001b[0;34m\u001b[0m\u001b[0;34m\u001b[0m\u001b[0;34m\u001b[0m\u001b[0m\n\u001b[1;32m   1853\u001b[0m       return self._build_call_outputs(self._inference_function.call(\n\u001b[0;32m-> 1854\u001b[0;31m           ctx, args, cancellation_manager=cancellation_manager))\n\u001b[0m\u001b[1;32m   1855\u001b[0m     forward_backward = self._select_forward_and_backward_functions(\n\u001b[1;32m   1856\u001b[0m         \u001b[0margs\u001b[0m\u001b[0;34m,\u001b[0m\u001b[0;34m\u001b[0m\u001b[0;34m\u001b[0m\u001b[0m\n",
            "\u001b[0;32m/usr/local/lib/python3.7/dist-packages/tensorflow/python/eager/function.py\u001b[0m in \u001b[0;36mcall\u001b[0;34m(self, ctx, args, cancellation_manager)\u001b[0m\n\u001b[1;32m    502\u001b[0m               \u001b[0minputs\u001b[0m\u001b[0;34m=\u001b[0m\u001b[0margs\u001b[0m\u001b[0;34m,\u001b[0m\u001b[0;34m\u001b[0m\u001b[0;34m\u001b[0m\u001b[0m\n\u001b[1;32m    503\u001b[0m               \u001b[0mattrs\u001b[0m\u001b[0;34m=\u001b[0m\u001b[0mattrs\u001b[0m\u001b[0;34m,\u001b[0m\u001b[0;34m\u001b[0m\u001b[0;34m\u001b[0m\u001b[0m\n\u001b[0;32m--> 504\u001b[0;31m               ctx=ctx)\n\u001b[0m\u001b[1;32m    505\u001b[0m         \u001b[0;32melse\u001b[0m\u001b[0;34m:\u001b[0m\u001b[0;34m\u001b[0m\u001b[0;34m\u001b[0m\u001b[0m\n\u001b[1;32m    506\u001b[0m           outputs = execute.execute_with_cancellation(\n",
            "\u001b[0;32m/usr/local/lib/python3.7/dist-packages/tensorflow/python/eager/execute.py\u001b[0m in \u001b[0;36mquick_execute\u001b[0;34m(op_name, num_outputs, inputs, attrs, ctx, name)\u001b[0m\n\u001b[1;32m     53\u001b[0m     \u001b[0mctx\u001b[0m\u001b[0;34m.\u001b[0m\u001b[0mensure_initialized\u001b[0m\u001b[0;34m(\u001b[0m\u001b[0;34m)\u001b[0m\u001b[0;34m\u001b[0m\u001b[0;34m\u001b[0m\u001b[0m\n\u001b[1;32m     54\u001b[0m     tensors = pywrap_tfe.TFE_Py_Execute(ctx._handle, device_name, op_name,\n\u001b[0;32m---> 55\u001b[0;31m                                         inputs, attrs, num_outputs)\n\u001b[0m\u001b[1;32m     56\u001b[0m   \u001b[0;32mexcept\u001b[0m \u001b[0mcore\u001b[0m\u001b[0;34m.\u001b[0m\u001b[0m_NotOkStatusException\u001b[0m \u001b[0;32mas\u001b[0m \u001b[0me\u001b[0m\u001b[0;34m:\u001b[0m\u001b[0;34m\u001b[0m\u001b[0;34m\u001b[0m\u001b[0m\n\u001b[1;32m     57\u001b[0m     \u001b[0;32mif\u001b[0m \u001b[0mname\u001b[0m \u001b[0;32mis\u001b[0m \u001b[0;32mnot\u001b[0m \u001b[0;32mNone\u001b[0m\u001b[0;34m:\u001b[0m\u001b[0;34m\u001b[0m\u001b[0;34m\u001b[0m\u001b[0m\n",
            "\u001b[0;31mKeyboardInterrupt\u001b[0m: "
          ]
        }
      ]
    },
    {
      "cell_type": "code",
      "source": [
        ""
      ],
      "metadata": {
        "id": "i2Epex1lMCvc"
      },
      "execution_count": null,
      "outputs": []
    },
    {
      "cell_type": "code",
      "source": [
        ""
      ],
      "metadata": {
        "id": "cKw9kM7BMCz4"
      },
      "execution_count": null,
      "outputs": []
    },
    {
      "cell_type": "code",
      "source": [
        ""
      ],
      "metadata": {
        "id": "yHzlTTdpMC2e"
      },
      "execution_count": null,
      "outputs": []
    },
    {
      "cell_type": "code",
      "source": [
        ""
      ],
      "metadata": {
        "id": "F86oCuJYMC6H"
      },
      "execution_count": null,
      "outputs": []
    },
    {
      "cell_type": "code",
      "source": [
        ""
      ],
      "metadata": {
        "id": "zdc-GP97MC8y"
      },
      "execution_count": null,
      "outputs": []
    },
    {
      "cell_type": "code",
      "source": [
        "# With data augmentation to prevent overfitting and handling the imbalance in dataset\n",
        "\n",
        "datagen = ImageDataGenerator(\n",
        "        featurewise_center=False,  # set input mean to 0 over the dataset\n",
        "        samplewise_center=False,  # set each sample mean to 0\n",
        "        featurewise_std_normalization=False,  # divide inputs by std of the dataset\n",
        "        samplewise_std_normalization=False,  # divide each input by its std\n",
        "        zca_whitening=False,  # apply ZCA whitening\n",
        "        rotation_range = 30,  # randomly rotate images in the range (degrees, 0 to 180)\n",
        "        zoom_range = 0.2, # Randomly zoom image \n",
        "        width_shift_range=0.1,  # randomly shift images horizontally (fraction of total width)\n",
        "        height_shift_range=0.1,  # randomly shift images vertically (fraction of total height)\n",
        "        horizontal_flip = True,  # randomly flip images\n",
        "        vertical_flip=False)  # randomly flip images\n",
        "\n",
        "\n",
        "datagen.fit(x_train)"
      ],
      "metadata": {
        "id": "iy30z0vNLnUf"
      },
      "execution_count": null,
      "outputs": []
    }
  ]
}